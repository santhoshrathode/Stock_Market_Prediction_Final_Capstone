{
 "cells": [
  {
   "attachments": {},
   "cell_type": "markdown",
   "metadata": {},
   "source": [
    "# Stock Price Prediction using Machine Learning\n",
    "# Capstone Report\n",
    "\n",
    "# Domain Background\n",
    "\n",
    "In Today’s market investing in a stock is a biggest challenge to the investors. Stocks prices are unpredictable, it depends on various factors such as social media, political, financial, crisis, global relationship, demand, president and many more. Buying a stock means buying a part of the company.  Making money or losing money depends on stock price up and down, so predicting price of the stock is the biggest achievement for the investors. \n",
    "\n",
    "Number of companies from Small to large businesses are trading publicly on the world stock market with billions of investors. Platform is so simple that anyone can choose any stock exchange and invest with min amount. In order to get more profit out of stock market one should play smartly with good strategy. That can be achieved by building best Machine Learning models to predict the future trend by using past historical data and event driven indicators.  \n",
    "\n",
    "Herbart Alexander Simon says that “Machine learning is concerned with computer programs that automatically improve their performance through experience.” The field of prediction is primarily focused on minimizing the errors and giving more accurate predictions.\n",
    "\n",
    "# Motivation\n",
    "\n",
    "As like everyone, I also started investing in stock market and still I am not clear that how stock market is going up and down. Once I took this Machine Learning Engineer program I started analyzing data, models and methodologies, then I am able to understand. For this Nanodegree project I am choosing the project of my interest, so I can show more interest towards my ML program.\n",
    "\n",
    "# Problem Statement\n",
    "\n",
    "Prediction stock market is not that easy and at the same time it’s not that tough. Stock market is a complex and forecasting is characterized by data intensity, events, hidden relationships and nature of the market. Predicting fluctuating price with time in stock market is quite difficult. \n",
    "\n",
    "Prediction in investment and trading is ongoing research, as part of this Nanodegree capstone project I am going to predict the stock price by using well-known machine learning models. I will be considering past 8 years of time-series historical data for selected stock. \n",
    "\n",
    "# Solution Statement\n",
    "\n",
    "There are number of algorithms/models to predict time-series based problems. In this project I don’t want to jump to top model with all possible indicators to predict stocks. As a beginner I am going to complete project by applying simple supervised learning methods, which I learned from this Nanodegree course. This time-series based project is the regression problem and proposed solution involved applying Long Short-Term Memory (LSTM) from recurrent neural network architecture. Decision Tree Regression model for the benchmarking. In addition to the proposal I am going to use two other models for this project Support Vector Regressor (SVM )and Random Forest.\n",
    "For the model I am going to use 8 years of historical data with few technical indicators such as moving average convergence-divergence (MACD), relative strength index (RSI) and simple moving average (SMA).\n",
    "I will compare both the benchmark and solution models and provide more insights.\n",
    "\n",
    "Optional: As of now I am thinking of these models to implement for this project but once I start implementing I might think of better models and better technical indicators to use for this project. \n",
    "\n",
    "\n",
    "# Project Design\n",
    "\n",
    "Project will be completed on the Jupyter Notebook with python language. This project requires pandas, numpy, scikit-learn, keras, matplotlib and seaborn libraries so I will be using importing this before I start. \n",
    "Development code will  found in stock_prediction.ipynb notebook.\n",
    "\n",
    "Machine Learning Work Flow:\n",
    "\n",
    "1.\tData Collection, Exploration and Preprocessing\n",
    "2.\tData visualization\n",
    "3.\tFeature selection/Technical indicator selection\n",
    "4.\tNormalize the data\n",
    "5.\tSplit the data into Train, Test and Validation sets\n",
    "6.\tImplementing model prediction and evaluation \n",
    "7.\tFinally, compare the result with benchmark model.\n"
   ]
  },
  {
   "cell_type": "markdown",
   "metadata": {},
   "source": [
    "# Import Libraries and Modules"
   ]
  },
  {
   "cell_type": "code",
   "execution_count": 1,
   "metadata": {},
   "outputs": [
    {
     "name": "stderr",
     "output_type": "stream",
     "text": [
      "Using TensorFlow backend.\n",
      "/Users/santhosh/opt/anaconda3/lib/python3.7/site-packages/tensorflow/python/framework/dtypes.py:516: FutureWarning: Passing (type, 1) or '1type' as a synonym of type is deprecated; in a future version of numpy, it will be understood as (type, (1,)) / '(1,)type'.\n",
      "  _np_qint8 = np.dtype([(\"qint8\", np.int8, 1)])\n",
      "/Users/santhosh/opt/anaconda3/lib/python3.7/site-packages/tensorflow/python/framework/dtypes.py:517: FutureWarning: Passing (type, 1) or '1type' as a synonym of type is deprecated; in a future version of numpy, it will be understood as (type, (1,)) / '(1,)type'.\n",
      "  _np_quint8 = np.dtype([(\"quint8\", np.uint8, 1)])\n",
      "/Users/santhosh/opt/anaconda3/lib/python3.7/site-packages/tensorflow/python/framework/dtypes.py:518: FutureWarning: Passing (type, 1) or '1type' as a synonym of type is deprecated; in a future version of numpy, it will be understood as (type, (1,)) / '(1,)type'.\n",
      "  _np_qint16 = np.dtype([(\"qint16\", np.int16, 1)])\n",
      "/Users/santhosh/opt/anaconda3/lib/python3.7/site-packages/tensorflow/python/framework/dtypes.py:519: FutureWarning: Passing (type, 1) or '1type' as a synonym of type is deprecated; in a future version of numpy, it will be understood as (type, (1,)) / '(1,)type'.\n",
      "  _np_quint16 = np.dtype([(\"quint16\", np.uint16, 1)])\n",
      "/Users/santhosh/opt/anaconda3/lib/python3.7/site-packages/tensorflow/python/framework/dtypes.py:520: FutureWarning: Passing (type, 1) or '1type' as a synonym of type is deprecated; in a future version of numpy, it will be understood as (type, (1,)) / '(1,)type'.\n",
      "  _np_qint32 = np.dtype([(\"qint32\", np.int32, 1)])\n",
      "/Users/santhosh/opt/anaconda3/lib/python3.7/site-packages/tensorflow/python/framework/dtypes.py:525: FutureWarning: Passing (type, 1) or '1type' as a synonym of type is deprecated; in a future version of numpy, it will be understood as (type, (1,)) / '(1,)type'.\n",
      "  np_resource = np.dtype([(\"resource\", np.ubyte, 1)])\n",
      "/Users/santhosh/opt/anaconda3/lib/python3.7/site-packages/tensorboard/compat/tensorflow_stub/dtypes.py:541: FutureWarning: Passing (type, 1) or '1type' as a synonym of type is deprecated; in a future version of numpy, it will be understood as (type, (1,)) / '(1,)type'.\n",
      "  _np_qint8 = np.dtype([(\"qint8\", np.int8, 1)])\n",
      "/Users/santhosh/opt/anaconda3/lib/python3.7/site-packages/tensorboard/compat/tensorflow_stub/dtypes.py:542: FutureWarning: Passing (type, 1) or '1type' as a synonym of type is deprecated; in a future version of numpy, it will be understood as (type, (1,)) / '(1,)type'.\n",
      "  _np_quint8 = np.dtype([(\"quint8\", np.uint8, 1)])\n",
      "/Users/santhosh/opt/anaconda3/lib/python3.7/site-packages/tensorboard/compat/tensorflow_stub/dtypes.py:543: FutureWarning: Passing (type, 1) or '1type' as a synonym of type is deprecated; in a future version of numpy, it will be understood as (type, (1,)) / '(1,)type'.\n",
      "  _np_qint16 = np.dtype([(\"qint16\", np.int16, 1)])\n",
      "/Users/santhosh/opt/anaconda3/lib/python3.7/site-packages/tensorboard/compat/tensorflow_stub/dtypes.py:544: FutureWarning: Passing (type, 1) or '1type' as a synonym of type is deprecated; in a future version of numpy, it will be understood as (type, (1,)) / '(1,)type'.\n",
      "  _np_quint16 = np.dtype([(\"quint16\", np.uint16, 1)])\n",
      "/Users/santhosh/opt/anaconda3/lib/python3.7/site-packages/tensorboard/compat/tensorflow_stub/dtypes.py:545: FutureWarning: Passing (type, 1) or '1type' as a synonym of type is deprecated; in a future version of numpy, it will be understood as (type, (1,)) / '(1,)type'.\n",
      "  _np_qint32 = np.dtype([(\"qint32\", np.int32, 1)])\n",
      "/Users/santhosh/opt/anaconda3/lib/python3.7/site-packages/tensorboard/compat/tensorflow_stub/dtypes.py:550: FutureWarning: Passing (type, 1) or '1type' as a synonym of type is deprecated; in a future version of numpy, it will be understood as (type, (1,)) / '(1,)type'.\n",
      "  np_resource = np.dtype([(\"resource\", np.ubyte, 1)])\n"
     ]
    }
   ],
   "source": [
    "import pandas as pd\n",
    "import numpy as np\n",
    "import os\n",
    "import matplotlib\n",
    "import matplotlib.pyplot as plt\n",
    "from matplotlib.pyplot import figure \n",
    "import matplotlib.dates as mdates\n",
    "import seaborn as sns\n",
    "%matplotlib inline\n",
    "\n",
    "from sklearn.preprocessing import MinMaxScaler #For Normalizing the data\n",
    "from sklearn.model_selection import TimeSeriesSplit #For splitting the data\n",
    "from sklearn.tree import DecisionTreeRegressor # For Benchmark model\n",
    "from sklearn.metrics import mean_squared_error, r2_score # For RMSE and R2 Score\n",
    "\n",
    "from sklearn.svm import SVR #for SVR model\n",
    "from sklearn.ensemble import RandomForestRegressor #for RandomForest model\n",
    "from sklearn.model_selection import GridSearchCV\n",
    "from keras.models import Sequential #Keras for solution LSTM model\n",
    "from keras.layers import Dense\n",
    "import keras.backend as K\n",
    "from keras.callbacks import EarlyStopping\n",
    "from keras.optimizers import Adam\n",
    "from keras.models import load_model\n",
    "from keras.layers import LSTM\n",
    "from keras.layers import Dropout\n"
   ]
  },
  {
   "attachments": {},
   "cell_type": "markdown",
   "metadata": {},
   "source": [
    "# 1.\tData Collection, Exploration and Preprocessing\n",
    "\n",
    "# Data Collection\n",
    "Selected data is downloaded from \n",
    "Stock market historical data can be found from many places, but I choose to download from https://finance.yahoo.com/. There are many web scraping API’s available to get the data based on selected dates. I downloaded CSV files, I am going to analyze 8 years of historical data from 2011-12-30 to 2019-12-30.\n",
    "\n",
    "For the stock prediction I am selecting two stocks from two different sectors one from Coffee house and another from Telecommunications. \n",
    "1.\tStarbucks (SBUX)\n",
    "2.\tATT (T)"
   ]
  },
  {
   "cell_type": "markdown",
   "metadata": {},
   "source": [
    "# Dataset Characteristics\n",
    "     Date :  Calendar date of the trading day \n",
    "     Open : Opining price of the trading day \n",
    "     High : Highest price of the stock traded during the day\n",
    "     Low : Lowest price of the stock traded during the day\n",
    "     Close : Closing price of the trading day\n",
    "     Adj Close : Adjusted closing price of the trading day\n",
    "     Volume : Number of shares traded in exchange during the day"
   ]
  },
  {
   "cell_type": "markdown",
   "metadata": {},
   "source": [
    "# Read CSV's"
   ]
  },
  {
   "cell_type": "code",
   "execution_count": 2,
   "metadata": {},
   "outputs": [],
   "source": [
    "#load data from csv, change index to date, parse_dates\n",
    "#path : csv file location\n",
    "path = \"/Users/santhosh/Desktop/Machine_Learning_Engineer/Stock_Prediction/data\"\n",
    "\n",
    "#reading CSV, assigning starbucks variable to starbucks data and att to att data.\n",
    "#Fixing date by parsing date columns\n",
    "starbucks = pd.read_csv(os.path.join(path, 'SBUX.csv'), index_col='Date',parse_dates=True,infer_datetime_format=True)\n",
    "att = pd.read_csv(os.path.join(path, 'T.csv'), index_col='Date',parse_dates=True,infer_datetime_format=True)"
   ]
  },
  {
   "attachments": {},
   "cell_type": "markdown",
   "metadata": {},
   "source": [
    "# Data Exploration and Preprocessing"
   ]
  },
  {
   "cell_type": "code",
   "execution_count": 3,
   "metadata": {},
   "outputs": [
    {
     "data": {
      "text/html": [
       "<div>\n",
       "<style scoped>\n",
       "    .dataframe tbody tr th:only-of-type {\n",
       "        vertical-align: middle;\n",
       "    }\n",
       "\n",
       "    .dataframe tbody tr th {\n",
       "        vertical-align: top;\n",
       "    }\n",
       "\n",
       "    .dataframe thead th {\n",
       "        text-align: right;\n",
       "    }\n",
       "</style>\n",
       "<table border=\"1\" class=\"dataframe\">\n",
       "  <thead>\n",
       "    <tr style=\"text-align: right;\">\n",
       "      <th></th>\n",
       "      <th>Open</th>\n",
       "      <th>High</th>\n",
       "      <th>Low</th>\n",
       "      <th>Close</th>\n",
       "      <th>Adj Close</th>\n",
       "      <th>Volume</th>\n",
       "    </tr>\n",
       "    <tr>\n",
       "      <th>Date</th>\n",
       "      <th></th>\n",
       "      <th></th>\n",
       "      <th></th>\n",
       "      <th></th>\n",
       "      <th></th>\n",
       "      <th></th>\n",
       "    </tr>\n",
       "  </thead>\n",
       "  <tbody>\n",
       "    <tr>\n",
       "      <th>2012-01-03</th>\n",
       "      <td>23.424999</td>\n",
       "      <td>23.520000</td>\n",
       "      <td>22.639999</td>\n",
       "      <td>22.645000</td>\n",
       "      <td>19.675068</td>\n",
       "      <td>12922400</td>\n",
       "    </tr>\n",
       "    <tr>\n",
       "      <th>2012-01-04</th>\n",
       "      <td>22.705000</td>\n",
       "      <td>23.315001</td>\n",
       "      <td>22.639999</td>\n",
       "      <td>23.084999</td>\n",
       "      <td>20.057360</td>\n",
       "      <td>13886800</td>\n",
       "    </tr>\n",
       "    <tr>\n",
       "      <th>2012-01-05</th>\n",
       "      <td>23.094999</td>\n",
       "      <td>23.200001</td>\n",
       "      <td>22.775000</td>\n",
       "      <td>23.180000</td>\n",
       "      <td>20.139898</td>\n",
       "      <td>9731800</td>\n",
       "    </tr>\n",
       "    <tr>\n",
       "      <th>2012-01-06</th>\n",
       "      <td>23.190001</td>\n",
       "      <td>23.455000</td>\n",
       "      <td>23.115000</td>\n",
       "      <td>23.360001</td>\n",
       "      <td>20.296291</td>\n",
       "      <td>8105400</td>\n",
       "    </tr>\n",
       "    <tr>\n",
       "      <th>2012-01-09</th>\n",
       "      <td>23.365000</td>\n",
       "      <td>23.400000</td>\n",
       "      <td>23.135000</td>\n",
       "      <td>23.295000</td>\n",
       "      <td>20.239815</td>\n",
       "      <td>7261600</td>\n",
       "    </tr>\n",
       "  </tbody>\n",
       "</table>\n",
       "</div>"
      ],
      "text/plain": [
       "                 Open       High        Low      Close  Adj Close    Volume\n",
       "Date                                                                       \n",
       "2012-01-03  23.424999  23.520000  22.639999  22.645000  19.675068  12922400\n",
       "2012-01-04  22.705000  23.315001  22.639999  23.084999  20.057360  13886800\n",
       "2012-01-05  23.094999  23.200001  22.775000  23.180000  20.139898   9731800\n",
       "2012-01-06  23.190001  23.455000  23.115000  23.360001  20.296291   8105400\n",
       "2012-01-09  23.365000  23.400000  23.135000  23.295000  20.239815   7261600"
      ]
     },
     "metadata": {},
     "output_type": "display_data"
    },
    {
     "data": {
      "image/png": "[encoded data removed]",
      "text/plain": [
       "<Figure size 432x288 with 1 Axes>"
      ]
     },
     "metadata": {
      "needs_background": "light"
     },
     "output_type": "display_data"
    }
   ],
   "source": [
    "#Starbucks sample data and trendline visualization\n",
    "display(starbucks.head())\n",
    "df_s = starbucks.drop(columns = ['Open','High', 'Low', 'Close', 'Volume'])\n",
    "plot = df_s.plot(title=\"Starbucks Stock Price Trendline\")\n",
    "plot.set_xlabel(\"Date\")\n",
    "plot.set_ylabel(\"Adj Close price\")    \n",
    "plt.show()"
   ]
  },
  {
   "cell_type": "code",
   "execution_count": 4,
   "metadata": {},
   "outputs": [
    {
     "data": {
      "text/html": [
       "<div>\n",
       "<style scoped>\n",
       "    .dataframe tbody tr th:only-of-type {\n",
       "        vertical-align: middle;\n",
       "    }\n",
       "\n",
       "    .dataframe tbody tr th {\n",
       "        vertical-align: top;\n",
       "    }\n",
       "\n",
       "    .dataframe thead th {\n",
       "        text-align: right;\n",
       "    }\n",
       "</style>\n",
       "<table border=\"1\" class=\"dataframe\">\n",
       "  <thead>\n",
       "    <tr style=\"text-align: right;\">\n",
       "      <th></th>\n",
       "      <th>Open</th>\n",
       "      <th>High</th>\n",
       "      <th>Low</th>\n",
       "      <th>Close</th>\n",
       "      <th>Adj Close</th>\n",
       "      <th>Volume</th>\n",
       "    </tr>\n",
       "    <tr>\n",
       "      <th>Date</th>\n",
       "      <th></th>\n",
       "      <th></th>\n",
       "      <th></th>\n",
       "      <th></th>\n",
       "      <th></th>\n",
       "      <th></th>\n",
       "    </tr>\n",
       "  </thead>\n",
       "  <tbody>\n",
       "    <tr>\n",
       "      <th>2011-12-30</th>\n",
       "      <td>30.100000</td>\n",
       "      <td>30.299999</td>\n",
       "      <td>30.080000</td>\n",
       "      <td>30.240000</td>\n",
       "      <td>19.111830</td>\n",
       "      <td>15687800</td>\n",
       "    </tr>\n",
       "    <tr>\n",
       "      <th>2012-01-03</th>\n",
       "      <td>30.459999</td>\n",
       "      <td>30.540001</td>\n",
       "      <td>30.299999</td>\n",
       "      <td>30.379999</td>\n",
       "      <td>19.200312</td>\n",
       "      <td>33005300</td>\n",
       "    </tr>\n",
       "    <tr>\n",
       "      <th>2012-01-04</th>\n",
       "      <td>30.580000</td>\n",
       "      <td>30.680000</td>\n",
       "      <td>30.350000</td>\n",
       "      <td>30.430000</td>\n",
       "      <td>19.231915</td>\n",
       "      <td>37213900</td>\n",
       "    </tr>\n",
       "    <tr>\n",
       "      <th>2012-01-05</th>\n",
       "      <td>30.490000</td>\n",
       "      <td>30.500000</td>\n",
       "      <td>30.180000</td>\n",
       "      <td>30.400000</td>\n",
       "      <td>19.212955</td>\n",
       "      <td>34457000</td>\n",
       "    </tr>\n",
       "    <tr>\n",
       "      <th>2012-01-06</th>\n",
       "      <td>30.070000</td>\n",
       "      <td>30.090000</td>\n",
       "      <td>29.600000</td>\n",
       "      <td>29.680000</td>\n",
       "      <td>19.033392</td>\n",
       "      <td>45580800</td>\n",
       "    </tr>\n",
       "  </tbody>\n",
       "</table>\n",
       "</div>"
      ],
      "text/plain": [
       "                 Open       High        Low      Close  Adj Close    Volume\n",
       "Date                                                                       \n",
       "2011-12-30  30.100000  30.299999  30.080000  30.240000  19.111830  15687800\n",
       "2012-01-03  30.459999  30.540001  30.299999  30.379999  19.200312  33005300\n",
       "2012-01-04  30.580000  30.680000  30.350000  30.430000  19.231915  37213900\n",
       "2012-01-05  30.490000  30.500000  30.180000  30.400000  19.212955  34457000\n",
       "2012-01-06  30.070000  30.090000  29.600000  29.680000  19.033392  45580800"
      ]
     },
     "metadata": {},
     "output_type": "display_data"
    },
    {
     "data": {
      "image/png": "[encoded data removed]",
      "text/plain": [
       "<Figure size 432x288 with 1 Axes>"
      ]
     },
     "metadata": {
      "needs_background": "light"
     },
     "output_type": "display_data"
    }
   ],
   "source": [
    "#ATT sample data and trendline visualization\n",
    "display(att.head())\n",
    "df_a = att.drop(columns = ['Open','High', 'Low', 'Close', 'Volume'])\n",
    "plot = df_a.plot(title=\"ATT Stock Price Trendline\")\n",
    "plot.set_xlabel(\"Date\")\n",
    "plot.set_ylabel(\"Adj Close price\")    \n",
    "plt.show()"
   ]
  },
  {
   "cell_type": "code",
   "execution_count": 5,
   "metadata": {},
   "outputs": [
    {
     "name": "stdout",
     "output_type": "stream",
     "text": [
      "Starbucks selected data has rows : 2011 and cloumns : 6 \n",
      "Att selected data has rows : 2012 and cloumns : 6 \n"
     ]
    }
   ],
   "source": [
    "#Check shpae of the data\n",
    "print(\"Starbucks selected data has rows : {} and cloumns : {} \".format(starbucks.shape[0], starbucks.shape[1]))\n",
    "print(\"Att selected data has rows : {} and cloumns : {} \".format(att.shape[0], starbucks.shape[1]))"
   ]
  },
  {
   "cell_type": "markdown",
   "metadata": {},
   "source": [
    "# check the data for missing values"
   ]
  },
  {
   "cell_type": "code",
   "execution_count": 6,
   "metadata": {},
   "outputs": [
    {
     "name": "stdout",
     "output_type": "stream",
     "text": [
      "Starbucks data has missing values : False\n",
      "Att data has missing values : False\n"
     ]
    }
   ],
   "source": [
    "#checking for nyuull values\n",
    "print(\"Starbucks data has missing values : {}\".format(starbucks.isnull().values.any()))\n",
    "print(\"Att data has missing values : {}\".format(att.isnull().values.any()))"
   ]
  },
  {
   "cell_type": "code",
   "execution_count": 7,
   "metadata": {},
   "outputs": [
    {
     "name": "stdout",
     "output_type": "stream",
     "text": [
      "<class 'pandas.core.frame.DataFrame'>\n",
      "DatetimeIndex: 2011 entries, 2012-01-03 to 2019-12-30\n",
      "Data columns (total 6 columns):\n",
      " #   Column     Non-Null Count  Dtype  \n",
      "---  ------     --------------  -----  \n",
      " 0   Open       2011 non-null   float64\n",
      " 1   High       2011 non-null   float64\n",
      " 2   Low        2011 non-null   float64\n",
      " 3   Close      2011 non-null   float64\n",
      " 4   Adj Close  2011 non-null   float64\n",
      " 5   Volume     2011 non-null   int64  \n",
      "dtypes: float64(5), int64(1)\n",
      "memory usage: 110.0 KB\n"
     ]
    },
    {
     "data": {
      "text/plain": [
       "None"
      ]
     },
     "metadata": {},
     "output_type": "display_data"
    },
    {
     "name": "stdout",
     "output_type": "stream",
     "text": [
      "<class 'pandas.core.frame.DataFrame'>\n",
      "DatetimeIndex: 2012 entries, 2011-12-30 to 2019-12-30\n",
      "Data columns (total 6 columns):\n",
      " #   Column     Non-Null Count  Dtype  \n",
      "---  ------     --------------  -----  \n",
      " 0   Open       2012 non-null   float64\n",
      " 1   High       2012 non-null   float64\n",
      " 2   Low        2012 non-null   float64\n",
      " 3   Close      2012 non-null   float64\n",
      " 4   Adj Close  2012 non-null   float64\n",
      " 5   Volume     2012 non-null   int64  \n",
      "dtypes: float64(5), int64(1)\n",
      "memory usage: 110.0 KB\n"
     ]
    },
    {
     "data": {
      "text/plain": [
       "None"
      ]
     },
     "metadata": {},
     "output_type": "display_data"
    }
   ],
   "source": [
    "#Basic info\n",
    "display(starbucks.info())\n",
    "display(att.info())"
   ]
  },
  {
   "cell_type": "code",
   "execution_count": 8,
   "metadata": {},
   "outputs": [
    {
     "name": "stdout",
     "output_type": "stream",
     "text": [
      "Starbucks - Global Statistics:\n"
     ]
    },
    {
     "data": {
      "text/html": [
       "<div>\n",
       "<style scoped>\n",
       "    .dataframe tbody tr th:only-of-type {\n",
       "        vertical-align: middle;\n",
       "    }\n",
       "\n",
       "    .dataframe tbody tr th {\n",
       "        vertical-align: top;\n",
       "    }\n",
       "\n",
       "    .dataframe thead th {\n",
       "        text-align: right;\n",
       "    }\n",
       "</style>\n",
       "<table border=\"1\" class=\"dataframe\">\n",
       "  <thead>\n",
       "    <tr style=\"text-align: right;\">\n",
       "      <th></th>\n",
       "      <th>Open</th>\n",
       "      <th>High</th>\n",
       "      <th>Low</th>\n",
       "      <th>Close</th>\n",
       "      <th>Adj Close</th>\n",
       "      <th>Volume</th>\n",
       "    </tr>\n",
       "  </thead>\n",
       "  <tbody>\n",
       "    <tr>\n",
       "      <th>count</th>\n",
       "      <td>2011.000000</td>\n",
       "      <td>2011.000000</td>\n",
       "      <td>2011.000000</td>\n",
       "      <td>2011.000000</td>\n",
       "      <td>2011.000000</td>\n",
       "      <td>2.011000e+03</td>\n",
       "    </tr>\n",
       "    <tr>\n",
       "      <th>mean</th>\n",
       "      <td>50.385403</td>\n",
       "      <td>50.795077</td>\n",
       "      <td>49.969863</td>\n",
       "      <td>50.395219</td>\n",
       "      <td>47.058367</td>\n",
       "      <td>1.012686e+07</td>\n",
       "    </tr>\n",
       "    <tr>\n",
       "      <th>std</th>\n",
       "      <td>17.108990</td>\n",
       "      <td>17.232945</td>\n",
       "      <td>16.972948</td>\n",
       "      <td>17.103142</td>\n",
       "      <td>17.561368</td>\n",
       "      <td>5.493606e+06</td>\n",
       "    </tr>\n",
       "    <tr>\n",
       "      <th>min</th>\n",
       "      <td>21.799999</td>\n",
       "      <td>22.090000</td>\n",
       "      <td>21.520000</td>\n",
       "      <td>21.580000</td>\n",
       "      <td>18.873688</td>\n",
       "      <td>1.847800e+06</td>\n",
       "    </tr>\n",
       "    <tr>\n",
       "      <th>25%</th>\n",
       "      <td>37.052499</td>\n",
       "      <td>37.387501</td>\n",
       "      <td>36.780000</td>\n",
       "      <td>37.012501</td>\n",
       "      <td>33.200750</td>\n",
       "      <td>6.792600e+06</td>\n",
       "    </tr>\n",
       "    <tr>\n",
       "      <th>50%</th>\n",
       "      <td>54.130001</td>\n",
       "      <td>54.580002</td>\n",
       "      <td>53.799999</td>\n",
       "      <td>54.189999</td>\n",
       "      <td>50.682381</td>\n",
       "      <td>8.593500e+06</td>\n",
       "    </tr>\n",
       "    <tr>\n",
       "      <th>75%</th>\n",
       "      <td>58.625000</td>\n",
       "      <td>59.155001</td>\n",
       "      <td>58.050001</td>\n",
       "      <td>58.635000</td>\n",
       "      <td>54.989284</td>\n",
       "      <td>1.173130e+07</td>\n",
       "    </tr>\n",
       "    <tr>\n",
       "      <th>max</th>\n",
       "      <td>98.139999</td>\n",
       "      <td>99.720001</td>\n",
       "      <td>97.209999</td>\n",
       "      <td>99.110001</td>\n",
       "      <td>97.239372</td>\n",
       "      <td>6.209110e+07</td>\n",
       "    </tr>\n",
       "  </tbody>\n",
       "</table>\n",
       "</div>"
      ],
      "text/plain": [
       "              Open         High          Low        Close    Adj Close  \\\n",
       "count  2011.000000  2011.000000  2011.000000  2011.000000  2011.000000   \n",
       "mean     50.385403    50.795077    49.969863    50.395219    47.058367   \n",
       "std      17.108990    17.232945    16.972948    17.103142    17.561368   \n",
       "min      21.799999    22.090000    21.520000    21.580000    18.873688   \n",
       "25%      37.052499    37.387501    36.780000    37.012501    33.200750   \n",
       "50%      54.130001    54.580002    53.799999    54.189999    50.682381   \n",
       "75%      58.625000    59.155001    58.050001    58.635000    54.989284   \n",
       "max      98.139999    99.720001    97.209999    99.110001    97.239372   \n",
       "\n",
       "             Volume  \n",
       "count  2.011000e+03  \n",
       "mean   1.012686e+07  \n",
       "std    5.493606e+06  \n",
       "min    1.847800e+06  \n",
       "25%    6.792600e+06  \n",
       "50%    8.593500e+06  \n",
       "75%    1.173130e+07  \n",
       "max    6.209110e+07  "
      ]
     },
     "metadata": {},
     "output_type": "display_data"
    },
    {
     "name": "stdout",
     "output_type": "stream",
     "text": [
      "\n",
      "ATT - Global Statistics:\n"
     ]
    },
    {
     "data": {
      "text/html": [
       "<div>\n",
       "<style scoped>\n",
       "    .dataframe tbody tr th:only-of-type {\n",
       "        vertical-align: middle;\n",
       "    }\n",
       "\n",
       "    .dataframe tbody tr th {\n",
       "        vertical-align: top;\n",
       "    }\n",
       "\n",
       "    .dataframe thead th {\n",
       "        text-align: right;\n",
       "    }\n",
       "</style>\n",
       "<table border=\"1\" class=\"dataframe\">\n",
       "  <thead>\n",
       "    <tr style=\"text-align: right;\">\n",
       "      <th></th>\n",
       "      <th>Open</th>\n",
       "      <th>High</th>\n",
       "      <th>Low</th>\n",
       "      <th>Close</th>\n",
       "      <th>Adj Close</th>\n",
       "      <th>Volume</th>\n",
       "    </tr>\n",
       "  </thead>\n",
       "  <tbody>\n",
       "    <tr>\n",
       "      <th>count</th>\n",
       "      <td>2012.000000</td>\n",
       "      <td>2012.000000</td>\n",
       "      <td>2012.000000</td>\n",
       "      <td>2012.000000</td>\n",
       "      <td>2012.000000</td>\n",
       "      <td>2.012000e+03</td>\n",
       "    </tr>\n",
       "    <tr>\n",
       "      <th>mean</th>\n",
       "      <td>35.343226</td>\n",
       "      <td>35.573255</td>\n",
       "      <td>35.094896</td>\n",
       "      <td>35.341690</td>\n",
       "      <td>27.924208</td>\n",
       "      <td>2.737767e+07</td>\n",
       "    </tr>\n",
       "    <tr>\n",
       "      <th>std</th>\n",
       "      <td>3.074129</td>\n",
       "      <td>3.079648</td>\n",
       "      <td>3.074469</td>\n",
       "      <td>3.082351</td>\n",
       "      <td>4.261648</td>\n",
       "      <td>1.363271e+07</td>\n",
       "    </tr>\n",
       "    <tr>\n",
       "      <th>min</th>\n",
       "      <td>27.500000</td>\n",
       "      <td>28.100000</td>\n",
       "      <td>26.799999</td>\n",
       "      <td>27.360001</td>\n",
       "      <td>18.699926</td>\n",
       "      <td>6.862400e+06</td>\n",
       "    </tr>\n",
       "    <tr>\n",
       "      <th>25%</th>\n",
       "      <td>33.320000</td>\n",
       "      <td>33.580002</td>\n",
       "      <td>33.067500</td>\n",
       "      <td>33.337501</td>\n",
       "      <td>24.760416</td>\n",
       "      <td>1.971698e+07</td>\n",
       "    </tr>\n",
       "    <tr>\n",
       "      <th>50%</th>\n",
       "      <td>35.009998</td>\n",
       "      <td>35.180000</td>\n",
       "      <td>34.779999</td>\n",
       "      <td>35.000000</td>\n",
       "      <td>26.892488</td>\n",
       "      <td>2.422520e+07</td>\n",
       "    </tr>\n",
       "    <tr>\n",
       "      <th>75%</th>\n",
       "      <td>37.422499</td>\n",
       "      <td>37.689999</td>\n",
       "      <td>37.140000</td>\n",
       "      <td>37.419998</td>\n",
       "      <td>31.423689</td>\n",
       "      <td>3.090855e+07</td>\n",
       "    </tr>\n",
       "    <tr>\n",
       "      <th>max</th>\n",
       "      <td>43.500000</td>\n",
       "      <td>43.889999</td>\n",
       "      <td>43.330002</td>\n",
       "      <td>43.470001</td>\n",
       "      <td>38.430523</td>\n",
       "      <td>1.950827e+08</td>\n",
       "    </tr>\n",
       "  </tbody>\n",
       "</table>\n",
       "</div>"
      ],
      "text/plain": [
       "              Open         High          Low        Close    Adj Close  \\\n",
       "count  2012.000000  2012.000000  2012.000000  2012.000000  2012.000000   \n",
       "mean     35.343226    35.573255    35.094896    35.341690    27.924208   \n",
       "std       3.074129     3.079648     3.074469     3.082351     4.261648   \n",
       "min      27.500000    28.100000    26.799999    27.360001    18.699926   \n",
       "25%      33.320000    33.580002    33.067500    33.337501    24.760416   \n",
       "50%      35.009998    35.180000    34.779999    35.000000    26.892488   \n",
       "75%      37.422499    37.689999    37.140000    37.419998    31.423689   \n",
       "max      43.500000    43.889999    43.330002    43.470001    38.430523   \n",
       "\n",
       "             Volume  \n",
       "count  2.012000e+03  \n",
       "mean   2.737767e+07  \n",
       "std    1.363271e+07  \n",
       "min    6.862400e+06  \n",
       "25%    1.971698e+07  \n",
       "50%    2.422520e+07  \n",
       "75%    3.090855e+07  \n",
       "max    1.950827e+08  "
      ]
     },
     "metadata": {},
     "output_type": "display_data"
    }
   ],
   "source": [
    "#Lets see some statistical values\n",
    "print(\"Starbucks - Global Statistics:\")\n",
    "display(starbucks.describe())\n",
    "print()\n",
    "print(\"ATT - Global Statistics:\")\n",
    "display(att.describe())"
   ]
  },
  {
   "attachments": {},
   "cell_type": "markdown",
   "metadata": {},
   "source": [
    "# Correlation Analysis\n",
    "In statistical analysis correlation is nothing but relation between variables. If correlation coefficient is positive correlated then both the values are moving in one direction, if coefficient is exactly one it is called perfect positive correlation. In other way negative correlated values moves in different direction.\n",
    "Coefficient fluctuates in between -1 and 1, 0 means no realtion."
   ]
  },
  {
   "cell_type": "markdown",
   "metadata": {},
   "source": [
    "# Starbucks"
   ]
  },
  {
   "cell_type": "code",
   "execution_count": 9,
   "metadata": {},
   "outputs": [
    {
     "data": {
      "text/plain": [
       "<matplotlib.axes._subplots.AxesSubplot at 0x7febc91ae190>"
      ]
     },
     "execution_count": 9,
     "metadata": {},
     "output_type": "execute_result"
    },
    {
     "data": {
      "image/png": "[encoded data removed]",
      "text/plain": [
       "<Figure size 720x432 with 1 Axes>"
      ]
     },
     "metadata": {
      "needs_background": "light"
     },
     "output_type": "display_data"
    }
   ],
   "source": [
    "#correlating adj_close to other columns\n",
    "#droping adj_close and close columns\n",
    "s = starbucks.drop(columns=['Adj Close', 'Close'], axis=1)\n",
    "s.corrwith(starbucks['Adj Close']).plot.bar(\n",
    "                figsize = (10, 6), title = \"Correlation of Starbucks with Adj Close\", fontsize = 15,\n",
    "                rot = 90, grid = True)"
   ]
  },
  {
   "cell_type": "code",
   "execution_count": 10,
   "metadata": {},
   "outputs": [
    {
     "data": {
      "text/plain": [
       "<matplotlib.axes._subplots.AxesSubplot at 0x7febc9250310>"
      ]
     },
     "execution_count": 10,
     "metadata": {},
     "output_type": "execute_result"
    },
    {
     "data": {
      "image/png": "[encoded data removed]",
      "text/plain": [
       "<Figure size 720x432 with 2 Axes>"
      ]
     },
     "metadata": {
      "needs_background": "light"
     },
     "output_type": "display_data"
    }
   ],
   "source": [
    "# Plotting Correlation Matrix\n",
    "plt.figure(figsize=(10, 6))\n",
    "sns.heatmap(starbucks.corr(), annot = True)"
   ]
  },
  {
   "cell_type": "code",
   "execution_count": 11,
   "metadata": {},
   "outputs": [],
   "source": [
    "matrix_corr = starbucks.corr()\n",
    "coef = matrix_corr['Adj Close'].sort_values(ascending=False)"
   ]
  },
  {
   "cell_type": "code",
   "execution_count": 12,
   "metadata": {},
   "outputs": [
    {
     "data": {
      "text/plain": [
       "Adj Close    1.000000\n",
       "Close        0.998635\n",
       "High         0.998450\n",
       "Low          0.998420\n",
       "Open         0.998137\n",
       "Name: Adj Close, dtype: float64"
      ]
     },
     "execution_count": 12,
     "metadata": {},
     "output_type": "execute_result"
    }
   ],
   "source": [
    "#Possitively correleated values\n",
    "possitive_corr = coef[coef>0]\n",
    "possitive_corr"
   ]
  },
  {
   "cell_type": "code",
   "execution_count": 13,
   "metadata": {},
   "outputs": [
    {
     "data": {
      "text/plain": [
       "Volume   -0.277185\n",
       "Name: Adj Close, dtype: float64"
      ]
     },
     "execution_count": 13,
     "metadata": {},
     "output_type": "execute_result"
    }
   ],
   "source": [
    "#Negatively correlated values\n",
    "negative_corr = coef[coef<0]\n",
    "negative_corr"
   ]
  },
  {
   "cell_type": "markdown",
   "metadata": {},
   "source": [
    "# ATT"
   ]
  },
  {
   "cell_type": "code",
   "execution_count": 14,
   "metadata": {},
   "outputs": [
    {
     "data": {
      "text/plain": [
       "<matplotlib.axes._subplots.AxesSubplot at 0x7febc924f850>"
      ]
     },
     "execution_count": 14,
     "metadata": {},
     "output_type": "execute_result"
    },
    {
     "data": {
      "image/png": "[encoded data removed]",
      "text/plain": [
       "<Figure size 720x432 with 2 Axes>"
      ]
     },
     "metadata": {
      "needs_background": "light"
     },
     "output_type": "display_data"
    }
   ],
   "source": [
    "#Corr Matrix for ATT \n",
    "plt.figure(figsize=(10, 6))\n",
    "sns.heatmap(att.corr(), annot = True)"
   ]
  },
  {
   "cell_type": "code",
   "execution_count": 15,
   "metadata": {},
   "outputs": [
    {
     "data": {
      "text/plain": [
       "<matplotlib.axes._subplots.AxesSubplot at 0x7febd104ba10>"
      ]
     },
     "execution_count": 15,
     "metadata": {},
     "output_type": "execute_result"
    },
    {
     "data": {
      "image/png": "[encoded data removed]",
      "text/plain": [
       "<Figure size 720x432 with 1 Axes>"
      ]
     },
     "metadata": {
      "needs_background": "light"
     },
     "output_type": "display_data"
    }
   ],
   "source": [
    "#correlating adj_close to other columns\n",
    "#droping adj_close and close columns\n",
    "a = att.drop(columns=['Adj Close', 'Close'], axis=1)\n",
    "a.corrwith(att['Adj Close']).plot.bar(\n",
    "                figsize = (10, 6), title = \"Correlation of ATT with Adj Close\", fontsize = 15,\n",
    "                rot = 90, grid = True)"
   ]
  },
  {
   "cell_type": "code",
   "execution_count": 16,
   "metadata": {},
   "outputs": [
    {
     "name": "stdout",
     "output_type": "stream",
     "text": [
      "Adj Close    1.000000\n",
      "High         0.636244\n",
      "Close        0.632773\n",
      "Open         0.631463\n",
      "Low          0.626976\n",
      "Name: Adj Close, dtype: float64\n"
     ]
    },
    {
     "data": {
      "text/plain": [
       "Volume   -0.032356\n",
       "Name: Adj Close, dtype: float64"
      ]
     },
     "execution_count": 16,
     "metadata": {},
     "output_type": "execute_result"
    }
   ],
   "source": [
    "matrix_corr = att.corr()\n",
    "coef = matrix_corr['Adj Close'].sort_values(ascending=False)\n",
    "#Possitively correleated values\n",
    "possitive_corr = coef[coef>0]\n",
    "print(possitive_corr)\n",
    "#Negatively correlated values\n",
    "negative_corr = coef[coef<0]\n",
    "negative_corr"
   ]
  },
  {
   "attachments": {},
   "cell_type": "markdown",
   "metadata": {},
   "source": [
    "# Feature selection/Technical indicator selection\n",
    "Technical indicators are factors that drives the stock price, it helps to understand price movement and helps to predict the future price, that leads investors buy or sell choices."
   ]
  },
  {
   "cell_type": "markdown",
   "metadata": {},
   "source": [
    "# 5 Technical indicators\n",
    "    # Relative Strength Index (RSI)\n",
    "    # Moving Average Convergence-Divergence (MACD)\n",
    "    # Simple Mean Average\n",
    "    # Standard Deviation\n",
    "    # Bollinger Bands\n",
    "\n",
    "Technical indicators calculated based on the target.. I am selecting target as Adj Close\n",
    "\n"
   ]
  },
  {
   "cell_type": "markdown",
   "metadata": {},
   "source": [
    "# Technical indicators"
   ]
  },
  {
   "cell_type": "code",
   "execution_count": 17,
   "metadata": {},
   "outputs": [],
   "source": [
    "#Technical indicatiors methods\n",
    "def get_RSI(df, periods=14):\n",
    "    \"\"\"\n",
    "    Method is used to calculate the RSI\n",
    "    args:\n",
    "        df: Adj Close price of the dataframe\n",
    "        periods: Standard periods to calcualte initial value is 14\n",
    "    return:\n",
    "        rsi: function returns the relative strength index of given input.\n",
    "    ewm = exponential moving average \n",
    "    \"\"\"\n",
    "    # wilder's RSI\n",
    "    delta = df.diff()\n",
    "    up, down = delta.copy(), delta.copy()\n",
    "\n",
    "    up[up < 0] = 0\n",
    "    down[down > 0] = 0\n",
    "\n",
    "    rollUp = up.ewm(com=periods,adjust=False).mean()\n",
    "    rollDown = down.ewm(com=periods, adjust=False).mean().abs()\n",
    "\n",
    "    RSI = 100 - 100 / (1 + rollUp / rollDown)\n",
    "    \n",
    "    return RSI\n",
    "\n",
    "\n",
    "def get_MACD(df, nslow=26, nfast=12):\n",
    "\n",
    "    \"\"\"\n",
    "    Method is used to calculate Moving Average Convergence-Divergence\n",
    "    args:\n",
    "        df: Adj Close price of the dataframe\n",
    "        nslow: number of observations in window required to have a value\n",
    "        nfast: number of observations in window required to have a value\n",
    "    return:\n",
    "        differance: difference between two ewm with different window period\n",
    "        MACD: Moving Average Convergence-Divergence\n",
    "        \n",
    "    ewm = exponential weighted functions\n",
    "    min_periods = minimum number of observations in window required to have a value\n",
    "    span = Specify decay in terms of span, 𝛼=2/(𝑠𝑝𝑎𝑛+1), for 𝑠𝑝𝑎𝑛≥1\n",
    "    \"\"\"\n",
    "    emaslow = df.ewm(span=nslow, min_periods=nslow, adjust=True, ignore_na=False).mean()\n",
    "    emafast = df.ewm(span=nfast, min_periods=nfast, adjust=True, ignore_na=False).mean()\n",
    "    \n",
    "    differance = emafast - emaslow\n",
    "    MACD = differance.ewm(span=9, min_periods=9, adjust=True, ignore_na=False).mean()\n",
    "    \n",
    "    return differance, MACD\n",
    "\n",
    "def get_SMA(df, peroids=15):\n",
    "    \"\"\"\n",
    "     It takes a window size of periods at a time and perform mathematical operation on it. \n",
    "     A window of size periods means periods consecutive values at a time.\n",
    "    args:\n",
    "        df: Adj Close price of the dataframe\n",
    "        periods: Standard observation used for calculation\n",
    "    return:\n",
    "        SMA : calcualtes simple moving average\n",
    "    \"\"\"\n",
    "    SMA = df.rolling(window=peroids, min_periods=peroids, center=False).mean()\n",
    "    \n",
    "    return SMA\n",
    "\n",
    "def get_STDEV(df, periods=5):\n",
    "    \"\"\"\n",
    "    args:\n",
    "        df: Adj Close price of the dataframe\n",
    "        periods: Standard observation used for calculation\n",
    "    return:\n",
    "        STDEV: calcualtes the standard deviation\n",
    "    \"\"\"\n",
    "    STDEV = df.rolling(periods).std()\n",
    "   \n",
    "    return STDEV\n",
    "\n",
    "def get_BBands(df, peroids=15):\n",
    "    \"\"\"\n",
    "    args:\n",
    "        df: Adj Close price of the dataframe\n",
    "        periods: Standard observation used for calculation\n",
    "    return:\n",
    "        upper_band, lower_band : calculates the upper and lower bands of the bollinger\n",
    "    \"\"\"\n",
    "    STD = df.rolling(window=peroids,min_periods=peroids, center=False).std()\n",
    "    SMA = get_SMA(df)\n",
    "    upper_band = SMA + (2 * STD)\n",
    "    lower_band = SMA - (2 * STD)\n",
    "    \n",
    "    return upper_band, lower_band\n",
    "  "
   ]
  },
  {
   "cell_type": "code",
   "execution_count": 18,
   "metadata": {},
   "outputs": [],
   "source": [
    "# calculates Technical indicators for the given dataframe\n",
    "# final_df = pd.DataFrame()\n",
    "def calc_Tech_ind_add_col(df, original_df):\n",
    "    \"\"\"\n",
    "    calculates all the technical indicators and assigned to new variable\n",
    "    add new columns to the dataframe with technical indicators.\n",
    "    args:\n",
    "        df : Adj Close price of the dataframe\n",
    "        original_df : original dataframe of the stock\n",
    "    return : \n",
    "        final_df:  final dataframe with technical indicators in that\n",
    "    \"\"\"\n",
    "    print(\"Calculating technical indicators of given stock price\")\n",
    "    dif, macd_stock = get_MACD(df)\n",
    "    upper_band, lower_band = get_BBands(df)   \n",
    "    \n",
    "    final_df = original_df\n",
    "    \n",
    "    final_df['RSI'] = get_RSI(df)\n",
    "    print(\"RSI column added\")\n",
    "    final_df['MACD'] = macd_stock\n",
    "    print(\"MACD column added\")\n",
    "    final_df['SMA'] = get_SMA(df)\n",
    "    print(\"SMA column added\")\n",
    "    final_df['STDEV'] = get_STDEV(df)\n",
    "    print(\"STDEV column added\")\n",
    "    final_df['Upper_Band'] = upper_band\n",
    "    print(\"Upper_Band column added\")\n",
    "    final_df['Lower_Band'] = lower_band\n",
    "    print(\"Lower_Band column added\")   \n",
    "    final_df['DIFF'] = dif\n",
    "    print(\"DIFF column added\")\n",
    "    \n",
    "    \n",
    "    return final_df\n",
    "    \n",
    "    \n",
    "    "
   ]
  },
  {
   "cell_type": "markdown",
   "metadata": {},
   "source": [
    "# Normalize the Data"
   ]
  },
  {
   "cell_type": "code",
   "execution_count": 19,
   "metadata": {},
   "outputs": [],
   "source": [
    "# In this step I would perform feature scaling/normalization of feature variables using sklearn's MinMaxScaler function.\n",
    "def normalize_featuresDF(df):\n",
    "    \"\"\"\n",
    "    It performs scaling/normalization of the feature columns using sklearn's MinMazScaler function.\n",
    "    Range format is from 0 to 1\n",
    "    args:\n",
    "        df : featuers columsn datafrane\n",
    "    return:\n",
    "        normalized_features_df : normalized data frame ..\n",
    "    \n",
    "    \"\"\"\n",
    "    scaler = MinMaxScaler()\n",
    "    feature_columns = df.columns\n",
    "    feature_minmax_data = scaler.fit_transform(df)\n",
    "    normalized_features_df = pd.DataFrame(columns=feature_columns, data=feature_minmax_data, index=df.index)\n",
    "    \n",
    "    \n",
    "    return normalized_features_df\n"
   ]
  },
  {
   "cell_type": "markdown",
   "metadata": {},
   "source": [
    "# Split the data into Train, Test and Validation sets\n",
    "Spliting the data into 3 different sets.\n",
    "Training set\n",
    "Testing set\n",
    "Validation set"
   ]
  },
  {
   "cell_type": "markdown",
   "metadata": {},
   "source": [
    "   # split validation set from complete data"
   ]
  },
  {
   "cell_type": "code",
   "execution_count": 20,
   "metadata": {},
   "outputs": [],
   "source": [
    "def split_ValidationSet(features_df, target_df, length=90):\n",
    "    \"\"\"\n",
    "    method is to separate validation set from the complete df\n",
    "    args:\n",
    "        features_df: full features_df\n",
    "        target_df :  full target_dt\n",
    "        length: prediction length\n",
    "    returns : \n",
    "        validation_x : returns features validations sets\n",
    "        validation_y : returns target validations sets\n",
    "    \"\"\"\n",
    "    #need to shift target array because we are prediction n + 1 days price\n",
    "    target_df = target_df.shift(-1)\n",
    "    #split validation set . i am spliting 10% latest data for validation.\n",
    "    #target\n",
    "    validation_y = target_df[-length:-1]\n",
    "    validation_x = features_df[-length:-1]\n",
    "    \n",
    "    return validation_x, validation_y\n",
    "\n",
    "#Now get final_features_df and final_target_df by excluding validation set\n",
    "def split_Final_df(normalized_features_df, target_df, v_length=90):\n",
    "    \"\"\"\n",
    "    This method will be having remaining data after the validation set.\n",
    "    args:\n",
    "        features_df: normalized features_df\n",
    "        target_df: complete target_df\n",
    "        v_length: validation set length\n",
    "    return: \n",
    "        final_features_df : set of feature df excluding validation set\n",
    "        final_target_df : set of target df excluding validation set\n",
    "    \"\"\"\n",
    "    final_features_df = normalized_features_df[:-v_length]\n",
    "    final_target_df = target_df[:-v_length]\n",
    "    \n",
    "    return final_features_df, final_target_df"
   ]
  },
  {
   "cell_type": "markdown",
   "metadata": {},
   "source": [
    "#  Train and Test split using Sklearn's Timeseries split"
   ]
  },
  {
   "cell_type": "code",
   "execution_count": 21,
   "metadata": {},
   "outputs": [],
   "source": [
    "#Split final set into training and testing sets\n",
    "#splitting training and testing set using sklearn's TimeSeries split\n",
    "def split_Train_Test_DF(final_features_df, final_target_df, n_splits=10):\n",
    "    \"\"\"\n",
    "    Using sklearn's timeseries split to split the training and testing sets\n",
    "    args:\n",
    "        final_features_df: features_df after splitting validation set\n",
    "        final_target_df: target_df after splitting validation set\n",
    "    \n",
    "    return: \n",
    "        x_train : traing feature set\n",
    "        y_train : training target set\n",
    "        x_test : testing feature set\n",
    "        y_test : testing target set\n",
    "    \"\"\"\n",
    "    ts_split = TimeSeriesSplit(n_splits)\n",
    "    for train_index, test_index in ts_split.split(final_features_df):\n",
    "        x_train, x_test = final_features_df[:len(train_index)], final_features_df[len(train_index): (len(train_index)+len(test_index))]\n",
    "        y_train, y_test = final_target_df[:len(train_index)].values.ravel(), final_target_df[len(train_index): (len(train_index)+len(test_index))].values.ravel()\n",
    "        \n",
    "    return x_train, y_train, x_test, y_test\n"
   ]
  },
  {
   "cell_type": "markdown",
   "metadata": {},
   "source": [
    "#  Visualizing the datasets for sanity check"
   ]
  },
  {
   "cell_type": "code",
   "execution_count": 22,
   "metadata": {},
   "outputs": [],
   "source": [
    "def plot_3DataSets():\n",
    "    \"\"\"\n",
    "    Method displays the plot of the 3 different sets into single plot.\n",
    "    This is just for sanity check.\n",
    "    This is time series data so, sets should not be mixed.\n",
    "    \n",
    "    \"\"\"\n",
    "    t=y_test.astype(np.float)\n",
    "    v = target_df[-90:-1].values.ravel()\n",
    "    plt.plot(y_train, label='trainning_set')\n",
    "    plt.plot([None]*len(y_train) + [x for x in t], label='test_set')\n",
    "    plt.plot([None]*(len(y_train)+len(t)) + [x for x in v], label='validation_set')\n",
    "    plt.xlabel('Days')\n",
    "    plt.ylabel('price')\n",
    "    plt.title('Split dataset into training/validation/test set')\n",
    "    plt.legend()\n"
   ]
  },
  {
   "cell_type": "code",
   "execution_count": null,
   "metadata": {},
   "outputs": [],
   "source": []
  },
  {
   "cell_type": "markdown",
   "metadata": {},
   "source": [
    "# Implementing model prediction and evaluation"
   ]
  },
  {
   "cell_type": "markdown",
   "metadata": {},
   "source": [
    "# Method for validating result with evaluation metrics"
   ]
  },
  {
   "cell_type": "code",
   "execution_count": 23,
   "metadata": {},
   "outputs": [],
   "source": [
    "#Method to evaluate the benchmark model and solution model with validate data set\n",
    "def model_validateResult(model, model_name):\n",
    "    \"\"\"\n",
    "    Returns RMSE_Score and R2_Score\n",
    "    Also plots actual vs predicted trend\n",
    "    args:\n",
    "        model : it takes the model to validate\n",
    "        model_name: give the model name\n",
    "    return:\n",
    "        RMSE_Score : calculates rmse score\n",
    "        R2_Score : calculates R2 score\n",
    "    \"\"\"\n",
    "    if model_name in [ \"LSTM\", \"LSTM_Tuned\"]:\n",
    "        x_train_t, x_test_t, validation_x_t, validation_y_t = convert_LSTM_data(x_train, x_test, validation_x, validation_y)\n",
    "        model = model(x_train, y_train, validation_x)\n",
    "        prediction = model.predict(validation_x_t)\n",
    "    else:\n",
    "        model = model(x_train, y_train, validation_x)\n",
    "        prediction = model.predict(validation_x)\n",
    "    \n",
    "    RMSE_Score = np.sqrt(mean_squared_error(validation_y, prediction))\n",
    "    \n",
    "    R2_Score = r2_score(validation_y, prediction)\n",
    "    \n",
    "    #Ploting trendline for actual vs prediction\n",
    "    plt.plot(validation_y.index, prediction,'r', label='Predicted')\n",
    "    plt.plot(validation_y.index, validation_y,'b', label='Actual')\n",
    "    plt.plot(figsize = (15,8))\n",
    "    plt.ylabel('Price')\n",
    "    plt.xlabel('Date')\n",
    "    plt.gca().xaxis.set_major_formatter(mdates.DateFormatter('%Y-%m-%d'))\n",
    "    plt.gca().xaxis.set_major_locator(mdates.MonthLocator())\n",
    "    plt.title(model_name + ' Predict vs Actual')\n",
    "    plt.legend(loc='upper right')\n",
    "\n",
    "    plt.show()\n",
    "    print(model_name + ' RMSE: ', RMSE_Score)\n",
    "    print(model_name + ' R2 score: ', R2_Score)\n",
    "    \n",
    "    return RMSE_Score, R2_Score\n",
    "\n",
    "\n",
    "#Method to evaluate the final model with testing data set\n",
    "def bestModel_validateResult(model, model_name):\n",
    "    \"\"\"\n",
    "    Returns RMSE_Score and R2_Score\n",
    "    Also plots actual vs predicted trend\n",
    "    USing testing data set for evaluation\n",
    "    args:\n",
    "        model : it takes the model to validate\n",
    "        model_name: give the model name\n",
    "    return:\n",
    "        RMSE_Score : calculates rmse score\n",
    "        R2_Score : calculates R2 score\n",
    "    \"\"\"\n",
    "    \n",
    "    #I am giving testing set for the evaluation \n",
    "    model = model(x_train, y_train, x_test)\n",
    "    prediction = model.predict(x_test)\n",
    "    \n",
    "    RMSE_Score = np.sqrt(mean_squared_error(y_test, prediction))\n",
    "    \n",
    "    R2_Score = r2_score(y_test, prediction)\n",
    "    \n",
    "    plt.title(model_name + 'Prediction Vs Actual')\n",
    "    plt.plot(y_test, label='test data')\n",
    "    plt.plot(prediction, label='prediction')\n",
    "    plt.xlabel('Days')\n",
    "    plt.ylabel('Price')\n",
    "    plt.legend();\n",
    "    \n",
    "\n",
    "    print(model_name + ' RMSE: ', RMSE_Score)\n",
    "    print(model_name + ' R2 score: ', R2_Score)\n",
    "     \n",
    "    return RMSE_Score, R2_Score\n",
    "\n",
    "\n",
    "def value_Compare(model):\n",
    "    \"\"\"\n",
    "    this method is used to create final data frame using testing value with predicted value.\n",
    "    args:\n",
    "        model : trained model to create df\n",
    "    return : \n",
    "        df : df with test value and predicted value\n",
    "    \"\"\"\n",
    "    model = model(x_train, y_train, x_test)\n",
    "    prediction = model.predict(x_test)\n",
    "    col1 = pd.DataFrame(y_test, columns=['True_value'])\n",
    "    col2 = pd.DataFrame(prediction, columns = ['Predicted_value'])\n",
    "    df = pd.concat([col1, col2], axis=1)\n",
    "    \n",
    "    return df\n",
    "\n"
   ]
  },
  {
   "cell_type": "markdown",
   "metadata": {},
   "source": [
    "#  Build Models\n",
    "Here I am going to introcude methods to impliment benchmark model and solution models.\n",
    "Result of methods will be RMSE and R2 score with Plot."
   ]
  },
  {
   "cell_type": "markdown",
   "metadata": {},
   "source": [
    "# Benchmark Model\n",
    "DecisionTreeRegressor"
   ]
  },
  {
   "cell_type": "code",
   "execution_count": 24,
   "metadata": {},
   "outputs": [],
   "source": [
    "\n",
    "#modeling DecisionTreeRegressor with default parameters for benchmark\n",
    "\n",
    "def model_Benchmark_DTR(x_train, y_train, validation_x, random_state=0):\n",
    "    \"\"\"\n",
    "    Method is to model DecisionTreeRegressor\n",
    "    args:\n",
    "        x_train : feature training set\n",
    "        y_train : target training set\n",
    "        validation_x : validation feature set\n",
    "        random_state : default parameter it controls the randomness of the estimater\n",
    "    \n",
    "    return: \n",
    "        model : returns the trained model\n",
    "        \n",
    "    \"\"\"\n",
    "    #initialize DTR\n",
    "    dtr = DecisionTreeRegressor(random_state=0)   \n",
    "    #fit the data\n",
    "    model = dtr.fit(x_train, y_train)\n",
    "    \n",
    "    return model"
   ]
  },
  {
   "cell_type": "markdown",
   "metadata": {},
   "source": [
    "# Solution Model"
   ]
  },
  {
   "cell_type": "markdown",
   "metadata": {},
   "source": [
    "# Support Vector Regressor (SVR)"
   ]
  },
  {
   "cell_type": "code",
   "execution_count": 25,
   "metadata": {},
   "outputs": [],
   "source": [
    "def model_SVR(x_train, y_train, validation_x):\n",
    "    \n",
    "    \"\"\"\n",
    "    This method uses svr algorithm to trian the data.\n",
    "    args:\n",
    "        x_train : feature training set\n",
    "        y_train : target training set\n",
    "        validation_x : validation feature set\n",
    "    return:\n",
    "        model : returns the trained model\n",
    "    \"\"\"\n",
    "    svr_model = SVR(kernel='linear')\n",
    "    model = svr_model.fit(x_train, y_train)\n",
    "#     prediction = model.predict(validation_x)\n",
    "    \n",
    "    return model\n",
    "\n",
    "def model_SVRTuning(x_train, y_train, validation_x):\n",
    "    \"\"\"\n",
    "    This method uses svr algorithm to trian the data.\n",
    "    Using different set of C and epsilon.\n",
    "    Using GridSearchCV to select best hyperparameters\n",
    "    args:\n",
    "        x_train : feature training set\n",
    "        y_train : target training set\n",
    "        validation_x : validation feature set\n",
    "    return:\n",
    "        model : returns the trained model\n",
    "    \"\"\"\n",
    "    hyperparameters_linearSVR = {\n",
    "        'C':[0.5, 1.0, 10.0, 50.0, 100.0, 120.0,150.0, 300.0, 500.0,700.0,800.0, 1000.0],\n",
    "        'epsilon':[0, 0.1, 0.5, 0.7, 0.9],\n",
    "    }\n",
    "    \n",
    "    grid_search_SVR_feat = GridSearchCV(estimator=model_SVR(x_train, y_train, validation_x),\n",
    "                           param_grid=hyperparameters_linearSVR,\n",
    "                           cv=TimeSeriesSplit(n_splits=10),\n",
    "    )\n",
    "\n",
    "    model = grid_search_SVR_feat.fit(x_train, y_train)\n",
    "    print(grid_search_SVR_feat.best_params_)\n",
    "    \n",
    "    return model"
   ]
  },
  {
   "cell_type": "markdown",
   "metadata": {},
   "source": [
    "# Random Forest"
   ]
  },
  {
   "cell_type": "code",
   "execution_count": 26,
   "metadata": {},
   "outputs": [],
   "source": [
    "def model_randomForest(x_train, y_train, validation_x):\n",
    "    \n",
    "    \"\"\"\n",
    "    This method uses random forest algorithm to trian the data.\n",
    "    \n",
    "    args:\n",
    "        x_train : feature training set\n",
    "        y_train : target training set\n",
    "        validation_x : validation feature set\n",
    "    return:\n",
    "        model : returns the trained model\n",
    "    \"\"\"\n",
    "    randomForest_model = RandomForestRegressor(n_estimators=50, random_state=0)\n",
    "    model = randomForest_model.fit(x_train, y_train)\n",
    "#     prediction = model.predict(validation_x)\n",
    "    \n",
    "    return model\n",
    "\n",
    "def model_randomForestTuning(x_train, y_train, validation_x):\n",
    "    \"\"\"\n",
    "    This method uses svr algorithm to trian the data.\n",
    "    Using different set of hyperparameters \n",
    "    Using GridSearchCV to select best hyperparameters\n",
    "    args:\n",
    "        x_train : feature training set\n",
    "        y_train : target training set\n",
    "        validation_x : validation feature set\n",
    "    return:\n",
    "        model : returns the trained model\n",
    "    \"\"\"\n",
    "    hyper_parameters = {\n",
    "    'n_estimators':[10,15,20, 50, 100],\n",
    "    'max_features':['auto','sqrt','log2'],\n",
    "    'max_depth':[2, 3, 5, 7,10,13, 15, 20],\n",
    "    }\n",
    "    \n",
    "    grid_search_RF_feat = GridSearchCV(estimator=model_randomForest(x_train, y_train, validation_x),\n",
    "                           param_grid=hyper_parameters,\n",
    "                           cv=TimeSeriesSplit(n_splits=10),\n",
    "        )\n",
    "    model = grid_search_RF_feat.fit(x_train, y_train)\n",
    "    print(model.best_params_)\n",
    "    \n",
    "    return model"
   ]
  },
  {
   "cell_type": "markdown",
   "metadata": {},
   "source": [
    "# LSTM"
   ]
  },
  {
   "cell_type": "code",
   "execution_count": 27,
   "metadata": {},
   "outputs": [],
   "source": [
    "#LSTM model need feature input in array\n",
    "#convert data to array\n",
    "\n",
    "def convert_LSTM_data(x_train, x_test, validation_x, validation_y):\n",
    "# def convert_LSTM_data():\n",
    "    \"\"\"\n",
    "    Method is used to format the data sets into LSTM input data format.\n",
    "    \n",
    "    args:\n",
    "        x_train : final feautre training set\n",
    "        x_test : final feature testing set\n",
    "        validation_x : validation feature test\n",
    "        validation_y: validation target test\n",
    "    return:\n",
    "        formats the input data into LSTM input format\n",
    "    \"\"\"\n",
    "    \n",
    "    x_train =np.array(x_train)\n",
    "    x_test =np.array(x_test)\n",
    "    validation_x =np.array(validation_x)\n",
    "    validation_y = np.array(validation_y)\n",
    "    \n",
    "    #reshape sets\n",
    "    #Need to check this ?????\n",
    "    #shpae pf LSTM is (number of records, number of times steps, feature dimension)   \n",
    "    x_train_lstm = np.reshape(x_train, (x_train.shape[0],1,  x_train.shape[1]))\n",
    "    x_test_lstm = np.reshape(x_test, (x_test.shape[0],1, x_test.shape[1]))\n",
    "    \n",
    "    validation_x_lstm = np.reshape(validation_x, (validation_x.shape[0], 1, validation_x.shape[1]))\n",
    "    validation_y_lstm = np.reshape(validation_y, (validation_y.shape[0],1, validation_y.shape[1]))\n",
    "    \n",
    "    return x_train_lstm, x_test_lstm, validation_x_lstm, validation_y_lstm\n"
   ]
  },
  {
   "cell_type": "code",
   "execution_count": 28,
   "metadata": {},
   "outputs": [],
   "source": [
    "# LSTM model prediction funciton\n",
    "def model_LSTM(x_train, y_train, validation_x, convertion_model = convert_LSTM_data):\n",
    "    \"\"\"\n",
    "    args:\n",
    "        x_train : final feautre training set\n",
    "        x_test : final feature testing set\n",
    "        validation_x : validation feature test\n",
    "        convertion_model : this is just method to format the LSTM data\n",
    "    return:\n",
    "        return : returns the trained model\n",
    "    \"\"\"\n",
    "    K.clear_session()\n",
    "    x_train_t, x_test_t, validation_x_t, validation_y_t = convertion_model(x_train, x_test, validation_x, validation_y)\n",
    "    # instantiate the Sequential class\n",
    "    model = Sequential()\n",
    "    #Create LSTM and Drop out Layers, return_sequences = True because we will add more layers to the model\n",
    "    #input_shape(number of time steps, number of indicators/features)\n",
    "    model.add(LSTM(units=50, input_shape=(1, x_train.shape[1]), activation='relu', return_sequences=True))\n",
    "    #dropout layter is to avoid over-fitting\n",
    "    model.add(Dropout(0.2))\n",
    "    #Add few more laters and dropouts to the model\n",
    "    model.add(LSTM(units=50, return_sequences=True))\n",
    "    model.add(Dropout(0.2))\n",
    "\n",
    "    model.add(LSTM(units=50, return_sequences=True))\n",
    "    model.add(Dropout(0.2))\n",
    "\n",
    "    model.add(LSTM(units=50))\n",
    "    model.add(Dropout(0.2))\n",
    "    \n",
    "    #Create Dense layer, number of neurons in dense layer  = 1 becasue we want to predict one value\n",
    "    model.add(Dense(units = 1))\n",
    "    #need to compile before training the data\n",
    "    #\n",
    "    model.compile(loss='mean_squared_error', optimizer='adam')\n",
    "    \n",
    "    early_stop = EarlyStopping(monitor='loss', patience=5, verbose=1)\n",
    "    \n",
    "    history_model = model.fit(x_train_t, y_train, epochs=200, batch_size=32,callbacks=[early_stop])\n",
    "#     prediction = model_lstm.predict(validation_x_t)\n",
    "   \n",
    "    return model\n",
    "\n",
    "\n",
    "\n",
    "#      \n",
    "# LSTM model prediction funciton\n",
    "def model_LSTMTuning(x_train, y_train, validation_x, convertion_model = convert_LSTM_data):\n",
    "    \"\"\"\n",
    "    Using 0.5 dropout layers and batch size 16 for the tuning\n",
    "    args:\n",
    "        x_train : final feautre training set\n",
    "        x_test : final feature testing set\n",
    "        validation_x : validation feature test\n",
    "        convertion_model : this is just method to format the LSTM data\n",
    "    return:\n",
    "        return : returns the trained model\n",
    "    \"\"\"\n",
    "    K.clear_session()\n",
    "    x_train_t, x_test_t, validation_x_t, validation_y_t = convertion_model(x_train, x_test, validation_x, validation_y)\n",
    "    # instantiate the Sequential class\n",
    "    model = Sequential()\n",
    "    #Create LSTM and Drop out Layers, return_sequences = True because we will add more layers to the model\n",
    "    #input_shape(number of time steps, number of indicators/features)\n",
    "    model.add(LSTM(units=50, input_shape=(1, x_train.shape[1]), activation='relu', return_sequences=True))\n",
    "    #dropout layter is to avoid over-fitting\n",
    "    model.add(Dropout(0.5))\n",
    "    #Add few more laters and dropouts to the model\n",
    "    model.add(LSTM(units=50, return_sequences=True))\n",
    "    model.add(Dropout(0.5))\n",
    "\n",
    "    model.add(LSTM(units=50, return_sequences=True))\n",
    "    model.add(Dropout(0.5))\n",
    "\n",
    "    model.add(LSTM(units=50))\n",
    "    model.add(Dropout(0.5))\n",
    "    \n",
    "    #Create Dense layer, number of neurons in dense layer  = 1 becasue we want to predict one value\n",
    "    model.add(Dense(units = 1))\n",
    "    #need to compile before training the data\n",
    "    #\n",
    "    model.compile(loss='mean_squared_error', optimizer='adam')\n",
    "    \n",
    "    early_stop = EarlyStopping(monitor='loss', patience=5, verbose=1)\n",
    "      \n",
    "    history_model = model.fit(x_train_t, y_train, epochs=200, batch_size=16,callbacks=[early_stop])\n",
    " \n",
    "    return model\n",
    "\n",
    "\n"
   ]
  },
  {
   "cell_type": "markdown",
   "metadata": {},
   "source": [
    "# Implimentation\n",
    "First i am going to impliment Starbucks prediction and then follw the same steps for the ATT\n",
    "\n",
    "Above i have done data exploration and defined all the function to impliment prediction. I will call those methods step by steps and evaluate the benchmark and solution models.\n",
    "\n",
    "Steps:\n",
    "1. get the original data\n",
    "2. feature selection / Technicla indicator\n",
    "3. Selecting features and target df\n",
    "4. Normalizing the data\n",
    "5. Split train/test/validation sets\n",
    "6. evaluating models\n",
    "7. follow same for ATT data\n",
    "8. conclusion\n"
   ]
  },
  {
   "cell_type": "markdown",
   "metadata": {},
   "source": [
    "# Starbucks "
   ]
  },
  {
   "cell_type": "code",
   "execution_count": 29,
   "metadata": {},
   "outputs": [],
   "source": [
    "#reading CSV, assigning starbucks variable to starbucks data and att to att data.\n",
    "#Fixing date by parsing date columns\n",
    "starbucks = pd.read_csv(os.path.join(path, 'SBUX.csv'), index_col='Date',parse_dates=True,infer_datetime_format=True)"
   ]
  },
  {
   "cell_type": "code",
   "execution_count": 30,
   "metadata": {},
   "outputs": [
    {
     "name": "stdout",
     "output_type": "stream",
     "text": [
      "Starbucks data has missing values : False\n",
      "<class 'pandas.core.frame.DataFrame'>\n",
      "DatetimeIndex: 2011 entries, 2012-01-03 to 2019-12-30\n",
      "Data columns (total 6 columns):\n",
      " #   Column     Non-Null Count  Dtype  \n",
      "---  ------     --------------  -----  \n",
      " 0   Open       2011 non-null   float64\n",
      " 1   High       2011 non-null   float64\n",
      " 2   Low        2011 non-null   float64\n",
      " 3   Close      2011 non-null   float64\n",
      " 4   Adj Close  2011 non-null   float64\n",
      " 5   Volume     2011 non-null   int64  \n",
      "dtypes: float64(5), int64(1)\n",
      "memory usage: 110.0 KB\n"
     ]
    },
    {
     "data": {
      "text/plain": [
       "None"
      ]
     },
     "metadata": {},
     "output_type": "display_data"
    }
   ],
   "source": [
    "#checking for null values\n",
    "print(\"Starbucks data has missing values : {}\".format(starbucks.isnull().values.any()))\n",
    "#Basic info\n",
    "display(starbucks.info())"
   ]
  },
  {
   "cell_type": "code",
   "execution_count": 31,
   "metadata": {},
   "outputs": [
    {
     "name": "stdout",
     "output_type": "stream",
     "text": [
      "Calculating technical indicators of given stock price\n",
      "RSI column added\n",
      "MACD column added\n",
      "SMA column added\n",
      "STDEV column added\n",
      "Upper_Band column added\n",
      "Lower_Band column added\n",
      "DIFF column added\n"
     ]
    },
    {
     "data": {
      "text/plain": [
       "Index(['Open', 'High', 'Low', 'Close', 'Adj Close', 'Volume', 'RSI', 'MACD',\n",
       "       'SMA', 'STDEV', 'Upper_Band', 'Lower_Band', 'DIFF'],\n",
       "      dtype='object')"
      ]
     },
     "execution_count": 31,
     "metadata": {},
     "output_type": "execute_result"
    }
   ],
   "source": [
    "#Get adj_close data for the technical indicators\n",
    "df_tech = starbucks['Adj Close']\n",
    "\n",
    "#calculate technical indicators and adding indicators to the data\n",
    "final_df = calc_Tech_ind_add_col(df_tech, starbucks)\n",
    "final_df.columns"
   ]
  },
  {
   "cell_type": "code",
   "execution_count": 32,
   "metadata": {},
   "outputs": [
    {
     "data": {
      "text/html": [
       "<div>\n",
       "<style scoped>\n",
       "    .dataframe tbody tr th:only-of-type {\n",
       "        vertical-align: middle;\n",
       "    }\n",
       "\n",
       "    .dataframe tbody tr th {\n",
       "        vertical-align: top;\n",
       "    }\n",
       "\n",
       "    .dataframe thead th {\n",
       "        text-align: right;\n",
       "    }\n",
       "</style>\n",
       "<table border=\"1\" class=\"dataframe\">\n",
       "  <thead>\n",
       "    <tr style=\"text-align: right;\">\n",
       "      <th></th>\n",
       "      <th>Open</th>\n",
       "      <th>High</th>\n",
       "      <th>Low</th>\n",
       "      <th>Close</th>\n",
       "      <th>Adj Close</th>\n",
       "      <th>Volume</th>\n",
       "      <th>RSI</th>\n",
       "      <th>MACD</th>\n",
       "      <th>SMA</th>\n",
       "      <th>STDEV</th>\n",
       "      <th>Upper_Band</th>\n",
       "      <th>Lower_Band</th>\n",
       "      <th>DIFF</th>\n",
       "    </tr>\n",
       "    <tr>\n",
       "      <th>Date</th>\n",
       "      <th></th>\n",
       "      <th></th>\n",
       "      <th></th>\n",
       "      <th></th>\n",
       "      <th></th>\n",
       "      <th></th>\n",
       "      <th></th>\n",
       "      <th></th>\n",
       "      <th></th>\n",
       "      <th></th>\n",
       "      <th></th>\n",
       "      <th></th>\n",
       "      <th></th>\n",
       "    </tr>\n",
       "  </thead>\n",
       "  <tbody>\n",
       "    <tr>\n",
       "      <th>2012-01-03</th>\n",
       "      <td>23.424999</td>\n",
       "      <td>23.520000</td>\n",
       "      <td>22.639999</td>\n",
       "      <td>22.645000</td>\n",
       "      <td>19.675068</td>\n",
       "      <td>12922400</td>\n",
       "      <td>NaN</td>\n",
       "      <td>NaN</td>\n",
       "      <td>NaN</td>\n",
       "      <td>NaN</td>\n",
       "      <td>NaN</td>\n",
       "      <td>NaN</td>\n",
       "      <td>NaN</td>\n",
       "    </tr>\n",
       "    <tr>\n",
       "      <th>2012-01-04</th>\n",
       "      <td>22.705000</td>\n",
       "      <td>23.315001</td>\n",
       "      <td>22.639999</td>\n",
       "      <td>23.084999</td>\n",
       "      <td>20.057360</td>\n",
       "      <td>13886800</td>\n",
       "      <td>100.000000</td>\n",
       "      <td>NaN</td>\n",
       "      <td>NaN</td>\n",
       "      <td>NaN</td>\n",
       "      <td>NaN</td>\n",
       "      <td>NaN</td>\n",
       "      <td>NaN</td>\n",
       "    </tr>\n",
       "    <tr>\n",
       "      <th>2012-01-05</th>\n",
       "      <td>23.094999</td>\n",
       "      <td>23.200001</td>\n",
       "      <td>22.775000</td>\n",
       "      <td>23.180000</td>\n",
       "      <td>20.139898</td>\n",
       "      <td>9731800</td>\n",
       "      <td>100.000000</td>\n",
       "      <td>NaN</td>\n",
       "      <td>NaN</td>\n",
       "      <td>NaN</td>\n",
       "      <td>NaN</td>\n",
       "      <td>NaN</td>\n",
       "      <td>NaN</td>\n",
       "    </tr>\n",
       "    <tr>\n",
       "      <th>2012-01-06</th>\n",
       "      <td>23.190001</td>\n",
       "      <td>23.455000</td>\n",
       "      <td>23.115000</td>\n",
       "      <td>23.360001</td>\n",
       "      <td>20.296291</td>\n",
       "      <td>8105400</td>\n",
       "      <td>100.000000</td>\n",
       "      <td>NaN</td>\n",
       "      <td>NaN</td>\n",
       "      <td>NaN</td>\n",
       "      <td>NaN</td>\n",
       "      <td>NaN</td>\n",
       "      <td>NaN</td>\n",
       "    </tr>\n",
       "    <tr>\n",
       "      <th>2012-01-09</th>\n",
       "      <td>23.365000</td>\n",
       "      <td>23.400000</td>\n",
       "      <td>23.135000</td>\n",
       "      <td>23.295000</td>\n",
       "      <td>20.239815</td>\n",
       "      <td>7261600</td>\n",
       "      <td>98.855975</td>\n",
       "      <td>NaN</td>\n",
       "      <td>NaN</td>\n",
       "      <td>0.245142</td>\n",
       "      <td>NaN</td>\n",
       "      <td>NaN</td>\n",
       "      <td>NaN</td>\n",
       "    </tr>\n",
       "  </tbody>\n",
       "</table>\n",
       "</div>"
      ],
      "text/plain": [
       "                 Open       High        Low      Close  Adj Close    Volume  \\\n",
       "Date                                                                          \n",
       "2012-01-03  23.424999  23.520000  22.639999  22.645000  19.675068  12922400   \n",
       "2012-01-04  22.705000  23.315001  22.639999  23.084999  20.057360  13886800   \n",
       "2012-01-05  23.094999  23.200001  22.775000  23.180000  20.139898   9731800   \n",
       "2012-01-06  23.190001  23.455000  23.115000  23.360001  20.296291   8105400   \n",
       "2012-01-09  23.365000  23.400000  23.135000  23.295000  20.239815   7261600   \n",
       "\n",
       "                   RSI  MACD  SMA     STDEV  Upper_Band  Lower_Band  DIFF  \n",
       "Date                                                                       \n",
       "2012-01-03         NaN   NaN  NaN       NaN         NaN         NaN   NaN  \n",
       "2012-01-04  100.000000   NaN  NaN       NaN         NaN         NaN   NaN  \n",
       "2012-01-05  100.000000   NaN  NaN       NaN         NaN         NaN   NaN  \n",
       "2012-01-06  100.000000   NaN  NaN       NaN         NaN         NaN   NaN  \n",
       "2012-01-09   98.855975   NaN  NaN  0.245142         NaN         NaN   NaN  "
      ]
     },
     "execution_count": 32,
     "metadata": {},
     "output_type": "execute_result"
    }
   ],
   "source": [
    "#Final dataframe with all the technical indicators\n",
    "final_df.head()"
   ]
  },
  {
   "cell_type": "code",
   "execution_count": 33,
   "metadata": {},
   "outputs": [
    {
     "data": {
      "text/plain": [
       "Open           0\n",
       "High           0\n",
       "Low            0\n",
       "Close          0\n",
       "Adj Close      0\n",
       "Volume         0\n",
       "RSI            1\n",
       "MACD          33\n",
       "SMA           14\n",
       "STDEV          4\n",
       "Upper_Band    14\n",
       "Lower_Band    14\n",
       "DIFF          25\n",
       "dtype: int64"
      ]
     },
     "execution_count": 33,
     "metadata": {},
     "output_type": "execute_result"
    }
   ],
   "source": [
    "#Checking no of null values in each columns\n",
    "final_df.isnull().sum()"
   ]
  },
  {
   "cell_type": "code",
   "execution_count": 34,
   "metadata": {},
   "outputs": [],
   "source": [
    "#Removing null rows from final_df\n",
    "#final_df has 33 null values so dropping those rows --> this is because introduction of technical indicators\n",
    "final_df = final_df[33:]"
   ]
  },
  {
   "cell_type": "markdown",
   "metadata": {},
   "source": [
    "# Selecting features df and target df\n",
    "Target is Adj Close\n",
    "\n",
    "Features are ['Open', 'High', 'Low', 'Volume', 'RSI', 'MACD','SMA', 'STDEV', 'Upper_Band', 'Lower_Band', 'DIFF']"
   ]
  },
  {
   "cell_type": "code",
   "execution_count": 35,
   "metadata": {},
   "outputs": [],
   "source": [
    "#getting feature df from final_df\n",
    "features_df = final_df[['Open', 'High', 'Low', 'Volume', 'RSI', 'MACD',\n",
    "       'SMA', 'STDEV', 'Upper_Band', 'Lower_Band', 'DIFF']]\n",
    "#getting target df from final_df\n",
    "target_df = final_df[['Adj Close']]"
   ]
  },
  {
   "cell_type": "code",
   "execution_count": 36,
   "metadata": {},
   "outputs": [
    {
     "data": {
      "text/plain": [
       "Open          0\n",
       "High          0\n",
       "Low           0\n",
       "Close         0\n",
       "Adj Close     0\n",
       "Volume        0\n",
       "RSI           0\n",
       "MACD          0\n",
       "SMA           0\n",
       "STDEV         0\n",
       "Upper_Band    0\n",
       "Lower_Band    0\n",
       "DIFF          0\n",
       "dtype: int64"
      ]
     },
     "execution_count": 36,
     "metadata": {},
     "output_type": "execute_result"
    }
   ],
   "source": [
    "#Checking no of null values in each columns\n",
    "final_df.isnull().sum()"
   ]
  },
  {
   "cell_type": "code",
   "execution_count": 37,
   "metadata": {},
   "outputs": [
    {
     "data": {
      "text/html": [
       "<div>\n",
       "<style scoped>\n",
       "    .dataframe tbody tr th:only-of-type {\n",
       "        vertical-align: middle;\n",
       "    }\n",
       "\n",
       "    .dataframe tbody tr th {\n",
       "        vertical-align: top;\n",
       "    }\n",
       "\n",
       "    .dataframe thead th {\n",
       "        text-align: right;\n",
       "    }\n",
       "</style>\n",
       "<table border=\"1\" class=\"dataframe\">\n",
       "  <thead>\n",
       "    <tr style=\"text-align: right;\">\n",
       "      <th></th>\n",
       "      <th>Open</th>\n",
       "      <th>High</th>\n",
       "      <th>Low</th>\n",
       "      <th>Volume</th>\n",
       "      <th>RSI</th>\n",
       "      <th>MACD</th>\n",
       "      <th>SMA</th>\n",
       "      <th>STDEV</th>\n",
       "      <th>Upper_Band</th>\n",
       "      <th>Lower_Band</th>\n",
       "      <th>DIFF</th>\n",
       "    </tr>\n",
       "    <tr>\n",
       "      <th>Date</th>\n",
       "      <th></th>\n",
       "      <th></th>\n",
       "      <th></th>\n",
       "      <th></th>\n",
       "      <th></th>\n",
       "      <th></th>\n",
       "      <th></th>\n",
       "      <th></th>\n",
       "      <th></th>\n",
       "      <th></th>\n",
       "      <th></th>\n",
       "    </tr>\n",
       "  </thead>\n",
       "  <tbody>\n",
       "    <tr>\n",
       "      <th>2012-02-21</th>\n",
       "      <td>24.209999</td>\n",
       "      <td>24.434999</td>\n",
       "      <td>24.035000</td>\n",
       "      <td>8291600</td>\n",
       "      <td>64.934085</td>\n",
       "      <td>0.136359</td>\n",
       "      <td>21.128960</td>\n",
       "      <td>0.141858</td>\n",
       "      <td>21.569009</td>\n",
       "      <td>20.688910</td>\n",
       "      <td>0.107286</td>\n",
       "    </tr>\n",
       "    <tr>\n",
       "      <th>2012-02-22</th>\n",
       "      <td>24.145000</td>\n",
       "      <td>24.219999</td>\n",
       "      <td>23.934999</td>\n",
       "      <td>8649400</td>\n",
       "      <td>65.384791</td>\n",
       "      <td>0.126738</td>\n",
       "      <td>21.145776</td>\n",
       "      <td>0.047496</td>\n",
       "      <td>21.552878</td>\n",
       "      <td>20.738674</td>\n",
       "      <td>0.093420</td>\n",
       "    </tr>\n",
       "    <tr>\n",
       "      <th>2012-02-23</th>\n",
       "      <td>24.170000</td>\n",
       "      <td>24.275000</td>\n",
       "      <td>24.000000</td>\n",
       "      <td>8253400</td>\n",
       "      <td>66.247952</td>\n",
       "      <td>0.117772</td>\n",
       "      <td>21.157102</td>\n",
       "      <td>0.046198</td>\n",
       "      <td>21.550886</td>\n",
       "      <td>20.763319</td>\n",
       "      <td>0.085759</td>\n",
       "    </tr>\n",
       "    <tr>\n",
       "      <th>2012-02-24</th>\n",
       "      <td>24.200001</td>\n",
       "      <td>24.350000</td>\n",
       "      <td>24.049999</td>\n",
       "      <td>6553400</td>\n",
       "      <td>64.138811</td>\n",
       "      <td>0.108266</td>\n",
       "      <td>21.180577</td>\n",
       "      <td>0.039357</td>\n",
       "      <td>21.492171</td>\n",
       "      <td>20.868983</td>\n",
       "      <td>0.073511</td>\n",
       "    </tr>\n",
       "    <tr>\n",
       "      <th>2012-02-27</th>\n",
       "      <td>24.065001</td>\n",
       "      <td>24.280001</td>\n",
       "      <td>23.889999</td>\n",
       "      <td>6713000</td>\n",
       "      <td>63.195723</td>\n",
       "      <td>0.098214</td>\n",
       "      <td>21.182901</td>\n",
       "      <td>0.038824</td>\n",
       "      <td>21.488916</td>\n",
       "      <td>20.876887</td>\n",
       "      <td>0.060767</td>\n",
       "    </tr>\n",
       "  </tbody>\n",
       "</table>\n",
       "</div>"
      ],
      "text/plain": [
       "                 Open       High        Low   Volume        RSI      MACD  \\\n",
       "Date                                                                        \n",
       "2012-02-21  24.209999  24.434999  24.035000  8291600  64.934085  0.136359   \n",
       "2012-02-22  24.145000  24.219999  23.934999  8649400  65.384791  0.126738   \n",
       "2012-02-23  24.170000  24.275000  24.000000  8253400  66.247952  0.117772   \n",
       "2012-02-24  24.200001  24.350000  24.049999  6553400  64.138811  0.108266   \n",
       "2012-02-27  24.065001  24.280001  23.889999  6713000  63.195723  0.098214   \n",
       "\n",
       "                  SMA     STDEV  Upper_Band  Lower_Band      DIFF  \n",
       "Date                                                               \n",
       "2012-02-21  21.128960  0.141858   21.569009   20.688910  0.107286  \n",
       "2012-02-22  21.145776  0.047496   21.552878   20.738674  0.093420  \n",
       "2012-02-23  21.157102  0.046198   21.550886   20.763319  0.085759  \n",
       "2012-02-24  21.180577  0.039357   21.492171   20.868983  0.073511  \n",
       "2012-02-27  21.182901  0.038824   21.488916   20.876887  0.060767  "
      ]
     },
     "metadata": {},
     "output_type": "display_data"
    },
    {
     "data": {
      "text/html": [
       "<div>\n",
       "<style scoped>\n",
       "    .dataframe tbody tr th:only-of-type {\n",
       "        vertical-align: middle;\n",
       "    }\n",
       "\n",
       "    .dataframe tbody tr th {\n",
       "        vertical-align: top;\n",
       "    }\n",
       "\n",
       "    .dataframe thead th {\n",
       "        text-align: right;\n",
       "    }\n",
       "</style>\n",
       "<table border=\"1\" class=\"dataframe\">\n",
       "  <thead>\n",
       "    <tr style=\"text-align: right;\">\n",
       "      <th></th>\n",
       "      <th>Adj Close</th>\n",
       "    </tr>\n",
       "    <tr>\n",
       "      <th>Date</th>\n",
       "      <th></th>\n",
       "    </tr>\n",
       "  </thead>\n",
       "  <tbody>\n",
       "    <tr>\n",
       "      <th>2012-02-21</th>\n",
       "      <td>21.039326</td>\n",
       "    </tr>\n",
       "    <tr>\n",
       "      <th>2012-02-22</th>\n",
       "      <td>21.069845</td>\n",
       "    </tr>\n",
       "    <tr>\n",
       "      <th>2012-02-23</th>\n",
       "      <td>21.126520</td>\n",
       "    </tr>\n",
       "    <tr>\n",
       "      <th>2012-02-24</th>\n",
       "      <td>21.056763</td>\n",
       "    </tr>\n",
       "    <tr>\n",
       "      <th>2012-02-27</th>\n",
       "      <td>21.026245</td>\n",
       "    </tr>\n",
       "  </tbody>\n",
       "</table>\n",
       "</div>"
      ],
      "text/plain": [
       "            Adj Close\n",
       "Date                 \n",
       "2012-02-21  21.039326\n",
       "2012-02-22  21.069845\n",
       "2012-02-23  21.126520\n",
       "2012-02-24  21.056763\n",
       "2012-02-27  21.026245"
      ]
     },
     "metadata": {},
     "output_type": "display_data"
    }
   ],
   "source": [
    "#Check sample of feature and target df\n",
    "display(features_df.head(5))\n",
    "display(target_df.head(5))"
   ]
  },
  {
   "cell_type": "markdown",
   "metadata": {},
   "source": [
    "# Normalizing the data"
   ]
  },
  {
   "cell_type": "code",
   "execution_count": 38,
   "metadata": {},
   "outputs": [],
   "source": [
    "#normalizing features df\n",
    "normalized_features_df = normalize_featuresDF(features_df)"
   ]
  },
  {
   "cell_type": "code",
   "execution_count": 39,
   "metadata": {},
   "outputs": [
    {
     "name": "stdout",
     "output_type": "stream",
     "text": [
      "feature_df has (rows, columns) : (1978, 11) \n",
      "target_df has (rows, columns) : (1978, 1) \n"
     ]
    }
   ],
   "source": [
    "#Get shape of the features and target data\n",
    "print(\"feature_df has (rows, columns) : {} \".format(normalized_features_df.shape))\n",
    "print(\"target_df has (rows, columns) : {} \".format(target_df.shape))"
   ]
  },
  {
   "cell_type": "code",
   "execution_count": 40,
   "metadata": {},
   "outputs": [
    {
     "data": {
      "text/html": [
       "<div>\n",
       "<style scoped>\n",
       "    .dataframe tbody tr th:only-of-type {\n",
       "        vertical-align: middle;\n",
       "    }\n",
       "\n",
       "    .dataframe tbody tr th {\n",
       "        vertical-align: top;\n",
       "    }\n",
       "\n",
       "    .dataframe thead th {\n",
       "        text-align: right;\n",
       "    }\n",
       "</style>\n",
       "<table border=\"1\" class=\"dataframe\">\n",
       "  <thead>\n",
       "    <tr style=\"text-align: right;\">\n",
       "      <th></th>\n",
       "      <th>Open</th>\n",
       "      <th>High</th>\n",
       "      <th>Low</th>\n",
       "      <th>Volume</th>\n",
       "      <th>RSI</th>\n",
       "      <th>MACD</th>\n",
       "      <th>SMA</th>\n",
       "      <th>STDEV</th>\n",
       "      <th>Upper_Band</th>\n",
       "      <th>Lower_Band</th>\n",
       "      <th>DIFF</th>\n",
       "    </tr>\n",
       "    <tr>\n",
       "      <th>Date</th>\n",
       "      <th></th>\n",
       "      <th></th>\n",
       "      <th></th>\n",
       "      <th></th>\n",
       "      <th></th>\n",
       "      <th></th>\n",
       "      <th></th>\n",
       "      <th></th>\n",
       "      <th></th>\n",
       "      <th></th>\n",
       "      <th></th>\n",
       "    </tr>\n",
       "  </thead>\n",
       "  <tbody>\n",
       "    <tr>\n",
       "      <th>2012-02-21</th>\n",
       "      <td>0.031569</td>\n",
       "      <td>0.030207</td>\n",
       "      <td>0.033228</td>\n",
       "      <td>0.106963</td>\n",
       "      <td>0.679324</td>\n",
       "      <td>0.433086</td>\n",
       "      <td>0.015142</td>\n",
       "      <td>0.024692</td>\n",
       "      <td>0.001793</td>\n",
       "      <td>0.040310</td>\n",
       "      <td>0.426651</td>\n",
       "    </tr>\n",
       "    <tr>\n",
       "      <th>2012-02-22</th>\n",
       "      <td>0.030718</td>\n",
       "      <td>0.027438</td>\n",
       "      <td>0.031906</td>\n",
       "      <td>0.112902</td>\n",
       "      <td>0.686452</td>\n",
       "      <td>0.431018</td>\n",
       "      <td>0.015367</td>\n",
       "      <td>0.002657</td>\n",
       "      <td>0.001584</td>\n",
       "      <td>0.040967</td>\n",
       "      <td>0.424027</td>\n",
       "    </tr>\n",
       "    <tr>\n",
       "      <th>2012-02-23</th>\n",
       "      <td>0.031045</td>\n",
       "      <td>0.028146</td>\n",
       "      <td>0.032765</td>\n",
       "      <td>0.106329</td>\n",
       "      <td>0.700101</td>\n",
       "      <td>0.429092</td>\n",
       "      <td>0.015518</td>\n",
       "      <td>0.002354</td>\n",
       "      <td>0.001558</td>\n",
       "      <td>0.041292</td>\n",
       "      <td>0.422577</td>\n",
       "    </tr>\n",
       "    <tr>\n",
       "      <th>2012-02-24</th>\n",
       "      <td>0.031438</td>\n",
       "      <td>0.029112</td>\n",
       "      <td>0.033426</td>\n",
       "      <td>0.078110</td>\n",
       "      <td>0.666748</td>\n",
       "      <td>0.427049</td>\n",
       "      <td>0.015832</td>\n",
       "      <td>0.000756</td>\n",
       "      <td>0.000797</td>\n",
       "      <td>0.042686</td>\n",
       "      <td>0.420259</td>\n",
       "    </tr>\n",
       "    <tr>\n",
       "      <th>2012-02-27</th>\n",
       "      <td>0.029670</td>\n",
       "      <td>0.028211</td>\n",
       "      <td>0.031312</td>\n",
       "      <td>0.080759</td>\n",
       "      <td>0.651834</td>\n",
       "      <td>0.424888</td>\n",
       "      <td>0.015863</td>\n",
       "      <td>0.000631</td>\n",
       "      <td>0.000755</td>\n",
       "      <td>0.042790</td>\n",
       "      <td>0.417847</td>\n",
       "    </tr>\n",
       "    <tr>\n",
       "      <th>...</th>\n",
       "      <td>...</td>\n",
       "      <td>...</td>\n",
       "      <td>...</td>\n",
       "      <td>...</td>\n",
       "      <td>...</td>\n",
       "      <td>...</td>\n",
       "      <td>...</td>\n",
       "      <td>...</td>\n",
       "      <td>...</td>\n",
       "      <td>...</td>\n",
       "      <td>...</td>\n",
       "    </tr>\n",
       "    <tr>\n",
       "      <th>2019-12-23</th>\n",
       "      <td>0.875295</td>\n",
       "      <td>0.859977</td>\n",
       "      <td>0.880698</td>\n",
       "      <td>0.041530</td>\n",
       "      <td>0.635495</td>\n",
       "      <td>0.603963</td>\n",
       "      <td>0.885077</td>\n",
       "      <td>0.043004</td>\n",
       "      <td>0.878159</td>\n",
       "      <td>0.865940</td>\n",
       "      <td>0.616685</td>\n",
       "    </tr>\n",
       "    <tr>\n",
       "      <th>2019-12-24</th>\n",
       "      <td>0.869793</td>\n",
       "      <td>0.856756</td>\n",
       "      <td>0.878319</td>\n",
       "      <td>0.000000</td>\n",
       "      <td>0.656803</td>\n",
       "      <td>0.611387</td>\n",
       "      <td>0.888339</td>\n",
       "      <td>0.044991</td>\n",
       "      <td>0.878598</td>\n",
       "      <td>0.871934</td>\n",
       "      <td>0.615330</td>\n",
       "    </tr>\n",
       "    <tr>\n",
       "      <th>2019-12-26</th>\n",
       "      <td>0.876736</td>\n",
       "      <td>0.858817</td>\n",
       "      <td>0.875545</td>\n",
       "      <td>0.038675</td>\n",
       "      <td>0.601844</td>\n",
       "      <td>0.615051</td>\n",
       "      <td>0.890702</td>\n",
       "      <td>0.037279</td>\n",
       "      <td>0.878238</td>\n",
       "      <td>0.876966</td>\n",
       "      <td>0.605311</td>\n",
       "    </tr>\n",
       "    <tr>\n",
       "      <th>2019-12-27</th>\n",
       "      <td>0.868614</td>\n",
       "      <td>0.854953</td>\n",
       "      <td>0.874224</td>\n",
       "      <td>0.037871</td>\n",
       "      <td>0.606026</td>\n",
       "      <td>0.615855</td>\n",
       "      <td>0.893947</td>\n",
       "      <td>0.037051</td>\n",
       "      <td>0.873076</td>\n",
       "      <td>0.888627</td>\n",
       "      <td>0.595941</td>\n",
       "    </tr>\n",
       "    <tr>\n",
       "      <th>2019-12-30</th>\n",
       "      <td>0.867304</td>\n",
       "      <td>0.851604</td>\n",
       "      <td>0.865900</td>\n",
       "      <td>0.046608</td>\n",
       "      <td>0.521029</td>\n",
       "      <td>0.611998</td>\n",
       "      <td>0.894934</td>\n",
       "      <td>0.083161</td>\n",
       "      <td>0.871905</td>\n",
       "      <td>0.891769</td>\n",
       "      <td>0.576129</td>\n",
       "    </tr>\n",
       "  </tbody>\n",
       "</table>\n",
       "<p>1978 rows × 11 columns</p>\n",
       "</div>"
      ],
      "text/plain": [
       "                Open      High       Low    Volume       RSI      MACD  \\\n",
       "Date                                                                     \n",
       "2012-02-21  0.031569  0.030207  0.033228  0.106963  0.679324  0.433086   \n",
       "2012-02-22  0.030718  0.027438  0.031906  0.112902  0.686452  0.431018   \n",
       "2012-02-23  0.031045  0.028146  0.032765  0.106329  0.700101  0.429092   \n",
       "2012-02-24  0.031438  0.029112  0.033426  0.078110  0.666748  0.427049   \n",
       "2012-02-27  0.029670  0.028211  0.031312  0.080759  0.651834  0.424888   \n",
       "...              ...       ...       ...       ...       ...       ...   \n",
       "2019-12-23  0.875295  0.859977  0.880698  0.041530  0.635495  0.603963   \n",
       "2019-12-24  0.869793  0.856756  0.878319  0.000000  0.656803  0.611387   \n",
       "2019-12-26  0.876736  0.858817  0.875545  0.038675  0.601844  0.615051   \n",
       "2019-12-27  0.868614  0.854953  0.874224  0.037871  0.606026  0.615855   \n",
       "2019-12-30  0.867304  0.851604  0.865900  0.046608  0.521029  0.611998   \n",
       "\n",
       "                 SMA     STDEV  Upper_Band  Lower_Band      DIFF  \n",
       "Date                                                              \n",
       "2012-02-21  0.015142  0.024692    0.001793    0.040310  0.426651  \n",
       "2012-02-22  0.015367  0.002657    0.001584    0.040967  0.424027  \n",
       "2012-02-23  0.015518  0.002354    0.001558    0.041292  0.422577  \n",
       "2012-02-24  0.015832  0.000756    0.000797    0.042686  0.420259  \n",
       "2012-02-27  0.015863  0.000631    0.000755    0.042790  0.417847  \n",
       "...              ...       ...         ...         ...       ...  \n",
       "2019-12-23  0.885077  0.043004    0.878159    0.865940  0.616685  \n",
       "2019-12-24  0.888339  0.044991    0.878598    0.871934  0.615330  \n",
       "2019-12-26  0.890702  0.037279    0.878238    0.876966  0.605311  \n",
       "2019-12-27  0.893947  0.037051    0.873076    0.888627  0.595941  \n",
       "2019-12-30  0.894934  0.083161    0.871905    0.891769  0.576129  \n",
       "\n",
       "[1978 rows x 11 columns]"
      ]
     },
     "metadata": {},
     "output_type": "display_data"
    },
    {
     "data": {
      "text/html": [
       "<div>\n",
       "<style scoped>\n",
       "    .dataframe tbody tr th:only-of-type {\n",
       "        vertical-align: middle;\n",
       "    }\n",
       "\n",
       "    .dataframe tbody tr th {\n",
       "        vertical-align: top;\n",
       "    }\n",
       "\n",
       "    .dataframe thead th {\n",
       "        text-align: right;\n",
       "    }\n",
       "</style>\n",
       "<table border=\"1\" class=\"dataframe\">\n",
       "  <thead>\n",
       "    <tr style=\"text-align: right;\">\n",
       "      <th></th>\n",
       "      <th>Adj Close</th>\n",
       "    </tr>\n",
       "    <tr>\n",
       "      <th>Date</th>\n",
       "      <th></th>\n",
       "    </tr>\n",
       "  </thead>\n",
       "  <tbody>\n",
       "    <tr>\n",
       "      <th>2012-02-21</th>\n",
       "      <td>21.039326</td>\n",
       "    </tr>\n",
       "    <tr>\n",
       "      <th>2012-02-22</th>\n",
       "      <td>21.069845</td>\n",
       "    </tr>\n",
       "    <tr>\n",
       "      <th>2012-02-23</th>\n",
       "      <td>21.126520</td>\n",
       "    </tr>\n",
       "    <tr>\n",
       "      <th>2012-02-24</th>\n",
       "      <td>21.056763</td>\n",
       "    </tr>\n",
       "    <tr>\n",
       "      <th>2012-02-27</th>\n",
       "      <td>21.026245</td>\n",
       "    </tr>\n",
       "    <tr>\n",
       "      <th>...</th>\n",
       "      <td>...</td>\n",
       "    </tr>\n",
       "    <tr>\n",
       "      <th>2019-12-23</th>\n",
       "      <td>87.327194</td>\n",
       "    </tr>\n",
       "    <tr>\n",
       "      <th>2019-12-24</th>\n",
       "      <td>87.614220</td>\n",
       "    </tr>\n",
       "    <tr>\n",
       "      <th>2019-12-26</th>\n",
       "      <td>87.178726</td>\n",
       "    </tr>\n",
       "    <tr>\n",
       "      <th>2019-12-27</th>\n",
       "      <td>87.228210</td>\n",
       "    </tr>\n",
       "    <tr>\n",
       "      <th>2019-12-30</th>\n",
       "      <td>86.545273</td>\n",
       "    </tr>\n",
       "  </tbody>\n",
       "</table>\n",
       "<p>1978 rows × 1 columns</p>\n",
       "</div>"
      ],
      "text/plain": [
       "            Adj Close\n",
       "Date                 \n",
       "2012-02-21  21.039326\n",
       "2012-02-22  21.069845\n",
       "2012-02-23  21.126520\n",
       "2012-02-24  21.056763\n",
       "2012-02-27  21.026245\n",
       "...               ...\n",
       "2019-12-23  87.327194\n",
       "2019-12-24  87.614220\n",
       "2019-12-26  87.178726\n",
       "2019-12-27  87.228210\n",
       "2019-12-30  86.545273\n",
       "\n",
       "[1978 rows x 1 columns]"
      ]
     },
     "metadata": {},
     "output_type": "display_data"
    }
   ],
   "source": [
    "#Look at the final feature df and target df before splitting training/test/validation sets\n",
    "display(normalized_features_df)\n",
    "display(target_df)"
   ]
  },
  {
   "cell_type": "markdown",
   "metadata": {},
   "source": [
    "# Splitting train, test, validation sets"
   ]
  },
  {
   "cell_type": "code",
   "execution_count": 41,
   "metadata": {},
   "outputs": [],
   "source": [
    "#Splitting validation sets from the final features and target df\n",
    "validation_x, validation_y = split_ValidationSet(normalized_features_df, target_df)"
   ]
  },
  {
   "cell_type": "code",
   "execution_count": 42,
   "metadata": {},
   "outputs": [
    {
     "name": "stdout",
     "output_type": "stream",
     "text": [
      "validation_x has (rows, columns) : (89, 11) \n",
      "validation_y has (rows, columns) : (89, 1) \n"
     ]
    }
   ],
   "source": [
    "print(\"validation_x has (rows, columns) : {} \".format(validation_x.shape))\n",
    "print(\"validation_y has (rows, columns) : {} \".format(validation_y.shape))"
   ]
  },
  {
   "cell_type": "code",
   "execution_count": 43,
   "metadata": {},
   "outputs": [],
   "source": [
    "#splitting train and test set from validation set\n",
    "\n",
    "final_features_df, final_target_df = split_Final_df(normalized_features_df, target_df)"
   ]
  },
  {
   "cell_type": "code",
   "execution_count": 44,
   "metadata": {},
   "outputs": [
    {
     "name": "stdout",
     "output_type": "stream",
     "text": [
      "final_features_df has (rows, columns) : (1888, 11) \n",
      "final_target_df has (rows, columns) : (1888, 1) \n"
     ]
    }
   ],
   "source": [
    "print(\"final_features_df has (rows, columns) : {} \".format(final_features_df.shape))\n",
    "print(\"final_target_df has (rows, columns) : {} \".format(final_target_df.shape))"
   ]
  },
  {
   "cell_type": "markdown",
   "metadata": {},
   "source": [
    "# Splitting Train and Test using Skleans TimeSeriesSplit "
   ]
  },
  {
   "cell_type": "code",
   "execution_count": 45,
   "metadata": {},
   "outputs": [],
   "source": [
    "#splitting train and test\n",
    "x_train, y_train, x_test, y_test = split_Train_Test_DF(final_features_df, final_target_df)"
   ]
  },
  {
   "cell_type": "code",
   "execution_count": 46,
   "metadata": {},
   "outputs": [
    {
     "name": "stdout",
     "output_type": "stream",
     "text": [
      "Shape of training sets x_train : (1717, 11), y_train : (1717,)\n",
      "Shape of testing sets x_train : (171, 11), y_train : (171,)\n"
     ]
    }
   ],
   "source": [
    "print(\"Shape of training sets x_train : {}, y_train : {}\".format(x_train.shape, y_train.shape))\n",
    "print(\"Shape of testing sets x_train : {}, y_train : {}\".format(x_test.shape, y_test.shape))"
   ]
  },
  {
   "cell_type": "code",
   "execution_count": 47,
   "metadata": {},
   "outputs": [
    {
     "data": {
      "image/png": "[encoded data removed]",
      "text/plain": [
       "<Figure size 432x288 with 1 Axes>"
      ]
     },
     "metadata": {
      "needs_background": "light"
     },
     "output_type": "display_data"
    }
   ],
   "source": [
    "#Visualizing the train, test and validation sets in single plot\n",
    "#Starbucks\n",
    "plot_3DataSets()"
   ]
  },
  {
   "cell_type": "code",
   "execution_count": 48,
   "metadata": {},
   "outputs": [
    {
     "data": {
      "text/html": [
       "<div>\n",
       "<style scoped>\n",
       "    .dataframe tbody tr th:only-of-type {\n",
       "        vertical-align: middle;\n",
       "    }\n",
       "\n",
       "    .dataframe tbody tr th {\n",
       "        vertical-align: top;\n",
       "    }\n",
       "\n",
       "    .dataframe thead th {\n",
       "        text-align: right;\n",
       "    }\n",
       "</style>\n",
       "<table border=\"1\" class=\"dataframe\">\n",
       "  <thead>\n",
       "    <tr style=\"text-align: right;\">\n",
       "      <th></th>\n",
       "      <th>Open</th>\n",
       "      <th>High</th>\n",
       "      <th>Low</th>\n",
       "      <th>Volume</th>\n",
       "      <th>RSI</th>\n",
       "      <th>MACD</th>\n",
       "      <th>SMA</th>\n",
       "      <th>STDEV</th>\n",
       "      <th>Upper_Band</th>\n",
       "      <th>Lower_Band</th>\n",
       "      <th>DIFF</th>\n",
       "    </tr>\n",
       "    <tr>\n",
       "      <th>Date</th>\n",
       "      <th></th>\n",
       "      <th></th>\n",
       "      <th></th>\n",
       "      <th></th>\n",
       "      <th></th>\n",
       "      <th></th>\n",
       "      <th></th>\n",
       "      <th></th>\n",
       "      <th></th>\n",
       "      <th></th>\n",
       "      <th></th>\n",
       "    </tr>\n",
       "  </thead>\n",
       "  <tbody>\n",
       "    <tr>\n",
       "      <th>2012-02-21</th>\n",
       "      <td>0.031569</td>\n",
       "      <td>0.030207</td>\n",
       "      <td>0.033228</td>\n",
       "      <td>0.106963</td>\n",
       "      <td>0.679324</td>\n",
       "      <td>0.433086</td>\n",
       "      <td>0.015142</td>\n",
       "      <td>0.024692</td>\n",
       "      <td>0.001793</td>\n",
       "      <td>0.040310</td>\n",
       "      <td>0.426651</td>\n",
       "    </tr>\n",
       "    <tr>\n",
       "      <th>2012-02-22</th>\n",
       "      <td>0.030718</td>\n",
       "      <td>0.027438</td>\n",
       "      <td>0.031906</td>\n",
       "      <td>0.112902</td>\n",
       "      <td>0.686452</td>\n",
       "      <td>0.431018</td>\n",
       "      <td>0.015367</td>\n",
       "      <td>0.002657</td>\n",
       "      <td>0.001584</td>\n",
       "      <td>0.040967</td>\n",
       "      <td>0.424027</td>\n",
       "    </tr>\n",
       "    <tr>\n",
       "      <th>2012-02-23</th>\n",
       "      <td>0.031045</td>\n",
       "      <td>0.028146</td>\n",
       "      <td>0.032765</td>\n",
       "      <td>0.106329</td>\n",
       "      <td>0.700101</td>\n",
       "      <td>0.429092</td>\n",
       "      <td>0.015518</td>\n",
       "      <td>0.002354</td>\n",
       "      <td>0.001558</td>\n",
       "      <td>0.041292</td>\n",
       "      <td>0.422577</td>\n",
       "    </tr>\n",
       "    <tr>\n",
       "      <th>2012-02-24</th>\n",
       "      <td>0.031438</td>\n",
       "      <td>0.029112</td>\n",
       "      <td>0.033426</td>\n",
       "      <td>0.078110</td>\n",
       "      <td>0.666748</td>\n",
       "      <td>0.427049</td>\n",
       "      <td>0.015832</td>\n",
       "      <td>0.000756</td>\n",
       "      <td>0.000797</td>\n",
       "      <td>0.042686</td>\n",
       "      <td>0.420259</td>\n",
       "    </tr>\n",
       "    <tr>\n",
       "      <th>2012-02-27</th>\n",
       "      <td>0.029670</td>\n",
       "      <td>0.028211</td>\n",
       "      <td>0.031312</td>\n",
       "      <td>0.080759</td>\n",
       "      <td>0.651834</td>\n",
       "      <td>0.424888</td>\n",
       "      <td>0.015863</td>\n",
       "      <td>0.000631</td>\n",
       "      <td>0.000755</td>\n",
       "      <td>0.042790</td>\n",
       "      <td>0.417847</td>\n",
       "    </tr>\n",
       "    <tr>\n",
       "      <th>...</th>\n",
       "      <td>...</td>\n",
       "      <td>...</td>\n",
       "      <td>...</td>\n",
       "      <td>...</td>\n",
       "      <td>...</td>\n",
       "      <td>...</td>\n",
       "      <td>...</td>\n",
       "      <td>...</td>\n",
       "      <td>...</td>\n",
       "      <td>...</td>\n",
       "      <td>...</td>\n",
       "    </tr>\n",
       "    <tr>\n",
       "      <th>2018-12-10</th>\n",
       "      <td>0.572046</td>\n",
       "      <td>0.563056</td>\n",
       "      <td>0.567182</td>\n",
       "      <td>0.170982</td>\n",
       "      <td>0.500958</td>\n",
       "      <td>0.731978</td>\n",
       "      <td>0.597876</td>\n",
       "      <td>0.186887</td>\n",
       "      <td>0.582405</td>\n",
       "      <td>0.599910</td>\n",
       "      <td>0.601113</td>\n",
       "    </tr>\n",
       "    <tr>\n",
       "      <th>2018-12-11</th>\n",
       "      <td>0.581871</td>\n",
       "      <td>0.577483</td>\n",
       "      <td>0.581319</td>\n",
       "      <td>0.150312</td>\n",
       "      <td>0.537690</td>\n",
       "      <td>0.706119</td>\n",
       "      <td>0.595937</td>\n",
       "      <td>0.119457</td>\n",
       "      <td>0.578098</td>\n",
       "      <td>0.600467</td>\n",
       "      <td>0.581512</td>\n",
       "    </tr>\n",
       "    <tr>\n",
       "      <th>2018-12-12</th>\n",
       "      <td>0.578989</td>\n",
       "      <td>0.577612</td>\n",
       "      <td>0.587660</td>\n",
       "      <td>0.153843</td>\n",
       "      <td>0.555480</td>\n",
       "      <td>0.682191</td>\n",
       "      <td>0.594397</td>\n",
       "      <td>0.094790</td>\n",
       "      <td>0.573857</td>\n",
       "      <td>0.601741</td>\n",
       "      <td>0.567240</td>\n",
       "    </tr>\n",
       "    <tr>\n",
       "      <th>2018-12-13</th>\n",
       "      <td>0.582788</td>\n",
       "      <td>0.581347</td>\n",
       "      <td>0.589378</td>\n",
       "      <td>0.135590</td>\n",
       "      <td>0.618101</td>\n",
       "      <td>0.662691</td>\n",
       "      <td>0.594163</td>\n",
       "      <td>0.125357</td>\n",
       "      <td>0.573098</td>\n",
       "      <td>0.602053</td>\n",
       "      <td>0.565665</td>\n",
       "    </tr>\n",
       "    <tr>\n",
       "      <th>2018-12-14</th>\n",
       "      <td>0.558554</td>\n",
       "      <td>0.563571</td>\n",
       "      <td>0.555688</td>\n",
       "      <td>0.248761</td>\n",
       "      <td>0.457781</td>\n",
       "      <td>0.641168</td>\n",
       "      <td>0.592925</td>\n",
       "      <td>0.132257</td>\n",
       "      <td>0.572911</td>\n",
       "      <td>0.599800</td>\n",
       "      <td>0.539587</td>\n",
       "    </tr>\n",
       "  </tbody>\n",
       "</table>\n",
       "<p>1717 rows × 11 columns</p>\n",
       "</div>"
      ],
      "text/plain": [
       "                Open      High       Low    Volume       RSI      MACD  \\\n",
       "Date                                                                     \n",
       "2012-02-21  0.031569  0.030207  0.033228  0.106963  0.679324  0.433086   \n",
       "2012-02-22  0.030718  0.027438  0.031906  0.112902  0.686452  0.431018   \n",
       "2012-02-23  0.031045  0.028146  0.032765  0.106329  0.700101  0.429092   \n",
       "2012-02-24  0.031438  0.029112  0.033426  0.078110  0.666748  0.427049   \n",
       "2012-02-27  0.029670  0.028211  0.031312  0.080759  0.651834  0.424888   \n",
       "...              ...       ...       ...       ...       ...       ...   \n",
       "2018-12-10  0.572046  0.563056  0.567182  0.170982  0.500958  0.731978   \n",
       "2018-12-11  0.581871  0.577483  0.581319  0.150312  0.537690  0.706119   \n",
       "2018-12-12  0.578989  0.577612  0.587660  0.153843  0.555480  0.682191   \n",
       "2018-12-13  0.582788  0.581347  0.589378  0.135590  0.618101  0.662691   \n",
       "2018-12-14  0.558554  0.563571  0.555688  0.248761  0.457781  0.641168   \n",
       "\n",
       "                 SMA     STDEV  Upper_Band  Lower_Band      DIFF  \n",
       "Date                                                              \n",
       "2012-02-21  0.015142  0.024692    0.001793    0.040310  0.426651  \n",
       "2012-02-22  0.015367  0.002657    0.001584    0.040967  0.424027  \n",
       "2012-02-23  0.015518  0.002354    0.001558    0.041292  0.422577  \n",
       "2012-02-24  0.015832  0.000756    0.000797    0.042686  0.420259  \n",
       "2012-02-27  0.015863  0.000631    0.000755    0.042790  0.417847  \n",
       "...              ...       ...         ...         ...       ...  \n",
       "2018-12-10  0.597876  0.186887    0.582405    0.599910  0.601113  \n",
       "2018-12-11  0.595937  0.119457    0.578098    0.600467  0.581512  \n",
       "2018-12-12  0.594397  0.094790    0.573857    0.601741  0.567240  \n",
       "2018-12-13  0.594163  0.125357    0.573098    0.602053  0.565665  \n",
       "2018-12-14  0.592925  0.132257    0.572911    0.599800  0.539587  \n",
       "\n",
       "[1717 rows x 11 columns]"
      ]
     },
     "execution_count": 48,
     "metadata": {},
     "output_type": "execute_result"
    }
   ],
   "source": [
    "x_train"
   ]
  },
  {
   "cell_type": "markdown",
   "metadata": {},
   "source": [
    "# Model Validation\n",
    "Getting the RMSE and R2 score by predicting the models."
   ]
  },
  {
   "cell_type": "code",
   "execution_count": 49,
   "metadata": {},
   "outputs": [
    {
     "data": {
      "image/png": "[encoded data removed]",
      "text/plain": [
       "<Figure size 432x288 with 1 Axes>"
      ]
     },
     "metadata": {
      "needs_background": "light"
     },
     "output_type": "display_data"
    },
    {
     "name": "stdout",
     "output_type": "stream",
     "text": [
      "Benchmark-DTR RMSE:  21.062661876991406\n",
      "Benchmark-DTR R2 score:  -26.443680317986924\n"
     ]
    }
   ],
   "source": [
    "#Benchmark - DTR model RMSE and R2 score with plot\n",
    "RMSE_Score, R2_Score = model_validateResult(model_Benchmark_DTR, model_name = \"Benchmark-DTR\")"
   ]
  },
  {
   "cell_type": "code",
   "execution_count": 50,
   "metadata": {},
   "outputs": [
    {
     "name": "stdout",
     "output_type": "stream",
     "text": [
      "RMSE_Score :  21.062661876991406\n",
      "R2_Score :  -26.443680317986924\n"
     ]
    }
   ],
   "source": [
    "#Benchmark Model\n",
    "print(\"RMSE_Score : \", RMSE_Score)\n",
    "print(\"R2_Score : \", R2_Score)"
   ]
  },
  {
   "cell_type": "code",
   "execution_count": null,
   "metadata": {},
   "outputs": [],
   "source": []
  },
  {
   "cell_type": "markdown",
   "metadata": {},
   "source": [
    "# Solution Models validation"
   ]
  },
  {
   "cell_type": "markdown",
   "metadata": {},
   "source": [
    "# SVR"
   ]
  },
  {
   "cell_type": "code",
   "execution_count": 51,
   "metadata": {},
   "outputs": [
    {
     "data": {
      "image/png": "[encoded data removed]",
      "text/plain": [
       "<Figure size 432x288 with 1 Axes>"
      ]
     },
     "metadata": {
      "needs_background": "light"
     },
     "output_type": "display_data"
    },
    {
     "name": "stdout",
     "output_type": "stream",
     "text": [
      "SVR RMSE:  1.4055763757946307\n",
      "SVR R2 score:  0.8777849364184385\n"
     ]
    }
   ],
   "source": [
    "#SVR model\n",
    "RMSE_Score, R2_Score = model_validateResult(model_SVR, model_name = \"SVR\")"
   ]
  },
  {
   "cell_type": "code",
   "execution_count": 52,
   "metadata": {},
   "outputs": [
    {
     "name": "stdout",
     "output_type": "stream",
     "text": [
      "SVR RMSE_Score :  1.4055763757946307\n",
      "SVR R2_Score :  0.8777849364184385\n"
     ]
    }
   ],
   "source": [
    "#SVR Model\n",
    "print(\"SVR RMSE_Score : \", RMSE_Score)\n",
    "print(\"SVR R2_Score : \", R2_Score)"
   ]
  },
  {
   "cell_type": "code",
   "execution_count": 53,
   "metadata": {},
   "outputs": [
    {
     "name": "stdout",
     "output_type": "stream",
     "text": [
      "{'C': 300.0, 'epsilon': 0}\n"
     ]
    },
    {
     "data": {
      "image/png": "[encoded data removed]",
      "text/plain": [
       "<Figure size 432x288 with 1 Axes>"
      ]
     },
     "metadata": {
      "needs_background": "light"
     },
     "output_type": "display_data"
    },
    {
     "name": "stdout",
     "output_type": "stream",
     "text": [
      "SVR_Tuned RMSE:  1.0378068621009788\n",
      "SVR_Tuned R2 score:  0.9333732060549099\n"
     ]
    }
   ],
   "source": [
    "#SVR model Tuning\n",
    "RMSE_Score, R2_Score = model_validateResult(model_SVRTuning, model_name = \"SVR_Tuned\")"
   ]
  },
  {
   "cell_type": "code",
   "execution_count": 54,
   "metadata": {},
   "outputs": [
    {
     "name": "stdout",
     "output_type": "stream",
     "text": [
      "SVR Tuned RMSE_Score :  1.0378068621009788\n",
      "SVR Tuned R2_Score :  0.9333732060549099\n"
     ]
    }
   ],
   "source": [
    "#SVR Tuning Model\n",
    "print(\"SVR Tuned RMSE_Score : \", RMSE_Score)\n",
    "print(\"SVR Tuned R2_Score : \", R2_Score)"
   ]
  },
  {
   "cell_type": "markdown",
   "metadata": {},
   "source": [
    "# Random Forest"
   ]
  },
  {
   "cell_type": "code",
   "execution_count": 55,
   "metadata": {},
   "outputs": [
    {
     "data": {
      "image/png": "[encoded data removed]",
      "text/plain": [
       "<Figure size 432x288 with 1 Axes>"
      ]
     },
     "metadata": {
      "needs_background": "light"
     },
     "output_type": "display_data"
    },
    {
     "name": "stdout",
     "output_type": "stream",
     "text": [
      "RandomForest RMSE:  22.735701793642082\n",
      "RandomForest R2 score:  -30.976620916210354\n"
     ]
    }
   ],
   "source": [
    "#RF model\n",
    "#Validate result for randomForest\n",
    "RMSE_Score, R2_Score = model_validateResult(model_randomForest, \"RandomForest\")"
   ]
  },
  {
   "cell_type": "code",
   "execution_count": 56,
   "metadata": {},
   "outputs": [
    {
     "name": "stdout",
     "output_type": "stream",
     "text": [
      "RF RMSE_Score :  22.735701793642082\n",
      "RF R2_Score :  -30.976620916210354\n"
     ]
    }
   ],
   "source": [
    "#RF Model\n",
    "print(\"RF RMSE_Score : \", RMSE_Score)\n",
    "print(\"RF R2_Score : \", R2_Score)"
   ]
  },
  {
   "cell_type": "code",
   "execution_count": 57,
   "metadata": {},
   "outputs": [
    {
     "name": "stdout",
     "output_type": "stream",
     "text": [
      "{'max_depth': 15, 'max_features': 'auto', 'n_estimators': 10}\n"
     ]
    },
    {
     "data": {
      "image/png": "[encoded data removed]",
      "text/plain": [
       "<Figure size 432x288 with 1 Axes>"
      ]
     },
     "metadata": {
      "needs_background": "light"
     },
     "output_type": "display_data"
    },
    {
     "name": "stdout",
     "output_type": "stream",
     "text": [
      "RandomForest_Tuned RMSE:  22.107111575448627\n",
      "RandomForest_Tuned R2 score:  -29.232902678305255\n"
     ]
    }
   ],
   "source": [
    "#Tuned RF model\n",
    "RMSE_Score, R2_Score = model_validateResult(model_randomForestTuning, \"RandomForest_Tuned\")"
   ]
  },
  {
   "cell_type": "code",
   "execution_count": 58,
   "metadata": {},
   "outputs": [
    {
     "name": "stdout",
     "output_type": "stream",
     "text": [
      "RF Tuned RMSE_Score :  22.107111575448627\n",
      "RF Tuned R2_Score :  -29.232902678305255\n"
     ]
    }
   ],
   "source": [
    "#RF Model\n",
    "print(\"RF Tuned RMSE_Score : \", RMSE_Score)\n",
    "print(\"RF Tuned R2_Score : \", R2_Score)"
   ]
  },
  {
   "cell_type": "markdown",
   "metadata": {},
   "source": [
    "# LSTM\n",
    "\n",
    "Before validating the LSTM model first need to format the data as per LSTM.\n",
    "So i am passing convertion method"
   ]
  },
  {
   "cell_type": "code",
   "execution_count": 59,
   "metadata": {
    "scrolled": false
   },
   "outputs": [
    {
     "name": "stdout",
     "output_type": "stream",
     "text": [
      "WARNING:tensorflow:From /Users/santhosh/opt/anaconda3/lib/python3.7/site-packages/keras/backend/tensorflow_backend.py:422: The name tf.global_variables is deprecated. Please use tf.compat.v1.global_variables instead.\n",
      "\n",
      "Epoch 1/200\n",
      "1717/1717 [==============================] - 5s 3ms/step - loss: 1942.5277\n",
      "Epoch 2/200\n",
      "1717/1717 [==============================] - 1s 515us/step - loss: 1268.2892\n",
      "Epoch 3/200\n",
      "1717/1717 [==============================] - 1s 484us/step - loss: 943.1743\n",
      "Epoch 4/200\n",
      "1717/1717 [==============================] - 1s 596us/step - loss: 803.0656\n",
      "Epoch 5/200\n",
      "1717/1717 [==============================] - 1s 491us/step - loss: 696.6380\n",
      "Epoch 6/200\n",
      "1717/1717 [==============================] - 1s 473us/step - loss: 606.7965\n",
      "Epoch 7/200\n",
      "1717/1717 [==============================] - 1s 447us/step - loss: 535.0495\n",
      "Epoch 8/200\n",
      "1717/1717 [==============================] - 1s 455us/step - loss: 466.0249\n",
      "Epoch 9/200\n",
      "1717/1717 [==============================] - 1s 453us/step - loss: 411.3874\n",
      "Epoch 10/200\n",
      "1717/1717 [==============================] - 1s 454us/step - loss: 367.8089\n",
      "Epoch 11/200\n",
      "1717/1717 [==============================] - 1s 447us/step - loss: 327.8387\n",
      "Epoch 12/200\n",
      "1717/1717 [==============================] - 1s 447us/step - loss: 296.6681\n",
      "Epoch 13/200\n",
      "1717/1717 [==============================] - 1s 448us/step - loss: 270.4214\n",
      "Epoch 14/200\n",
      "1717/1717 [==============================] - 1s 480us/step - loss: 249.4895\n",
      "Epoch 15/200\n",
      "1717/1717 [==============================] - 1s 449us/step - loss: 228.6824\n",
      "Epoch 16/200\n",
      "1717/1717 [==============================] - 1s 446us/step - loss: 214.6747\n",
      "Epoch 17/200\n",
      "1717/1717 [==============================] - 1s 466us/step - loss: 204.6006\n",
      "Epoch 18/200\n",
      "1717/1717 [==============================] - 1s 447us/step - loss: 193.2152\n",
      "Epoch 19/200\n",
      "1717/1717 [==============================] - 1s 460us/step - loss: 188.6552\n",
      "Epoch 20/200\n",
      "1717/1717 [==============================] - 1s 451us/step - loss: 178.3879\n",
      "Epoch 21/200\n",
      "1717/1717 [==============================] - 1s 449us/step - loss: 138.9455\n",
      "Epoch 22/200\n",
      "1717/1717 [==============================] - 1s 463us/step - loss: 113.7788\n",
      "Epoch 23/200\n",
      "1717/1717 [==============================] - 1s 456us/step - loss: 98.4015\n",
      "Epoch 24/200\n",
      "1717/1717 [==============================] - 1s 452us/step - loss: 83.6680\n",
      "Epoch 25/200\n",
      "1717/1717 [==============================] - 1s 450us/step - loss: 73.6949\n",
      "Epoch 26/200\n",
      "1717/1717 [==============================] - 1s 460us/step - loss: 64.9220\n",
      "Epoch 27/200\n",
      "1717/1717 [==============================] - 1s 451us/step - loss: 56.2571\n",
      "Epoch 28/200\n",
      "1717/1717 [==============================] - 1s 462us/step - loss: 46.9778\n",
      "Epoch 29/200\n",
      "1717/1717 [==============================] - 1s 463us/step - loss: 41.6472\n",
      "Epoch 30/200\n",
      "1717/1717 [==============================] - 1s 474us/step - loss: 40.5369\n",
      "Epoch 31/200\n",
      "1717/1717 [==============================] - 1s 456us/step - loss: 36.0838\n",
      "Epoch 32/200\n",
      "1717/1717 [==============================] - 1s 462us/step - loss: 31.3780\n",
      "Epoch 33/200\n",
      "1717/1717 [==============================] - 1s 451us/step - loss: 28.8051\n",
      "Epoch 34/200\n",
      "1717/1717 [==============================] - 1s 453us/step - loss: 25.9810\n",
      "Epoch 35/200\n",
      "1717/1717 [==============================] - 1s 462us/step - loss: 24.8200\n",
      "Epoch 36/200\n",
      "1717/1717 [==============================] - 1s 450us/step - loss: 22.3722\n",
      "Epoch 37/200\n",
      "1717/1717 [==============================] - 1s 469us/step - loss: 21.4978\n",
      "Epoch 38/200\n",
      "1717/1717 [==============================] - 1s 453us/step - loss: 20.8246\n",
      "Epoch 39/200\n",
      "1717/1717 [==============================] - 1s 459us/step - loss: 19.4508\n",
      "Epoch 40/200\n",
      "1717/1717 [==============================] - 1s 464us/step - loss: 19.4377\n",
      "Epoch 41/200\n",
      "1717/1717 [==============================] - 1s 453us/step - loss: 17.2268\n",
      "Epoch 42/200\n",
      "1717/1717 [==============================] - 1s 448us/step - loss: 18.1469\n",
      "Epoch 43/200\n",
      "1717/1717 [==============================] - 1s 466us/step - loss: 16.7868\n",
      "Epoch 44/200\n",
      "1717/1717 [==============================] - 1s 452us/step - loss: 16.5055\n",
      "Epoch 45/200\n",
      "1717/1717 [==============================] - 1s 467us/step - loss: 16.6988\n",
      "Epoch 46/200\n",
      "1717/1717 [==============================] - 1s 453us/step - loss: 17.8829\n",
      "Epoch 47/200\n",
      "1717/1717 [==============================] - 1s 456us/step - loss: 17.2049\n",
      "Epoch 48/200\n",
      "1717/1717 [==============================] - 1s 490us/step - loss: 16.5065\n",
      "Epoch 49/200\n",
      "1717/1717 [==============================] - 1s 618us/step - loss: 15.9779\n",
      "Epoch 50/200\n",
      "1717/1717 [==============================] - 1s 468us/step - loss: 17.3369\n",
      "Epoch 51/200\n",
      "1717/1717 [==============================] - 1s 479us/step - loss: 16.8368\n",
      "Epoch 52/200\n",
      "1717/1717 [==============================] - 1s 466us/step - loss: 15.5060\n",
      "Epoch 53/200\n",
      "1717/1717 [==============================] - 1s 474us/step - loss: 15.6760\n",
      "Epoch 54/200\n",
      "1717/1717 [==============================] - 1s 482us/step - loss: 16.6226\n",
      "Epoch 55/200\n",
      "1717/1717 [==============================] - 1s 463us/step - loss: 16.2580\n",
      "Epoch 56/200\n",
      "1717/1717 [==============================] - 1s 456us/step - loss: 16.4148\n",
      "Epoch 57/200\n",
      "1717/1717 [==============================] - 1s 456us/step - loss: 15.3547\n",
      "Epoch 58/200\n",
      "1717/1717 [==============================] - 1s 463us/step - loss: 15.3525\n",
      "Epoch 59/200\n",
      "1717/1717 [==============================] - 1s 457us/step - loss: 14.2137\n",
      "Epoch 60/200\n",
      "1717/1717 [==============================] - 1s 471us/step - loss: 14.9605\n",
      "Epoch 61/200\n",
      "1717/1717 [==============================] - 1s 459us/step - loss: 15.0596\n",
      "Epoch 62/200\n",
      "1717/1717 [==============================] - 1s 455us/step - loss: 15.7297\n",
      "Epoch 63/200\n",
      "1717/1717 [==============================] - 1s 466us/step - loss: 15.4748\n",
      "Epoch 64/200\n",
      "1717/1717 [==============================] - 1s 461us/step - loss: 14.1110\n",
      "Epoch 65/200\n",
      "1717/1717 [==============================] - 1s 461us/step - loss: 15.7196\n",
      "Epoch 66/200\n",
      "1717/1717 [==============================] - 1s 461us/step - loss: 14.8741\n",
      "Epoch 67/200\n",
      "1717/1717 [==============================] - 1s 458us/step - loss: 13.7867\n",
      "Epoch 68/200\n",
      "1717/1717 [==============================] - 1s 466us/step - loss: 14.5226\n",
      "Epoch 69/200\n",
      "1717/1717 [==============================] - 1s 481us/step - loss: 14.3869\n",
      "Epoch 70/200\n",
      "1717/1717 [==============================] - 1s 467us/step - loss: 13.3575\n",
      "Epoch 71/200\n",
      "1717/1717 [==============================] - 1s 459us/step - loss: 14.4923\n",
      "Epoch 72/200\n",
      "1717/1717 [==============================] - 1s 468us/step - loss: 14.9290\n",
      "Epoch 73/200\n",
      "1717/1717 [==============================] - 1s 461us/step - loss: 14.2419\n",
      "Epoch 74/200\n",
      "1717/1717 [==============================] - 1s 467us/step - loss: 14.0478\n",
      "Epoch 75/200\n",
      "1717/1717 [==============================] - 1s 505us/step - loss: 13.8433\n",
      "Epoch 00075: early stopping\n"
     ]
    },
    {
     "data": {
      "image/png": "[encoded data removed]",
      "text/plain": [
       "<Figure size 432x288 with 1 Axes>"
      ]
     },
     "metadata": {
      "needs_background": "light"
     },
     "output_type": "display_data"
    },
    {
     "name": "stdout",
     "output_type": "stream",
     "text": [
      "LSTM RMSE:  30.73246315786804\n",
      "LSTM R2 score:  -57.426595261266364\n"
     ]
    }
   ],
   "source": [
    "#Before validating the model first need to format the data as per LSTM.\n",
    "#\n",
    "RMSE_Score, R2_Score = model_validateResult(model_LSTM, \"LSTM\")"
   ]
  },
  {
   "cell_type": "code",
   "execution_count": 60,
   "metadata": {},
   "outputs": [
    {
     "name": "stdout",
     "output_type": "stream",
     "text": [
      "LSTM RMSE_Score :  30.73246315786804\n",
      "LSTM R2_Score :  -57.426595261266364\n"
     ]
    }
   ],
   "source": [
    "#LSTM Model\n",
    "print(\"LSTM RMSE_Score : \", RMSE_Score)\n",
    "print(\"LSTM R2_Score : \", R2_Score)"
   ]
  },
  {
   "cell_type": "code",
   "execution_count": 61,
   "metadata": {},
   "outputs": [
    {
     "name": "stdout",
     "output_type": "stream",
     "text": [
      "Epoch 1/200\n",
      "1717/1717 [==============================] - 5s 3ms/step - loss: 1681.6081\n",
      "Epoch 2/200\n",
      "1717/1717 [==============================] - 1s 807us/step - loss: 922.6090\n",
      "Epoch 3/200\n",
      "1717/1717 [==============================] - 1s 824us/step - loss: 699.0171\n",
      "Epoch 4/200\n",
      "1717/1717 [==============================] - 1s 800us/step - loss: 542.1268\n",
      "Epoch 5/200\n",
      "1717/1717 [==============================] - 1s 808us/step - loss: 420.3390\n",
      "Epoch 6/200\n",
      "1717/1717 [==============================] - 1s 797us/step - loss: 347.7599\n",
      "Epoch 7/200\n",
      "1717/1717 [==============================] - 1s 792us/step - loss: 291.3888\n",
      "Epoch 8/200\n",
      "1717/1717 [==============================] - 1s 814us/step - loss: 258.7210\n",
      "Epoch 9/200\n",
      "1717/1717 [==============================] - 1s 790us/step - loss: 231.7367\n",
      "Epoch 10/200\n",
      "1717/1717 [==============================] - 1s 804us/step - loss: 211.5414\n",
      "Epoch 11/200\n",
      "1717/1717 [==============================] - 1s 800us/step - loss: 196.2255\n",
      "Epoch 12/200\n",
      "1717/1717 [==============================] - 1s 794us/step - loss: 139.5549\n",
      "Epoch 13/200\n",
      "1717/1717 [==============================] - 1s 810us/step - loss: 115.2153\n",
      "Epoch 14/200\n",
      "1717/1717 [==============================] - 1s 818us/step - loss: 94.5477\n",
      "Epoch 15/200\n",
      "1717/1717 [==============================] - 1s 815us/step - loss: 85.1003\n",
      "Epoch 16/200\n",
      "1717/1717 [==============================] - 1s 829us/step - loss: 69.1619\n",
      "Epoch 17/200\n",
      "1717/1717 [==============================] - 1s 796us/step - loss: 63.3609\n",
      "Epoch 18/200\n",
      "1717/1717 [==============================] - 1s 800us/step - loss: 60.3191\n",
      "Epoch 19/200\n",
      "1717/1717 [==============================] - 1s 795us/step - loss: 55.1753\n",
      "Epoch 20/200\n",
      "1717/1717 [==============================] - 1s 812us/step - loss: 53.9787\n",
      "Epoch 21/200\n",
      "1717/1717 [==============================] - 1s 799us/step - loss: 51.2234\n",
      "Epoch 22/200\n",
      "1717/1717 [==============================] - 1s 807us/step - loss: 51.5015\n",
      "Epoch 23/200\n",
      "1717/1717 [==============================] - 1s 793us/step - loss: 49.9767\n",
      "Epoch 24/200\n",
      "1717/1717 [==============================] - 1s 811us/step - loss: 47.9289\n",
      "Epoch 25/200\n",
      "1717/1717 [==============================] - 1s 801us/step - loss: 49.1666\n",
      "Epoch 26/200\n",
      "1717/1717 [==============================] - 1s 804us/step - loss: 49.8146\n",
      "Epoch 27/200\n",
      "1717/1717 [==============================] - 1s 798us/step - loss: 47.4715\n",
      "Epoch 28/200\n",
      "1717/1717 [==============================] - 1s 795us/step - loss: 47.2805\n",
      "Epoch 29/200\n",
      "1717/1717 [==============================] - 1s 802us/step - loss: 46.8280\n",
      "Epoch 30/200\n",
      "1717/1717 [==============================] - 1s 816us/step - loss: 45.2773\n",
      "Epoch 31/200\n",
      "1717/1717 [==============================] - 1s 794us/step - loss: 44.1730\n",
      "Epoch 32/200\n",
      "1717/1717 [==============================] - 1s 814us/step - loss: 47.3707\n",
      "Epoch 33/200\n",
      "1717/1717 [==============================] - 1s 808us/step - loss: 44.4093\n",
      "Epoch 34/200\n",
      "1717/1717 [==============================] - 1s 802us/step - loss: 45.0783\n",
      "Epoch 35/200\n",
      "1717/1717 [==============================] - 2s 877us/step - loss: 44.1681\n",
      "Epoch 36/200\n",
      "1717/1717 [==============================] - 1s 842us/step - loss: 43.5964\n",
      "Epoch 37/200\n",
      "1717/1717 [==============================] - 1s 840us/step - loss: 43.9732\n",
      "Epoch 38/200\n",
      "1717/1717 [==============================] - 1s 810us/step - loss: 44.0160\n",
      "Epoch 39/200\n",
      "1717/1717 [==============================] - 1s 860us/step - loss: 45.0491\n",
      "Epoch 40/200\n",
      "1717/1717 [==============================] - 2s 887us/step - loss: 42.7849\n",
      "Epoch 41/200\n",
      "1717/1717 [==============================] - 1s 859us/step - loss: 43.8549\n",
      "Epoch 42/200\n",
      "1717/1717 [==============================] - 1s 828us/step - loss: 47.8041\n",
      "Epoch 43/200\n",
      "1717/1717 [==============================] - 1s 815us/step - loss: 42.9059\n",
      "Epoch 44/200\n",
      "1717/1717 [==============================] - 1s 814us/step - loss: 45.9852\n",
      "Epoch 45/200\n",
      "1717/1717 [==============================] - 1s 810us/step - loss: 40.5148\n",
      "Epoch 46/200\n",
      "1717/1717 [==============================] - 1s 819us/step - loss: 46.0816\n",
      "Epoch 47/200\n",
      "1717/1717 [==============================] - 1s 814us/step - loss: 43.6562\n",
      "Epoch 48/200\n",
      "1717/1717 [==============================] - 1s 835us/step - loss: 42.4606\n",
      "Epoch 49/200\n",
      "1717/1717 [==============================] - 1s 808us/step - loss: 42.4782\n",
      "Epoch 50/200\n",
      "1717/1717 [==============================] - 1s 810us/step - loss: 45.8475\n",
      "Epoch 00050: early stopping\n"
     ]
    },
    {
     "data": {
      "image/png": "[encoded data removed]",
      "text/plain": [
       "<Figure size 432x288 with 1 Axes>"
      ]
     },
     "metadata": {
      "needs_background": "light"
     },
     "output_type": "display_data"
    },
    {
     "name": "stdout",
     "output_type": "stream",
     "text": [
      "LSTM_Tuned RMSE:  33.06680499534911\n",
      "LSTM_Tuned R2 score:  -66.63948748124066\n"
     ]
    }
   ],
   "source": [
    "#LSTM Tuned\n",
    "RMSE_Score, R2_Score = model_validateResult(model_LSTMTuning, \"LSTM_Tuned\")"
   ]
  },
  {
   "cell_type": "code",
   "execution_count": 62,
   "metadata": {},
   "outputs": [
    {
     "name": "stdout",
     "output_type": "stream",
     "text": [
      "LSTM Tuned RMSE_Score :  33.06680499534911\n",
      "LSTM Tuned R2_Score :  -66.63948748124066\n"
     ]
    }
   ],
   "source": [
    "#LSTM Tuned Model\n",
    "print(\"LSTM Tuned RMSE_Score : \", RMSE_Score)\n",
    "print(\"LSTM Tuned R2_Score : \", R2_Score)"
   ]
  },
  {
   "cell_type": "markdown",
   "metadata": {},
   "source": [
    "\n",
    "# Best Model\n",
    "# SVM vs Benchmark- DecisionTreeRegressor\n",
    "Based on the RSME Scroe and R2 Score, I am selecting SVM with tuned model as best model for this.\n",
    "Below I am going predict the value with test df."
   ]
  },
  {
   "cell_type": "code",
   "execution_count": 63,
   "metadata": {},
   "outputs": [
    {
     "name": "stdout",
     "output_type": "stream",
     "text": [
      "{'C': 300.0, 'epsilon': 0}\n",
      "SVR_Best Model RMSE:  0.9440338471546559\n",
      "SVR_Best Model R2 score:  0.9911445502771433\n"
     ]
    },
    {
     "data": {
      "image/png": "[encoded data removed]",
      "text/plain": [
       "<Figure size 432x288 with 1 Axes>"
      ]
     },
     "metadata": {
      "needs_background": "light"
     },
     "output_type": "display_data"
    }
   ],
   "source": [
    "#SVR_Tuning model validation with test data\n",
    "RMSE_Score, R2_Score = bestModel_validateResult(model_SVRTuning, model_name = \"SVR_Best Model\")\n"
   ]
  },
  {
   "cell_type": "code",
   "execution_count": 64,
   "metadata": {},
   "outputs": [
    {
     "name": "stdout",
     "output_type": "stream",
     "text": [
      "Benchmark-DTR RMSE:  13.954225082357135\n",
      "Benchmark-DTR R2 score:  -0.9348483797483156\n"
     ]
    },
    {
     "data": {
      "image/png": "[encoded data removed]",
      "text/plain": [
       "<Figure size 432x288 with 1 Axes>"
      ]
     },
     "metadata": {
      "needs_background": "light"
     },
     "output_type": "display_data"
    }
   ],
   "source": [
    "#Benchmarking model validation with test data\n",
    "RMSE_Score, R2_Score = bestModel_validateResult(model_Benchmark_DTR, model_name = \"Benchmark-DTR\")"
   ]
  },
  {
   "cell_type": "code",
   "execution_count": 65,
   "metadata": {},
   "outputs": [
    {
     "data": {
      "text/html": [
       "<div>\n",
       "<style scoped>\n",
       "    .dataframe tbody tr th:only-of-type {\n",
       "        vertical-align: middle;\n",
       "    }\n",
       "\n",
       "    .dataframe tbody tr th {\n",
       "        vertical-align: top;\n",
       "    }\n",
       "\n",
       "    .dataframe thead th {\n",
       "        text-align: right;\n",
       "    }\n",
       "</style>\n",
       "<table border=\"1\" class=\"dataframe\">\n",
       "  <thead>\n",
       "    <tr style=\"text-align: right;\">\n",
       "      <th></th>\n",
       "      <th>True_value</th>\n",
       "      <th>Predicted_value</th>\n",
       "    </tr>\n",
       "  </thead>\n",
       "  <tbody>\n",
       "    <tr>\n",
       "      <th>0</th>\n",
       "      <td>62.634216</td>\n",
       "      <td>59.706837</td>\n",
       "    </tr>\n",
       "    <tr>\n",
       "      <th>1</th>\n",
       "      <td>63.071400</td>\n",
       "      <td>59.706837</td>\n",
       "    </tr>\n",
       "    <tr>\n",
       "      <th>2</th>\n",
       "      <td>62.235886</td>\n",
       "      <td>63.819469</td>\n",
       "    </tr>\n",
       "    <tr>\n",
       "      <th>3</th>\n",
       "      <td>60.380272</td>\n",
       "      <td>58.475086</td>\n",
       "    </tr>\n",
       "    <tr>\n",
       "      <th>4</th>\n",
       "      <td>59.641914</td>\n",
       "      <td>58.475086</td>\n",
       "    </tr>\n",
       "    <tr>\n",
       "      <th>...</th>\n",
       "      <td>...</td>\n",
       "      <td>...</td>\n",
       "    </tr>\n",
       "    <tr>\n",
       "      <th>166</th>\n",
       "      <td>94.082199</td>\n",
       "      <td>65.577927</td>\n",
       "    </tr>\n",
       "    <tr>\n",
       "      <th>167</th>\n",
       "      <td>95.057190</td>\n",
       "      <td>65.577927</td>\n",
       "    </tr>\n",
       "    <tr>\n",
       "      <th>168</th>\n",
       "      <td>95.195076</td>\n",
       "      <td>65.577927</td>\n",
       "    </tr>\n",
       "    <tr>\n",
       "      <th>169</th>\n",
       "      <td>94.180672</td>\n",
       "      <td>65.577927</td>\n",
       "    </tr>\n",
       "    <tr>\n",
       "      <th>170</th>\n",
       "      <td>94.860222</td>\n",
       "      <td>65.577927</td>\n",
       "    </tr>\n",
       "  </tbody>\n",
       "</table>\n",
       "<p>171 rows × 2 columns</p>\n",
       "</div>"
      ],
      "text/plain": [
       "     True_value  Predicted_value\n",
       "0     62.634216        59.706837\n",
       "1     63.071400        59.706837\n",
       "2     62.235886        63.819469\n",
       "3     60.380272        58.475086\n",
       "4     59.641914        58.475086\n",
       "..          ...              ...\n",
       "166   94.082199        65.577927\n",
       "167   95.057190        65.577927\n",
       "168   95.195076        65.577927\n",
       "169   94.180672        65.577927\n",
       "170   94.860222        65.577927\n",
       "\n",
       "[171 rows x 2 columns]"
      ]
     },
     "metadata": {},
     "output_type": "display_data"
    }
   ],
   "source": [
    "#Benchmark model actual vs prected value\n",
    "benchmark_starbucks_df = value_Compare(model_Benchmark_DTR)\n",
    "display(benchmark_starbucks_df)\n"
   ]
  },
  {
   "cell_type": "code",
   "execution_count": 66,
   "metadata": {},
   "outputs": [
    {
     "name": "stdout",
     "output_type": "stream",
     "text": [
      "{'C': 300.0, 'epsilon': 0}\n"
     ]
    },
    {
     "data": {
      "text/html": [
       "<div>\n",
       "<style scoped>\n",
       "    .dataframe tbody tr th:only-of-type {\n",
       "        vertical-align: middle;\n",
       "    }\n",
       "\n",
       "    .dataframe tbody tr th {\n",
       "        vertical-align: top;\n",
       "    }\n",
       "\n",
       "    .dataframe thead th {\n",
       "        text-align: right;\n",
       "    }\n",
       "</style>\n",
       "<table border=\"1\" class=\"dataframe\">\n",
       "  <thead>\n",
       "    <tr style=\"text-align: right;\">\n",
       "      <th></th>\n",
       "      <th>True_value</th>\n",
       "      <th>Predicted_value</th>\n",
       "    </tr>\n",
       "  </thead>\n",
       "  <tbody>\n",
       "    <tr>\n",
       "      <th>0</th>\n",
       "      <td>62.634216</td>\n",
       "      <td>62.231409</td>\n",
       "    </tr>\n",
       "    <tr>\n",
       "      <th>1</th>\n",
       "      <td>63.071400</td>\n",
       "      <td>62.503296</td>\n",
       "    </tr>\n",
       "    <tr>\n",
       "      <th>2</th>\n",
       "      <td>62.235886</td>\n",
       "      <td>61.798903</td>\n",
       "    </tr>\n",
       "    <tr>\n",
       "      <th>3</th>\n",
       "      <td>60.380272</td>\n",
       "      <td>60.281159</td>\n",
       "    </tr>\n",
       "    <tr>\n",
       "      <th>4</th>\n",
       "      <td>59.641914</td>\n",
       "      <td>60.095261</td>\n",
       "    </tr>\n",
       "    <tr>\n",
       "      <th>...</th>\n",
       "      <td>...</td>\n",
       "      <td>...</td>\n",
       "    </tr>\n",
       "    <tr>\n",
       "      <th>166</th>\n",
       "      <td>94.082199</td>\n",
       "      <td>93.165138</td>\n",
       "    </tr>\n",
       "    <tr>\n",
       "      <th>167</th>\n",
       "      <td>95.057190</td>\n",
       "      <td>93.478712</td>\n",
       "    </tr>\n",
       "    <tr>\n",
       "      <th>168</th>\n",
       "      <td>95.195076</td>\n",
       "      <td>93.365399</td>\n",
       "    </tr>\n",
       "    <tr>\n",
       "      <th>169</th>\n",
       "      <td>94.180672</td>\n",
       "      <td>93.142042</td>\n",
       "    </tr>\n",
       "    <tr>\n",
       "      <th>170</th>\n",
       "      <td>94.860222</td>\n",
       "      <td>93.282034</td>\n",
       "    </tr>\n",
       "  </tbody>\n",
       "</table>\n",
       "<p>171 rows × 2 columns</p>\n",
       "</div>"
      ],
      "text/plain": [
       "     True_value  Predicted_value\n",
       "0     62.634216        62.231409\n",
       "1     63.071400        62.503296\n",
       "2     62.235886        61.798903\n",
       "3     60.380272        60.281159\n",
       "4     59.641914        60.095261\n",
       "..          ...              ...\n",
       "166   94.082199        93.165138\n",
       "167   95.057190        93.478712\n",
       "168   95.195076        93.365399\n",
       "169   94.180672        93.142042\n",
       "170   94.860222        93.282034\n",
       "\n",
       "[171 rows x 2 columns]"
      ]
     },
     "metadata": {},
     "output_type": "display_data"
    }
   ],
   "source": [
    "#SVM_Tuned model actual vs prected value\n",
    "starbucks_prd_df = value_Compare(model_SVRTuning)\n",
    "display(starbucks_prd_df)"
   ]
  },
  {
   "cell_type": "markdown",
   "metadata": {},
   "source": [
    "# ATT\n",
    "I will follow the same steps to validate the ATT data."
   ]
  },
  {
   "cell_type": "code",
   "execution_count": 67,
   "metadata": {},
   "outputs": [],
   "source": [
    "#reading CSV\n",
    "#Fixing date by parsing date columns\n",
    "#Indexing date columns\n",
    "att = pd.read_csv(os.path.join(path, 'T.csv'), index_col='Date',parse_dates=True,infer_datetime_format=True)"
   ]
  },
  {
   "cell_type": "code",
   "execution_count": 68,
   "metadata": {},
   "outputs": [
    {
     "name": "stdout",
     "output_type": "stream",
     "text": [
      "Att data has missing values : False\n",
      "<class 'pandas.core.frame.DataFrame'>\n",
      "DatetimeIndex: 2012 entries, 2011-12-30 to 2019-12-30\n",
      "Data columns (total 6 columns):\n",
      " #   Column     Non-Null Count  Dtype  \n",
      "---  ------     --------------  -----  \n",
      " 0   Open       2012 non-null   float64\n",
      " 1   High       2012 non-null   float64\n",
      " 2   Low        2012 non-null   float64\n",
      " 3   Close      2012 non-null   float64\n",
      " 4   Adj Close  2012 non-null   float64\n",
      " 5   Volume     2012 non-null   int64  \n",
      "dtypes: float64(5), int64(1)\n",
      "memory usage: 110.0 KB\n"
     ]
    },
    {
     "data": {
      "text/plain": [
       "None"
      ]
     },
     "metadata": {},
     "output_type": "display_data"
    }
   ],
   "source": [
    "#checking for null values\n",
    "print(\"Att data has missing values : {}\".format(att.isnull().values.any()))\n",
    "#Basic info\n",
    "display(att.info())"
   ]
  },
  {
   "cell_type": "code",
   "execution_count": 69,
   "metadata": {},
   "outputs": [
    {
     "name": "stdout",
     "output_type": "stream",
     "text": [
      "Calculating technical indicators of given stock price\n",
      "RSI column added\n",
      "MACD column added\n",
      "SMA column added\n",
      "STDEV column added\n",
      "Upper_Band column added\n",
      "Lower_Band column added\n",
      "DIFF column added\n"
     ]
    },
    {
     "data": {
      "text/plain": [
       "Index(['Open', 'High', 'Low', 'Close', 'Adj Close', 'Volume', 'RSI', 'MACD',\n",
       "       'SMA', 'STDEV', 'Upper_Band', 'Lower_Band', 'DIFF'],\n",
       "      dtype='object')"
      ]
     },
     "execution_count": 69,
     "metadata": {},
     "output_type": "execute_result"
    }
   ],
   "source": [
    "#Get adj_close data for the technical indicators\n",
    "df_tech = att['Adj Close']\n",
    "\n",
    "#calculate technical indicators and adding indicators to the data\n",
    "final_df = calc_Tech_ind_add_col(df_tech, att)\n",
    "final_df.columns"
   ]
  },
  {
   "cell_type": "code",
   "execution_count": 70,
   "metadata": {},
   "outputs": [
    {
     "data": {
      "text/html": [
       "<div>\n",
       "<style scoped>\n",
       "    .dataframe tbody tr th:only-of-type {\n",
       "        vertical-align: middle;\n",
       "    }\n",
       "\n",
       "    .dataframe tbody tr th {\n",
       "        vertical-align: top;\n",
       "    }\n",
       "\n",
       "    .dataframe thead th {\n",
       "        text-align: right;\n",
       "    }\n",
       "</style>\n",
       "<table border=\"1\" class=\"dataframe\">\n",
       "  <thead>\n",
       "    <tr style=\"text-align: right;\">\n",
       "      <th></th>\n",
       "      <th>Open</th>\n",
       "      <th>High</th>\n",
       "      <th>Low</th>\n",
       "      <th>Close</th>\n",
       "      <th>Adj Close</th>\n",
       "      <th>Volume</th>\n",
       "      <th>RSI</th>\n",
       "      <th>MACD</th>\n",
       "      <th>SMA</th>\n",
       "      <th>STDEV</th>\n",
       "      <th>Upper_Band</th>\n",
       "      <th>Lower_Band</th>\n",
       "      <th>DIFF</th>\n",
       "    </tr>\n",
       "    <tr>\n",
       "      <th>Date</th>\n",
       "      <th></th>\n",
       "      <th></th>\n",
       "      <th></th>\n",
       "      <th></th>\n",
       "      <th></th>\n",
       "      <th></th>\n",
       "      <th></th>\n",
       "      <th></th>\n",
       "      <th></th>\n",
       "      <th></th>\n",
       "      <th></th>\n",
       "      <th></th>\n",
       "      <th></th>\n",
       "    </tr>\n",
       "  </thead>\n",
       "  <tbody>\n",
       "    <tr>\n",
       "      <th>2011-12-30</th>\n",
       "      <td>30.100000</td>\n",
       "      <td>30.299999</td>\n",
       "      <td>30.080000</td>\n",
       "      <td>30.240000</td>\n",
       "      <td>19.111830</td>\n",
       "      <td>15687800</td>\n",
       "      <td>NaN</td>\n",
       "      <td>NaN</td>\n",
       "      <td>NaN</td>\n",
       "      <td>NaN</td>\n",
       "      <td>NaN</td>\n",
       "      <td>NaN</td>\n",
       "      <td>NaN</td>\n",
       "    </tr>\n",
       "    <tr>\n",
       "      <th>2012-01-03</th>\n",
       "      <td>30.459999</td>\n",
       "      <td>30.540001</td>\n",
       "      <td>30.299999</td>\n",
       "      <td>30.379999</td>\n",
       "      <td>19.200312</td>\n",
       "      <td>33005300</td>\n",
       "      <td>100.000000</td>\n",
       "      <td>NaN</td>\n",
       "      <td>NaN</td>\n",
       "      <td>NaN</td>\n",
       "      <td>NaN</td>\n",
       "      <td>NaN</td>\n",
       "      <td>NaN</td>\n",
       "    </tr>\n",
       "    <tr>\n",
       "      <th>2012-01-04</th>\n",
       "      <td>30.580000</td>\n",
       "      <td>30.680000</td>\n",
       "      <td>30.350000</td>\n",
       "      <td>30.430000</td>\n",
       "      <td>19.231915</td>\n",
       "      <td>37213900</td>\n",
       "      <td>100.000000</td>\n",
       "      <td>NaN</td>\n",
       "      <td>NaN</td>\n",
       "      <td>NaN</td>\n",
       "      <td>NaN</td>\n",
       "      <td>NaN</td>\n",
       "      <td>NaN</td>\n",
       "    </tr>\n",
       "    <tr>\n",
       "      <th>2012-01-05</th>\n",
       "      <td>30.490000</td>\n",
       "      <td>30.500000</td>\n",
       "      <td>30.180000</td>\n",
       "      <td>30.400000</td>\n",
       "      <td>19.212955</td>\n",
       "      <td>34457000</td>\n",
       "      <td>98.426061</td>\n",
       "      <td>NaN</td>\n",
       "      <td>NaN</td>\n",
       "      <td>NaN</td>\n",
       "      <td>NaN</td>\n",
       "      <td>NaN</td>\n",
       "      <td>NaN</td>\n",
       "    </tr>\n",
       "    <tr>\n",
       "      <th>2012-01-06</th>\n",
       "      <td>30.070000</td>\n",
       "      <td>30.090000</td>\n",
       "      <td>29.600000</td>\n",
       "      <td>29.680000</td>\n",
       "      <td>19.033392</td>\n",
       "      <td>45580800</td>\n",
       "      <td>84.871336</td>\n",
       "      <td>NaN</td>\n",
       "      <td>NaN</td>\n",
       "      <td>0.083565</td>\n",
       "      <td>NaN</td>\n",
       "      <td>NaN</td>\n",
       "      <td>NaN</td>\n",
       "    </tr>\n",
       "  </tbody>\n",
       "</table>\n",
       "</div>"
      ],
      "text/plain": [
       "                 Open       High        Low      Close  Adj Close    Volume  \\\n",
       "Date                                                                          \n",
       "2011-12-30  30.100000  30.299999  30.080000  30.240000  19.111830  15687800   \n",
       "2012-01-03  30.459999  30.540001  30.299999  30.379999  19.200312  33005300   \n",
       "2012-01-04  30.580000  30.680000  30.350000  30.430000  19.231915  37213900   \n",
       "2012-01-05  30.490000  30.500000  30.180000  30.400000  19.212955  34457000   \n",
       "2012-01-06  30.070000  30.090000  29.600000  29.680000  19.033392  45580800   \n",
       "\n",
       "                   RSI  MACD  SMA     STDEV  Upper_Band  Lower_Band  DIFF  \n",
       "Date                                                                       \n",
       "2011-12-30         NaN   NaN  NaN       NaN         NaN         NaN   NaN  \n",
       "2012-01-03  100.000000   NaN  NaN       NaN         NaN         NaN   NaN  \n",
       "2012-01-04  100.000000   NaN  NaN       NaN         NaN         NaN   NaN  \n",
       "2012-01-05   98.426061   NaN  NaN       NaN         NaN         NaN   NaN  \n",
       "2012-01-06   84.871336   NaN  NaN  0.083565         NaN         NaN   NaN  "
      ]
     },
     "execution_count": 70,
     "metadata": {},
     "output_type": "execute_result"
    }
   ],
   "source": [
    "#Final dataframe with all the technical indicators\n",
    "final_df.head()"
   ]
  },
  {
   "cell_type": "code",
   "execution_count": 71,
   "metadata": {},
   "outputs": [
    {
     "data": {
      "text/plain": [
       "Open           0\n",
       "High           0\n",
       "Low            0\n",
       "Close          0\n",
       "Adj Close      0\n",
       "Volume         0\n",
       "RSI            1\n",
       "MACD          33\n",
       "SMA           14\n",
       "STDEV          4\n",
       "Upper_Band    14\n",
       "Lower_Band    14\n",
       "DIFF          25\n",
       "dtype: int64"
      ]
     },
     "execution_count": 71,
     "metadata": {},
     "output_type": "execute_result"
    }
   ],
   "source": [
    "#Checking no of null values in each columns\n",
    "final_df.isnull().sum()"
   ]
  },
  {
   "cell_type": "code",
   "execution_count": 72,
   "metadata": {},
   "outputs": [],
   "source": [
    "#Removing null rows from final_df\n",
    "#final_df has 33 null values so dropping those rows --> this is because introduction of technical indicators\n",
    "final_df = final_df[33:]"
   ]
  },
  {
   "cell_type": "code",
   "execution_count": 73,
   "metadata": {},
   "outputs": [],
   "source": [
    "#getting feature df from final_df\n",
    "features_df = final_df[['Open', 'High', 'Low', 'Volume', 'RSI', 'MACD',\n",
    "       'SMA', 'STDEV', 'Upper_Band', 'Lower_Band', 'DIFF']]\n",
    "#getting target df from final_df\n",
    "target_df = final_df[['Adj Close']]"
   ]
  },
  {
   "cell_type": "code",
   "execution_count": 74,
   "metadata": {},
   "outputs": [
    {
     "data": {
      "text/plain": [
       "Open          0\n",
       "High          0\n",
       "Low           0\n",
       "Close         0\n",
       "Adj Close     0\n",
       "Volume        0\n",
       "RSI           0\n",
       "MACD          0\n",
       "SMA           0\n",
       "STDEV         0\n",
       "Upper_Band    0\n",
       "Lower_Band    0\n",
       "DIFF          0\n",
       "dtype: int64"
      ]
     },
     "execution_count": 74,
     "metadata": {},
     "output_type": "execute_result"
    }
   ],
   "source": [
    "#Checking no of null values in each columns\n",
    "final_df.isnull().sum()"
   ]
  },
  {
   "cell_type": "code",
   "execution_count": 75,
   "metadata": {},
   "outputs": [
    {
     "data": {
      "text/html": [
       "<div>\n",
       "<style scoped>\n",
       "    .dataframe tbody tr th:only-of-type {\n",
       "        vertical-align: middle;\n",
       "    }\n",
       "\n",
       "    .dataframe tbody tr th {\n",
       "        vertical-align: top;\n",
       "    }\n",
       "\n",
       "    .dataframe thead th {\n",
       "        text-align: right;\n",
       "    }\n",
       "</style>\n",
       "<table border=\"1\" class=\"dataframe\">\n",
       "  <thead>\n",
       "    <tr style=\"text-align: right;\">\n",
       "      <th></th>\n",
       "      <th>Open</th>\n",
       "      <th>High</th>\n",
       "      <th>Low</th>\n",
       "      <th>Volume</th>\n",
       "      <th>RSI</th>\n",
       "      <th>MACD</th>\n",
       "      <th>SMA</th>\n",
       "      <th>STDEV</th>\n",
       "      <th>Upper_Band</th>\n",
       "      <th>Lower_Band</th>\n",
       "      <th>DIFF</th>\n",
       "    </tr>\n",
       "    <tr>\n",
       "      <th>Date</th>\n",
       "      <th></th>\n",
       "      <th></th>\n",
       "      <th></th>\n",
       "      <th></th>\n",
       "      <th></th>\n",
       "      <th></th>\n",
       "      <th></th>\n",
       "      <th></th>\n",
       "      <th></th>\n",
       "      <th></th>\n",
       "      <th></th>\n",
       "    </tr>\n",
       "  </thead>\n",
       "  <tbody>\n",
       "    <tr>\n",
       "      <th>2012-02-17</th>\n",
       "      <td>30.139999</td>\n",
       "      <td>30.150000</td>\n",
       "      <td>30.000000</td>\n",
       "      <td>31320000</td>\n",
       "      <td>57.729726</td>\n",
       "      <td>0.004170</td>\n",
       "      <td>19.151391</td>\n",
       "      <td>0.049550</td>\n",
       "      <td>19.451273</td>\n",
       "      <td>18.851509</td>\n",
       "      <td>0.011880</td>\n",
       "    </tr>\n",
       "    <tr>\n",
       "      <th>2012-02-21</th>\n",
       "      <td>30.100000</td>\n",
       "      <td>30.400000</td>\n",
       "      <td>30.070000</td>\n",
       "      <td>25388800</td>\n",
       "      <td>64.045029</td>\n",
       "      <td>0.009889</td>\n",
       "      <td>19.194143</td>\n",
       "      <td>0.110461</td>\n",
       "      <td>19.470650</td>\n",
       "      <td>18.917637</td>\n",
       "      <td>0.029695</td>\n",
       "    </tr>\n",
       "    <tr>\n",
       "      <th>2012-02-22</th>\n",
       "      <td>30.250000</td>\n",
       "      <td>30.370001</td>\n",
       "      <td>30.200001</td>\n",
       "      <td>15731900</td>\n",
       "      <td>62.233736</td>\n",
       "      <td>0.016564</td>\n",
       "      <td>19.231337</td>\n",
       "      <td>0.127178</td>\n",
       "      <td>19.461582</td>\n",
       "      <td>19.001093</td>\n",
       "      <td>0.040395</td>\n",
       "    </tr>\n",
       "    <tr>\n",
       "      <th>2012-02-23</th>\n",
       "      <td>30.219999</td>\n",
       "      <td>30.480000</td>\n",
       "      <td>30.219999</td>\n",
       "      <td>22468900</td>\n",
       "      <td>65.380894</td>\n",
       "      <td>0.025252</td>\n",
       "      <td>19.268105</td>\n",
       "      <td>0.128129</td>\n",
       "      <td>19.503844</td>\n",
       "      <td>19.032366</td>\n",
       "      <td>0.057021</td>\n",
       "    </tr>\n",
       "    <tr>\n",
       "      <th>2012-02-24</th>\n",
       "      <td>30.430000</td>\n",
       "      <td>30.490000</td>\n",
       "      <td>30.290001</td>\n",
       "      <td>18273700</td>\n",
       "      <td>61.707784</td>\n",
       "      <td>0.033355</td>\n",
       "      <td>19.291619</td>\n",
       "      <td>0.107461</td>\n",
       "      <td>19.527540</td>\n",
       "      <td>19.055698</td>\n",
       "      <td>0.063539</td>\n",
       "    </tr>\n",
       "  </tbody>\n",
       "</table>\n",
       "</div>"
      ],
      "text/plain": [
       "                 Open       High        Low    Volume        RSI      MACD  \\\n",
       "Date                                                                         \n",
       "2012-02-17  30.139999  30.150000  30.000000  31320000  57.729726  0.004170   \n",
       "2012-02-21  30.100000  30.400000  30.070000  25388800  64.045029  0.009889   \n",
       "2012-02-22  30.250000  30.370001  30.200001  15731900  62.233736  0.016564   \n",
       "2012-02-23  30.219999  30.480000  30.219999  22468900  65.380894  0.025252   \n",
       "2012-02-24  30.430000  30.490000  30.290001  18273700  61.707784  0.033355   \n",
       "\n",
       "                  SMA     STDEV  Upper_Band  Lower_Band      DIFF  \n",
       "Date                                                               \n",
       "2012-02-17  19.151391  0.049550   19.451273   18.851509  0.011880  \n",
       "2012-02-21  19.194143  0.110461   19.470650   18.917637  0.029695  \n",
       "2012-02-22  19.231337  0.127178   19.461582   19.001093  0.040395  \n",
       "2012-02-23  19.268105  0.128129   19.503844   19.032366  0.057021  \n",
       "2012-02-24  19.291619  0.107461   19.527540   19.055698  0.063539  "
      ]
     },
     "metadata": {},
     "output_type": "display_data"
    },
    {
     "data": {
      "text/html": [
       "<div>\n",
       "<style scoped>\n",
       "    .dataframe tbody tr th:only-of-type {\n",
       "        vertical-align: middle;\n",
       "    }\n",
       "\n",
       "    .dataframe tbody tr th {\n",
       "        vertical-align: top;\n",
       "    }\n",
       "\n",
       "    .dataframe thead th {\n",
       "        text-align: right;\n",
       "    }\n",
       "</style>\n",
       "<table border=\"1\" class=\"dataframe\">\n",
       "  <thead>\n",
       "    <tr style=\"text-align: right;\">\n",
       "      <th></th>\n",
       "      <th>Adj Close</th>\n",
       "    </tr>\n",
       "    <tr>\n",
       "      <th>Date</th>\n",
       "      <th></th>\n",
       "    </tr>\n",
       "  </thead>\n",
       "  <tbody>\n",
       "    <tr>\n",
       "      <th>2012-02-17</th>\n",
       "      <td>19.245020</td>\n",
       "    </tr>\n",
       "    <tr>\n",
       "      <th>2012-02-21</th>\n",
       "      <td>19.456642</td>\n",
       "    </tr>\n",
       "    <tr>\n",
       "      <th>2012-02-22</th>\n",
       "      <td>19.418165</td>\n",
       "    </tr>\n",
       "    <tr>\n",
       "      <th>2012-02-23</th>\n",
       "      <td>19.533600</td>\n",
       "    </tr>\n",
       "    <tr>\n",
       "      <th>2012-02-24</th>\n",
       "      <td>19.456642</td>\n",
       "    </tr>\n",
       "  </tbody>\n",
       "</table>\n",
       "</div>"
      ],
      "text/plain": [
       "            Adj Close\n",
       "Date                 \n",
       "2012-02-17  19.245020\n",
       "2012-02-21  19.456642\n",
       "2012-02-22  19.418165\n",
       "2012-02-23  19.533600\n",
       "2012-02-24  19.456642"
      ]
     },
     "metadata": {},
     "output_type": "display_data"
    }
   ],
   "source": [
    "#Check sample of feature and target df\n",
    "display(features_df.head(5))\n",
    "display(target_df.head(5))"
   ]
  },
  {
   "cell_type": "markdown",
   "metadata": {},
   "source": [
    "# Normalizing the data"
   ]
  },
  {
   "cell_type": "code",
   "execution_count": 76,
   "metadata": {},
   "outputs": [],
   "source": [
    "#normalizing features df\n",
    "normalized_features_df = normalize_featuresDF(features_df)"
   ]
  },
  {
   "cell_type": "code",
   "execution_count": 77,
   "metadata": {},
   "outputs": [
    {
     "name": "stdout",
     "output_type": "stream",
     "text": [
      "feature_df has (rows, columns) : (1979, 11) \n",
      "target_df has (rows, columns) : (1979, 1) \n"
     ]
    }
   ],
   "source": [
    "#Get shape of the features and target data\n",
    "print(\"feature_df has (rows, columns) : {} \".format(normalized_features_df.shape))\n",
    "print(\"target_df has (rows, columns) : {} \".format(target_df.shape))"
   ]
  },
  {
   "cell_type": "code",
   "execution_count": 78,
   "metadata": {},
   "outputs": [
    {
     "data": {
      "text/html": [
       "<div>\n",
       "<style scoped>\n",
       "    .dataframe tbody tr th:only-of-type {\n",
       "        vertical-align: middle;\n",
       "    }\n",
       "\n",
       "    .dataframe tbody tr th {\n",
       "        vertical-align: top;\n",
       "    }\n",
       "\n",
       "    .dataframe thead th {\n",
       "        text-align: right;\n",
       "    }\n",
       "</style>\n",
       "<table border=\"1\" class=\"dataframe\">\n",
       "  <thead>\n",
       "    <tr style=\"text-align: right;\">\n",
       "      <th></th>\n",
       "      <th>Open</th>\n",
       "      <th>High</th>\n",
       "      <th>Low</th>\n",
       "      <th>Volume</th>\n",
       "      <th>RSI</th>\n",
       "      <th>MACD</th>\n",
       "      <th>SMA</th>\n",
       "      <th>STDEV</th>\n",
       "      <th>Upper_Band</th>\n",
       "      <th>Lower_Band</th>\n",
       "      <th>DIFF</th>\n",
       "    </tr>\n",
       "    <tr>\n",
       "      <th>Date</th>\n",
       "      <th></th>\n",
       "      <th></th>\n",
       "      <th></th>\n",
       "      <th></th>\n",
       "      <th></th>\n",
       "      <th></th>\n",
       "      <th></th>\n",
       "      <th></th>\n",
       "      <th></th>\n",
       "      <th></th>\n",
       "      <th></th>\n",
       "    </tr>\n",
       "  </thead>\n",
       "  <tbody>\n",
       "    <tr>\n",
       "      <th>2012-02-17</th>\n",
       "      <td>0.165000</td>\n",
       "      <td>0.129829</td>\n",
       "      <td>0.193587</td>\n",
       "      <td>0.129941</td>\n",
       "      <td>0.589340</td>\n",
       "      <td>0.504386</td>\n",
       "      <td>0.000000</td>\n",
       "      <td>0.011878</td>\n",
       "      <td>0.000000</td>\n",
       "      <td>0.000000</td>\n",
       "      <td>0.509690</td>\n",
       "    </tr>\n",
       "    <tr>\n",
       "      <th>2012-02-21</th>\n",
       "      <td>0.162500</td>\n",
       "      <td>0.145662</td>\n",
       "      <td>0.197822</td>\n",
       "      <td>0.098429</td>\n",
       "      <td>0.690997</td>\n",
       "      <td>0.507701</td>\n",
       "      <td>0.002285</td>\n",
       "      <td>0.051259</td>\n",
       "      <td>0.000978</td>\n",
       "      <td>0.003653</td>\n",
       "      <td>0.518948</td>\n",
       "    </tr>\n",
       "    <tr>\n",
       "      <th>2012-02-22</th>\n",
       "      <td>0.171875</td>\n",
       "      <td>0.143762</td>\n",
       "      <td>0.205687</td>\n",
       "      <td>0.047123</td>\n",
       "      <td>0.661841</td>\n",
       "      <td>0.511571</td>\n",
       "      <td>0.004274</td>\n",
       "      <td>0.062068</td>\n",
       "      <td>0.000520</td>\n",
       "      <td>0.008262</td>\n",
       "      <td>0.524509</td>\n",
       "    </tr>\n",
       "    <tr>\n",
       "      <th>2012-02-23</th>\n",
       "      <td>0.170000</td>\n",
       "      <td>0.150728</td>\n",
       "      <td>0.206897</td>\n",
       "      <td>0.082916</td>\n",
       "      <td>0.712501</td>\n",
       "      <td>0.516607</td>\n",
       "      <td>0.006239</td>\n",
       "      <td>0.062682</td>\n",
       "      <td>0.002654</td>\n",
       "      <td>0.009990</td>\n",
       "      <td>0.533149</td>\n",
       "    </tr>\n",
       "    <tr>\n",
       "      <th>2012-02-24</th>\n",
       "      <td>0.183125</td>\n",
       "      <td>0.151362</td>\n",
       "      <td>0.211131</td>\n",
       "      <td>0.060627</td>\n",
       "      <td>0.653375</td>\n",
       "      <td>0.521305</td>\n",
       "      <td>0.007496</td>\n",
       "      <td>0.049320</td>\n",
       "      <td>0.003850</td>\n",
       "      <td>0.011279</td>\n",
       "      <td>0.536537</td>\n",
       "    </tr>\n",
       "    <tr>\n",
       "      <th>...</th>\n",
       "      <td>...</td>\n",
       "      <td>...</td>\n",
       "      <td>...</td>\n",
       "      <td>...</td>\n",
       "      <td>...</td>\n",
       "      <td>...</td>\n",
       "      <td>...</td>\n",
       "      <td>...</td>\n",
       "      <td>...</td>\n",
       "      <td>...</td>\n",
       "      <td>...</td>\n",
       "    </tr>\n",
       "    <tr>\n",
       "      <th>2019-12-23</th>\n",
       "      <td>0.734375</td>\n",
       "      <td>0.717543</td>\n",
       "      <td>0.740472</td>\n",
       "      <td>0.118358</td>\n",
       "      <td>0.651987</td>\n",
       "      <td>0.561653</td>\n",
       "      <td>0.966511</td>\n",
       "      <td>0.144378</td>\n",
       "      <td>0.940278</td>\n",
       "      <td>0.968435</td>\n",
       "      <td>0.618972</td>\n",
       "    </tr>\n",
       "    <tr>\n",
       "      <th>2019-12-24</th>\n",
       "      <td>0.725000</td>\n",
       "      <td>0.697910</td>\n",
       "      <td>0.732002</td>\n",
       "      <td>0.009748</td>\n",
       "      <td>0.618788</td>\n",
       "      <td>0.576828</td>\n",
       "      <td>0.971384</td>\n",
       "      <td>0.077476</td>\n",
       "      <td>0.940467</td>\n",
       "      <td>0.978298</td>\n",
       "      <td>0.625044</td>\n",
       "    </tr>\n",
       "    <tr>\n",
       "      <th>2019-12-26</th>\n",
       "      <td>0.718125</td>\n",
       "      <td>0.702977</td>\n",
       "      <td>0.736237</td>\n",
       "      <td>0.068832</td>\n",
       "      <td>0.658634</td>\n",
       "      <td>0.591515</td>\n",
       "      <td>0.975048</td>\n",
       "      <td>0.046283</td>\n",
       "      <td>0.945906</td>\n",
       "      <td>0.979916</td>\n",
       "      <td>0.636457</td>\n",
       "    </tr>\n",
       "    <tr>\n",
       "      <th>2019-12-27</th>\n",
       "      <td>0.733750</td>\n",
       "      <td>0.713110</td>\n",
       "      <td>0.750151</td>\n",
       "      <td>0.045523</td>\n",
       "      <td>0.674256</td>\n",
       "      <td>0.605639</td>\n",
       "      <td>0.978677</td>\n",
       "      <td>0.046283</td>\n",
       "      <td>0.951452</td>\n",
       "      <td>0.981347</td>\n",
       "      <td>0.647100</td>\n",
       "    </tr>\n",
       "    <tr>\n",
       "      <th>2019-12-30</th>\n",
       "      <td>0.735625</td>\n",
       "      <td>0.708043</td>\n",
       "      <td>0.736842</td>\n",
       "      <td>0.057398</td>\n",
       "      <td>0.609263</td>\n",
       "      <td>0.616639</td>\n",
       "      <td>0.981580</td>\n",
       "      <td>0.047891</td>\n",
       "      <td>0.953703</td>\n",
       "      <td>0.984883</td>\n",
       "      <td>0.645761</td>\n",
       "    </tr>\n",
       "  </tbody>\n",
       "</table>\n",
       "<p>1979 rows × 11 columns</p>\n",
       "</div>"
      ],
      "text/plain": [
       "                Open      High       Low    Volume       RSI      MACD  \\\n",
       "Date                                                                     \n",
       "2012-02-17  0.165000  0.129829  0.193587  0.129941  0.589340  0.504386   \n",
       "2012-02-21  0.162500  0.145662  0.197822  0.098429  0.690997  0.507701   \n",
       "2012-02-22  0.171875  0.143762  0.205687  0.047123  0.661841  0.511571   \n",
       "2012-02-23  0.170000  0.150728  0.206897  0.082916  0.712501  0.516607   \n",
       "2012-02-24  0.183125  0.151362  0.211131  0.060627  0.653375  0.521305   \n",
       "...              ...       ...       ...       ...       ...       ...   \n",
       "2019-12-23  0.734375  0.717543  0.740472  0.118358  0.651987  0.561653   \n",
       "2019-12-24  0.725000  0.697910  0.732002  0.009748  0.618788  0.576828   \n",
       "2019-12-26  0.718125  0.702977  0.736237  0.068832  0.658634  0.591515   \n",
       "2019-12-27  0.733750  0.713110  0.750151  0.045523  0.674256  0.605639   \n",
       "2019-12-30  0.735625  0.708043  0.736842  0.057398  0.609263  0.616639   \n",
       "\n",
       "                 SMA     STDEV  Upper_Band  Lower_Band      DIFF  \n",
       "Date                                                              \n",
       "2012-02-17  0.000000  0.011878    0.000000    0.000000  0.509690  \n",
       "2012-02-21  0.002285  0.051259    0.000978    0.003653  0.518948  \n",
       "2012-02-22  0.004274  0.062068    0.000520    0.008262  0.524509  \n",
       "2012-02-23  0.006239  0.062682    0.002654    0.009990  0.533149  \n",
       "2012-02-24  0.007496  0.049320    0.003850    0.011279  0.536537  \n",
       "...              ...       ...         ...         ...       ...  \n",
       "2019-12-23  0.966511  0.144378    0.940278    0.968435  0.618972  \n",
       "2019-12-24  0.971384  0.077476    0.940467    0.978298  0.625044  \n",
       "2019-12-26  0.975048  0.046283    0.945906    0.979916  0.636457  \n",
       "2019-12-27  0.978677  0.046283    0.951452    0.981347  0.647100  \n",
       "2019-12-30  0.981580  0.047891    0.953703    0.984883  0.645761  \n",
       "\n",
       "[1979 rows x 11 columns]"
      ]
     },
     "metadata": {},
     "output_type": "display_data"
    },
    {
     "data": {
      "text/html": [
       "<div>\n",
       "<style scoped>\n",
       "    .dataframe tbody tr th:only-of-type {\n",
       "        vertical-align: middle;\n",
       "    }\n",
       "\n",
       "    .dataframe tbody tr th {\n",
       "        vertical-align: top;\n",
       "    }\n",
       "\n",
       "    .dataframe thead th {\n",
       "        text-align: right;\n",
       "    }\n",
       "</style>\n",
       "<table border=\"1\" class=\"dataframe\">\n",
       "  <thead>\n",
       "    <tr style=\"text-align: right;\">\n",
       "      <th></th>\n",
       "      <th>Adj Close</th>\n",
       "    </tr>\n",
       "    <tr>\n",
       "      <th>Date</th>\n",
       "      <th></th>\n",
       "    </tr>\n",
       "  </thead>\n",
       "  <tbody>\n",
       "    <tr>\n",
       "      <th>2012-02-17</th>\n",
       "      <td>19.245020</td>\n",
       "    </tr>\n",
       "    <tr>\n",
       "      <th>2012-02-21</th>\n",
       "      <td>19.456642</td>\n",
       "    </tr>\n",
       "    <tr>\n",
       "      <th>2012-02-22</th>\n",
       "      <td>19.418165</td>\n",
       "    </tr>\n",
       "    <tr>\n",
       "      <th>2012-02-23</th>\n",
       "      <td>19.533600</td>\n",
       "    </tr>\n",
       "    <tr>\n",
       "      <th>2012-02-24</th>\n",
       "      <td>19.456642</td>\n",
       "    </tr>\n",
       "    <tr>\n",
       "      <th>...</th>\n",
       "      <td>...</td>\n",
       "    </tr>\n",
       "    <tr>\n",
       "      <th>2019-12-23</th>\n",
       "      <td>37.887470</td>\n",
       "    </tr>\n",
       "    <tr>\n",
       "      <th>2019-12-24</th>\n",
       "      <td>37.780800</td>\n",
       "    </tr>\n",
       "    <tr>\n",
       "      <th>2019-12-26</th>\n",
       "      <td>37.974747</td>\n",
       "    </tr>\n",
       "    <tr>\n",
       "      <th>2019-12-27</th>\n",
       "      <td>38.052326</td>\n",
       "    </tr>\n",
       "    <tr>\n",
       "      <th>2019-12-30</th>\n",
       "      <td>37.858376</td>\n",
       "    </tr>\n",
       "  </tbody>\n",
       "</table>\n",
       "<p>1979 rows × 1 columns</p>\n",
       "</div>"
      ],
      "text/plain": [
       "            Adj Close\n",
       "Date                 \n",
       "2012-02-17  19.245020\n",
       "2012-02-21  19.456642\n",
       "2012-02-22  19.418165\n",
       "2012-02-23  19.533600\n",
       "2012-02-24  19.456642\n",
       "...               ...\n",
       "2019-12-23  37.887470\n",
       "2019-12-24  37.780800\n",
       "2019-12-26  37.974747\n",
       "2019-12-27  38.052326\n",
       "2019-12-30  37.858376\n",
       "\n",
       "[1979 rows x 1 columns]"
      ]
     },
     "metadata": {},
     "output_type": "display_data"
    }
   ],
   "source": [
    "#Look at the final feature df and target df before splitting training/test/validation sets\n",
    "display(normalized_features_df)\n",
    "display(target_df)"
   ]
  },
  {
   "cell_type": "code",
   "execution_count": 79,
   "metadata": {},
   "outputs": [
    {
     "name": "stdout",
     "output_type": "stream",
     "text": [
      "<class 'pandas.core.frame.DataFrame'>\n",
      "DatetimeIndex: 1979 entries, 2012-02-17 to 2019-12-30\n",
      "Data columns (total 11 columns):\n",
      " #   Column      Non-Null Count  Dtype  \n",
      "---  ------      --------------  -----  \n",
      " 0   Open        1979 non-null   float64\n",
      " 1   High        1979 non-null   float64\n",
      " 2   Low         1979 non-null   float64\n",
      " 3   Volume      1979 non-null   float64\n",
      " 4   RSI         1979 non-null   float64\n",
      " 5   MACD        1979 non-null   float64\n",
      " 6   SMA         1979 non-null   float64\n",
      " 7   STDEV       1979 non-null   float64\n",
      " 8   Upper_Band  1979 non-null   float64\n",
      " 9   Lower_Band  1979 non-null   float64\n",
      " 10  DIFF        1979 non-null   float64\n",
      "dtypes: float64(11)\n",
      "memory usage: 185.5 KB\n"
     ]
    }
   ],
   "source": [
    "normalized_features_df.info()"
   ]
  },
  {
   "cell_type": "markdown",
   "metadata": {},
   "source": [
    "# Splitting train, test, validation sets"
   ]
  },
  {
   "cell_type": "code",
   "execution_count": 80,
   "metadata": {},
   "outputs": [],
   "source": [
    "#Splitting validation sets from the final features and target df\n",
    "validation_x, validation_y = split_ValidationSet(normalized_features_df, target_df)"
   ]
  },
  {
   "cell_type": "code",
   "execution_count": 81,
   "metadata": {},
   "outputs": [
    {
     "name": "stdout",
     "output_type": "stream",
     "text": [
      "validation_x has (rows, columns) : (89, 11) \n",
      "validation_y has (rows, columns) : (89, 1) \n"
     ]
    }
   ],
   "source": [
    "print(\"validation_x has (rows, columns) : {} \".format(validation_x.shape))\n",
    "print(\"validation_y has (rows, columns) : {} \".format(validation_y.shape))"
   ]
  },
  {
   "cell_type": "code",
   "execution_count": 82,
   "metadata": {},
   "outputs": [],
   "source": [
    "#splitting train and test set from validation set\n",
    "\n",
    "final_features_df, final_target_df = split_Final_df(normalized_features_df, target_df)"
   ]
  },
  {
   "cell_type": "code",
   "execution_count": 83,
   "metadata": {},
   "outputs": [
    {
     "name": "stdout",
     "output_type": "stream",
     "text": [
      "final_features_df has (rows, columns) : (1889, 11) \n",
      "final_target_df has (rows, columns) : (1889, 1) \n"
     ]
    }
   ],
   "source": [
    "print(\"final_features_df has (rows, columns) : {} \".format(final_features_df.shape))\n",
    "print(\"final_target_df has (rows, columns) : {} \".format(final_target_df.shape))"
   ]
  },
  {
   "cell_type": "markdown",
   "metadata": {},
   "source": [
    "# Splitting Train and Test using Skleans TimeSeriesSplit "
   ]
  },
  {
   "cell_type": "code",
   "execution_count": 84,
   "metadata": {},
   "outputs": [],
   "source": [
    "#splitting train and test\n",
    "x_train, y_train, x_test, y_test = split_Train_Test_DF(final_features_df, final_target_df)"
   ]
  },
  {
   "cell_type": "code",
   "execution_count": 85,
   "metadata": {},
   "outputs": [
    {
     "name": "stdout",
     "output_type": "stream",
     "text": [
      "Shape of training sets x_train : (1718, 11), y_train : (1718,)\n",
      "Shape of testing sets x_train : (171, 11), y_train : (171,)\n"
     ]
    }
   ],
   "source": [
    "print(\"Shape of training sets x_train : {}, y_train : {}\".format(x_train.shape, y_train.shape))\n",
    "print(\"Shape of testing sets x_train : {}, y_train : {}\".format(x_test.shape, y_test.shape))"
   ]
  },
  {
   "cell_type": "code",
   "execution_count": 86,
   "metadata": {},
   "outputs": [
    {
     "data": {
      "image/png": "[encoded data removed]",
      "text/plain": [
       "<Figure size 432x288 with 1 Axes>"
      ]
     },
     "metadata": {
      "needs_background": "light"
     },
     "output_type": "display_data"
    }
   ],
   "source": [
    "#Visualizing the train, test and validation sets in single plot\n",
    "\n",
    "plot_3DataSets()"
   ]
  },
  {
   "cell_type": "markdown",
   "metadata": {},
   "source": [
    "# Model Validation\n",
    "Getting the RMSE and R2 score by predicting the models"
   ]
  },
  {
   "cell_type": "code",
   "execution_count": 87,
   "metadata": {},
   "outputs": [
    {
     "data": {
      "image/png": "[encoded data removed]",
      "text/plain": [
       "<Figure size 432x288 with 1 Axes>"
      ]
     },
     "metadata": {
      "needs_background": "light"
     },
     "output_type": "display_data"
    },
    {
     "name": "stdout",
     "output_type": "stream",
     "text": [
      "Benchmark-DTR RMSE:  3.3797347895153855\n",
      "Benchmark-DTR R2 score:  -6.141965222683424\n"
     ]
    }
   ],
   "source": [
    "#Benchmark - DTR model RMSE and R2 score with plot\n",
    "RMSE_Score, R2_Score = model_validateResult(model_Benchmark_DTR, model_name = \"Benchmark-DTR\")"
   ]
  },
  {
   "cell_type": "code",
   "execution_count": 88,
   "metadata": {},
   "outputs": [
    {
     "name": "stdout",
     "output_type": "stream",
     "text": [
      "RMSE_Score :  3.3797347895153855\n",
      "R2_Score :  -6.141965222683424\n"
     ]
    }
   ],
   "source": [
    "#Benchmark Model\n",
    "print(\"RMSE_Score : \", RMSE_Score)\n",
    "print(\"R2_Score : \", R2_Score)"
   ]
  },
  {
   "cell_type": "markdown",
   "metadata": {},
   "source": [
    "# SVR"
   ]
  },
  {
   "cell_type": "code",
   "execution_count": 89,
   "metadata": {},
   "outputs": [
    {
     "data": {
      "image/png": "[encoded data removed]",
      "text/plain": [
       "<Figure size 432x288 with 1 Axes>"
      ]
     },
     "metadata": {
      "needs_background": "light"
     },
     "output_type": "display_data"
    },
    {
     "name": "stdout",
     "output_type": "stream",
     "text": [
      "SVR RMSE:  0.5465560321861685\n",
      "SVR R2 score:  0.8132236558878775\n"
     ]
    }
   ],
   "source": [
    "#SVR model\n",
    "RMSE_Score, R2_Score = model_validateResult(model_SVR, model_name = \"SVR\")"
   ]
  },
  {
   "cell_type": "code",
   "execution_count": 90,
   "metadata": {},
   "outputs": [
    {
     "name": "stdout",
     "output_type": "stream",
     "text": [
      "{'C': 700.0, 'epsilon': 0.1}\n"
     ]
    },
    {
     "data": {
      "image/png": "[encoded data removed]",
      "text/plain": [
       "<Figure size 432x288 with 1 Axes>"
      ]
     },
     "metadata": {
      "needs_background": "light"
     },
     "output_type": "display_data"
    },
    {
     "name": "stdout",
     "output_type": "stream",
     "text": [
      "SVR_Tuned RMSE:  0.5280982429371495\n",
      "SVR_Tuned R2 score:  0.8256259189929105\n"
     ]
    }
   ],
   "source": [
    "#SVR model Tuning\n",
    "RMSE_Score, R2_Score = model_validateResult(model_SVRTuning, model_name = \"SVR_Tuned\")"
   ]
  },
  {
   "cell_type": "markdown",
   "metadata": {},
   "source": [
    "# Random Forest"
   ]
  },
  {
   "cell_type": "code",
   "execution_count": 91,
   "metadata": {},
   "outputs": [
    {
     "data": {
      "image/png": "[encoded data removed]",
      "text/plain": [
       "<Figure size 432x288 with 1 Axes>"
      ]
     },
     "metadata": {
      "needs_background": "light"
     },
     "output_type": "display_data"
    },
    {
     "name": "stdout",
     "output_type": "stream",
     "text": [
      "RandomForest RMSE:  3.4731870505459805\n",
      "RandomForest R2 score:  -6.542387359319288\n"
     ]
    }
   ],
   "source": [
    "#RF model\n",
    "#Validate result for randomForest\n",
    "RMSE_Score, R2_Score = model_validateResult(model_randomForest, \"RandomForest\")"
   ]
  },
  {
   "cell_type": "code",
   "execution_count": 92,
   "metadata": {},
   "outputs": [
    {
     "name": "stdout",
     "output_type": "stream",
     "text": [
      "{'max_depth': 20, 'max_features': 'auto', 'n_estimators': 100}\n"
     ]
    },
    {
     "data": {
      "image/png": "[encoded data removed]",
      "text/plain": [
       "<Figure size 432x288 with 1 Axes>"
      ]
     },
     "metadata": {
      "needs_background": "light"
     },
     "output_type": "display_data"
    },
    {
     "name": "stdout",
     "output_type": "stream",
     "text": [
      "RandomForest_Tuned RMSE:  3.4890874818522417\n",
      "RandomForest_Tuned R2 score:  -6.611604321640032\n"
     ]
    }
   ],
   "source": [
    "#Tuned RF model\n",
    "RMSE_Score, R2_Score = model_validateResult(model_randomForestTuning, \"RandomForest_Tuned\")"
   ]
  },
  {
   "cell_type": "markdown",
   "metadata": {},
   "source": [
    "# LSTM"
   ]
  },
  {
   "cell_type": "code",
   "execution_count": 93,
   "metadata": {
    "scrolled": false
   },
   "outputs": [
    {
     "name": "stdout",
     "output_type": "stream",
     "text": [
      "Epoch 1/200\n",
      "1718/1718 [==============================] - 6s 3ms/step - loss: 749.3011\n",
      "Epoch 2/200\n",
      "1718/1718 [==============================] - 1s 490us/step - loss: 374.0419\n",
      "Epoch 3/200\n",
      "1718/1718 [==============================] - 1s 486us/step - loss: 209.0701\n",
      "Epoch 4/200\n",
      "1718/1718 [==============================] - 1s 502us/step - loss: 149.8225\n",
      "Epoch 5/200\n",
      "1718/1718 [==============================] - 2s 986us/step - loss: 107.6987\n",
      "Epoch 6/200\n",
      "1718/1718 [==============================] - 1s 749us/step - loss: 78.8775\n",
      "Epoch 7/200\n",
      "1718/1718 [==============================] - 1s 698us/step - loss: 58.7365\n",
      "Epoch 8/200\n",
      "1718/1718 [==============================] - 1s 510us/step - loss: 45.2322\n",
      "Epoch 9/200\n",
      "1718/1718 [==============================] - 1s 503us/step - loss: 35.6175\n",
      "Epoch 10/200\n",
      "1718/1718 [==============================] - 1s 496us/step - loss: 28.8678\n",
      "Epoch 11/200\n",
      "1718/1718 [==============================] - 1s 511us/step - loss: 24.5085\n",
      "Epoch 12/200\n",
      "1718/1718 [==============================] - 1s 488us/step - loss: 22.5278\n",
      "Epoch 13/200\n",
      "1718/1718 [==============================] - 1s 780us/step - loss: 20.3089\n",
      "Epoch 14/200\n",
      "1718/1718 [==============================] - 1s 624us/step - loss: 19.5525\n",
      "Epoch 15/200\n",
      "1718/1718 [==============================] - 1s 446us/step - loss: 19.7461\n",
      "Epoch 16/200\n",
      "1718/1718 [==============================] - 1s 443us/step - loss: 18.9256\n",
      "Epoch 17/200\n",
      "1718/1718 [==============================] - 1s 498us/step - loss: 18.8736\n",
      "Epoch 18/200\n",
      "1718/1718 [==============================] - 1s 447us/step - loss: 18.7512\n",
      "Epoch 19/200\n",
      "1718/1718 [==============================] - 1s 434us/step - loss: 19.0120\n",
      "Epoch 20/200\n",
      "1718/1718 [==============================] - 1s 425us/step - loss: 18.5633\n",
      "Epoch 21/200\n",
      "1718/1718 [==============================] - 1s 429us/step - loss: 18.8730\n",
      "Epoch 22/200\n",
      "1718/1718 [==============================] - 1s 457us/step - loss: 18.8679\n",
      "Epoch 23/200\n",
      "1718/1718 [==============================] - 1s 435us/step - loss: 18.6559\n",
      "Epoch 24/200\n",
      "1718/1718 [==============================] - 1s 442us/step - loss: 18.7378\n",
      "Epoch 25/200\n",
      "1718/1718 [==============================] - 1s 440us/step - loss: 18.6954\n",
      "Epoch 00025: early stopping\n"
     ]
    },
    {
     "data": {
      "image/png": "[encoded data removed]",
      "text/plain": [
       "<Figure size 432x288 with 1 Axes>"
      ]
     },
     "metadata": {
      "needs_background": "light"
     },
     "output_type": "display_data"
    },
    {
     "name": "stdout",
     "output_type": "stream",
     "text": [
      "LSTM RMSE:  9.211724550446645\n",
      "LSTM R2 score:  -52.05598394393387\n"
     ]
    }
   ],
   "source": [
    "#Before validating the model first need to format the data as per LSTM.\n",
    "#\n",
    "RMSE_Score, R2_Score = model_validateResult(model_LSTM, \"LSTM\")"
   ]
  },
  {
   "cell_type": "code",
   "execution_count": 94,
   "metadata": {},
   "outputs": [
    {
     "name": "stdout",
     "output_type": "stream",
     "text": [
      "Epoch 1/200\n",
      "1718/1718 [==============================] - 6s 3ms/step - loss: 586.5296\n",
      "Epoch 2/200\n",
      "1718/1718 [==============================] - 1s 763us/step - loss: 201.0336\n",
      "Epoch 3/200\n",
      "1718/1718 [==============================] - 1s 760us/step - loss: 109.7688\n",
      "Epoch 4/200\n",
      "1718/1718 [==============================] - 1s 802us/step - loss: 67.2375\n",
      "Epoch 5/200\n",
      "1718/1718 [==============================] - 1s 796us/step - loss: 44.8326\n",
      "Epoch 6/200\n",
      "1718/1718 [==============================] - 1s 766us/step - loss: 35.2450\n",
      "Epoch 7/200\n",
      "1718/1718 [==============================] - 1s 754us/step - loss: 32.5811\n",
      "Epoch 8/200\n",
      "1718/1718 [==============================] - 1s 766us/step - loss: 31.2160\n",
      "Epoch 9/200\n",
      "1718/1718 [==============================] - 1s 755us/step - loss: 29.1555\n",
      "Epoch 10/200\n",
      "1718/1718 [==============================] - 1s 760us/step - loss: 29.1866\n",
      "Epoch 11/200\n",
      "1718/1718 [==============================] - 1s 772us/step - loss: 30.6320\n",
      "Epoch 12/200\n",
      "1718/1718 [==============================] - 1s 772us/step - loss: 29.2802\n",
      "Epoch 13/200\n",
      "1718/1718 [==============================] - 1s 787us/step - loss: 28.0465\n",
      "Epoch 14/200\n",
      "1718/1718 [==============================] - 1s 757us/step - loss: 30.7018\n",
      "Epoch 15/200\n",
      "1718/1718 [==============================] - 1s 760us/step - loss: 27.8415\n",
      "Epoch 16/200\n",
      "1718/1718 [==============================] - 1s 762us/step - loss: 25.2591\n",
      "Epoch 17/200\n",
      "1718/1718 [==============================] - 1s 759us/step - loss: 23.4028\n",
      "Epoch 18/200\n",
      "1718/1718 [==============================] - 1s 754us/step - loss: 22.5712\n",
      "Epoch 19/200\n",
      "1718/1718 [==============================] - 1s 735us/step - loss: 19.9930\n",
      "Epoch 20/200\n",
      "1718/1718 [==============================] - 1s 727us/step - loss: 19.8327\n",
      "Epoch 21/200\n",
      "1718/1718 [==============================] - 1s 759us/step - loss: 19.7327\n",
      "Epoch 22/200\n",
      "1718/1718 [==============================] - 1s 763us/step - loss: 18.2898\n",
      "Epoch 23/200\n",
      "1718/1718 [==============================] - 1s 760us/step - loss: 19.0861\n",
      "Epoch 24/200\n",
      "1718/1718 [==============================] - 1s 749us/step - loss: 18.6991\n",
      "Epoch 25/200\n",
      "1718/1718 [==============================] - 1s 752us/step - loss: 17.7489\n",
      "Epoch 26/200\n",
      "1718/1718 [==============================] - 1s 742us/step - loss: 18.1983\n",
      "Epoch 27/200\n",
      "1718/1718 [==============================] - 1s 779us/step - loss: 17.3823\n",
      "Epoch 28/200\n",
      "1718/1718 [==============================] - 1s 751us/step - loss: 17.2543\n",
      "Epoch 29/200\n",
      "1718/1718 [==============================] - 1s 752us/step - loss: 17.6995\n",
      "Epoch 30/200\n",
      "1718/1718 [==============================] - 1s 749us/step - loss: 17.2892\n",
      "Epoch 31/200\n",
      "1718/1718 [==============================] - 1s 752us/step - loss: 16.9957\n",
      "Epoch 32/200\n",
      "1718/1718 [==============================] - 1s 749us/step - loss: 18.5250\n",
      "Epoch 33/200\n",
      "1718/1718 [==============================] - 1s 775us/step - loss: 17.6837\n",
      "Epoch 34/200\n",
      "1718/1718 [==============================] - 1s 769us/step - loss: 16.8746\n",
      "Epoch 35/200\n",
      "1718/1718 [==============================] - 1s 785us/step - loss: 15.9117\n",
      "Epoch 36/200\n",
      "1718/1718 [==============================] - 2s 895us/step - loss: 16.7477\n",
      "Epoch 37/200\n",
      "1718/1718 [==============================] - 1s 755us/step - loss: 16.6324\n",
      "Epoch 38/200\n",
      "1718/1718 [==============================] - 1s 753us/step - loss: 17.1980\n",
      "Epoch 39/200\n",
      "1718/1718 [==============================] - 1s 758us/step - loss: 16.4253\n",
      "Epoch 40/200\n",
      "1718/1718 [==============================] - 1s 747us/step - loss: 15.9173\n",
      "Epoch 00040: early stopping\n"
     ]
    },
    {
     "data": {
      "image/png": "[encoded data removed]",
      "text/plain": [
       "<Figure size 432x288 with 1 Axes>"
      ]
     },
     "metadata": {
      "needs_background": "light"
     },
     "output_type": "display_data"
    },
    {
     "name": "stdout",
     "output_type": "stream",
     "text": [
      "LSTM_Tuned RMSE:  4.313116748225611\n",
      "LSTM_Tuned R2 score:  -10.631478291317537\n"
     ]
    }
   ],
   "source": [
    "#LSTM Tuned\n",
    "RMSE_Score, R2_Score = model_validateResult(model_LSTMTuning, \"LSTM_Tuned\")"
   ]
  },
  {
   "cell_type": "markdown",
   "metadata": {},
   "source": [
    "# Best Model\n",
    "# SVM vs Benchmark- DecisionTreeRegressor"
   ]
  },
  {
   "cell_type": "code",
   "execution_count": 95,
   "metadata": {},
   "outputs": [],
   "source": [
    "# SVR with tuned hyper parameter is best model in above cases.\n",
    "#So i am using SVR Tunned model as final solution model.\n",
    "# Evaluatiing Benchmark and Best model with testing set.\n",
    "\n"
   ]
  },
  {
   "cell_type": "code",
   "execution_count": 96,
   "metadata": {},
   "outputs": [
    {
     "name": "stdout",
     "output_type": "stream",
     "text": [
      "{'C': 700.0, 'epsilon': 0.1}\n",
      "SVR_Best Model RMSE:  0.22409840651574023\n",
      "SVR_Best Model R2 score:  0.9857352265813928\n"
     ]
    },
    {
     "data": {
      "image/png": "[encoded data removed]",
      "text/plain": [
       "<Figure size 432x288 with 1 Axes>"
      ]
     },
     "metadata": {
      "needs_background": "light"
     },
     "output_type": "display_data"
    }
   ],
   "source": [
    "#SVR_Tuning model validation with test data\n",
    "RMSE_Score, R2_Score = bestModel_validateResult(model_SVRTuning, model_name = \"SVR_Best Model\")\n"
   ]
  },
  {
   "cell_type": "code",
   "execution_count": 97,
   "metadata": {},
   "outputs": [
    {
     "name": "stdout",
     "output_type": "stream",
     "text": [
      "Benchmark-DTR RMSE:  0.7520435533583852\n",
      "Benchmark-DTR R2 score:  0.8393527386061143\n"
     ]
    },
    {
     "data": {
      "image/png": "[encoded data removed]",
      "text/plain": [
       "<Figure size 432x288 with 1 Axes>"
      ]
     },
     "metadata": {
      "needs_background": "light"
     },
     "output_type": "display_data"
    }
   ],
   "source": [
    "#Benchmarking model validation with test data\n",
    "RMSE_Score, R2_Score = bestModel_validateResult(model_Benchmark_DTR, model_name = \"Benchmark-DTR\")"
   ]
  },
  {
   "cell_type": "code",
   "execution_count": 99,
   "metadata": {},
   "outputs": [
    {
     "data": {
      "text/html": [
       "<div>\n",
       "<style scoped>\n",
       "    .dataframe tbody tr th:only-of-type {\n",
       "        vertical-align: middle;\n",
       "    }\n",
       "\n",
       "    .dataframe tbody tr th {\n",
       "        vertical-align: top;\n",
       "    }\n",
       "\n",
       "    .dataframe thead th {\n",
       "        text-align: right;\n",
       "    }\n",
       "</style>\n",
       "<table border=\"1\" class=\"dataframe\">\n",
       "  <thead>\n",
       "    <tr style=\"text-align: right;\">\n",
       "      <th></th>\n",
       "      <th>True_value</th>\n",
       "      <th>Predicted_value</th>\n",
       "    </tr>\n",
       "  </thead>\n",
       "  <tbody>\n",
       "    <tr>\n",
       "      <th>0</th>\n",
       "      <td>27.242346</td>\n",
       "      <td>27.324455</td>\n",
       "    </tr>\n",
       "    <tr>\n",
       "      <th>1</th>\n",
       "      <td>27.141987</td>\n",
       "      <td>27.324455</td>\n",
       "    </tr>\n",
       "    <tr>\n",
       "      <th>2</th>\n",
       "      <td>27.205853</td>\n",
       "      <td>27.324455</td>\n",
       "    </tr>\n",
       "    <tr>\n",
       "      <th>3</th>\n",
       "      <td>26.138416</td>\n",
       "      <td>27.041630</td>\n",
       "    </tr>\n",
       "    <tr>\n",
       "      <th>4</th>\n",
       "      <td>25.828224</td>\n",
       "      <td>27.041630</td>\n",
       "    </tr>\n",
       "    <tr>\n",
       "      <th>...</th>\n",
       "      <td>...</td>\n",
       "      <td>...</td>\n",
       "    </tr>\n",
       "    <tr>\n",
       "      <th>166</th>\n",
       "      <td>32.847504</td>\n",
       "      <td>32.031246</td>\n",
       "    </tr>\n",
       "    <tr>\n",
       "      <th>167</th>\n",
       "      <td>33.450123</td>\n",
       "      <td>32.031246</td>\n",
       "    </tr>\n",
       "    <tr>\n",
       "      <th>168</th>\n",
       "      <td>33.842304</td>\n",
       "      <td>32.031246</td>\n",
       "    </tr>\n",
       "    <tr>\n",
       "      <th>169</th>\n",
       "      <td>33.459682</td>\n",
       "      <td>32.031246</td>\n",
       "    </tr>\n",
       "    <tr>\n",
       "      <th>170</th>\n",
       "      <td>33.631863</td>\n",
       "      <td>32.031246</td>\n",
       "    </tr>\n",
       "  </tbody>\n",
       "</table>\n",
       "<p>171 rows × 2 columns</p>\n",
       "</div>"
      ],
      "text/plain": [
       "     True_value  Predicted_value\n",
       "0     27.242346        27.324455\n",
       "1     27.141987        27.324455\n",
       "2     27.205853        27.324455\n",
       "3     26.138416        27.041630\n",
       "4     25.828224        27.041630\n",
       "..          ...              ...\n",
       "166   32.847504        32.031246\n",
       "167   33.450123        32.031246\n",
       "168   33.842304        32.031246\n",
       "169   33.459682        32.031246\n",
       "170   33.631863        32.031246\n",
       "\n",
       "[171 rows x 2 columns]"
      ]
     },
     "metadata": {},
     "output_type": "display_data"
    }
   ],
   "source": [
    "#Benchmark model actual vs prected value\n",
    "att_bench_df = value_Compare(model_Benchmark_DTR)\n",
    "display(att_bench_df)"
   ]
  },
  {
   "cell_type": "code",
   "execution_count": 100,
   "metadata": {},
   "outputs": [
    {
     "name": "stdout",
     "output_type": "stream",
     "text": [
      "{'C': 700.0, 'epsilon': 0.1}\n"
     ]
    },
    {
     "data": {
      "text/html": [
       "<div>\n",
       "<style scoped>\n",
       "    .dataframe tbody tr th:only-of-type {\n",
       "        vertical-align: middle;\n",
       "    }\n",
       "\n",
       "    .dataframe tbody tr th {\n",
       "        vertical-align: top;\n",
       "    }\n",
       "\n",
       "    .dataframe thead th {\n",
       "        text-align: right;\n",
       "    }\n",
       "</style>\n",
       "<table border=\"1\" class=\"dataframe\">\n",
       "  <thead>\n",
       "    <tr style=\"text-align: right;\">\n",
       "      <th></th>\n",
       "      <th>True_value</th>\n",
       "      <th>Predicted_value</th>\n",
       "    </tr>\n",
       "  </thead>\n",
       "  <tbody>\n",
       "    <tr>\n",
       "      <th>0</th>\n",
       "      <td>27.242346</td>\n",
       "      <td>27.384466</td>\n",
       "    </tr>\n",
       "    <tr>\n",
       "      <th>1</th>\n",
       "      <td>27.141987</td>\n",
       "      <td>27.453404</td>\n",
       "    </tr>\n",
       "    <tr>\n",
       "      <th>2</th>\n",
       "      <td>27.205853</td>\n",
       "      <td>27.380427</td>\n",
       "    </tr>\n",
       "    <tr>\n",
       "      <th>3</th>\n",
       "      <td>26.138416</td>\n",
       "      <td>26.469648</td>\n",
       "    </tr>\n",
       "    <tr>\n",
       "      <th>4</th>\n",
       "      <td>25.828224</td>\n",
       "      <td>26.526224</td>\n",
       "    </tr>\n",
       "    <tr>\n",
       "      <th>...</th>\n",
       "      <td>...</td>\n",
       "      <td>...</td>\n",
       "    </tr>\n",
       "    <tr>\n",
       "      <th>166</th>\n",
       "      <td>32.847504</td>\n",
       "      <td>32.795403</td>\n",
       "    </tr>\n",
       "    <tr>\n",
       "      <th>167</th>\n",
       "      <td>33.450123</td>\n",
       "      <td>33.172082</td>\n",
       "    </tr>\n",
       "    <tr>\n",
       "      <th>168</th>\n",
       "      <td>33.842304</td>\n",
       "      <td>33.441133</td>\n",
       "    </tr>\n",
       "    <tr>\n",
       "      <th>169</th>\n",
       "      <td>33.459682</td>\n",
       "      <td>33.182074</td>\n",
       "    </tr>\n",
       "    <tr>\n",
       "      <th>170</th>\n",
       "      <td>33.631863</td>\n",
       "      <td>33.327428</td>\n",
       "    </tr>\n",
       "  </tbody>\n",
       "</table>\n",
       "<p>171 rows × 2 columns</p>\n",
       "</div>"
      ],
      "text/plain": [
       "     True_value  Predicted_value\n",
       "0     27.242346        27.384466\n",
       "1     27.141987        27.453404\n",
       "2     27.205853        27.380427\n",
       "3     26.138416        26.469648\n",
       "4     25.828224        26.526224\n",
       "..          ...              ...\n",
       "166   32.847504        32.795403\n",
       "167   33.450123        33.172082\n",
       "168   33.842304        33.441133\n",
       "169   33.459682        33.182074\n",
       "170   33.631863        33.327428\n",
       "\n",
       "[171 rows x 2 columns]"
      ]
     },
     "metadata": {},
     "output_type": "display_data"
    }
   ],
   "source": [
    "#SVM_Tuned model actual vs prected value\n",
    "att_pred_df = value_Compare(model_SVRTuning)\n",
    "display(att_pred_df)"
   ]
  },
  {
   "cell_type": "markdown",
   "metadata": {},
   "source": [
    "# Conclusion"
   ]
  },
  {
   "attachments": {},
   "cell_type": "markdown",
   "metadata": {},
   "source": [
    "   After looking at RMSE and R2 scores of all the solution models i am using SVR as best solution model. Actual trendline and predicted trendline clearly shows that SVR model is good fit for this stocks. After tuning SVR model with C and epsilon prediction is improved. So I will consider this parameter for the modelling.\n",
    "     \n",
    "   I can say that it is impossible to get 99% model prediction because there are too many factors can affect the stock prices. But we can atleast predict the general trendline by taking vairous factors into consideration.\n",
    "     \n",
    "     \n",
    "     \n",
    "# Challenges\n",
    "\n",
    "  I spent most of the time on data exploration, feature extraction. As i am new to ML, it was very hard to decide good model for this project and also i spent whole 2days to decide technical indicators. Formatting the data for LSTM model is other difficult step for me.\n",
    "    \n",
    "# Improvement\n",
    "\n",
    "  Thre are number of algorithms to predict the time-series analysis and various technical indicators. We can also predict by considering sentiments from news, social media and different sources. For this project i have just selected basic methods, as i move forward i will add more useful inputs to models. \n",
    "    \n",
    "   Stock prediction is time-series analysis instead 8 years of historical data, I shoud have used more. And also by increasing the epoches and trying differenct activation function and model funcitions i would have got better result.\n",
    "\n",
    "This is not the end for me to learn Machine Learning, it's just beginning...\n",
    "   "
   ]
  },
  {
   "cell_type": "code",
   "execution_count": null,
   "metadata": {},
   "outputs": [],
   "source": []
  }
 ],
 "metadata": {
  "kernelspec": {
   "display_name": "Python 3",
   "language": "python",
   "name": "python3"
  },
  "language_info": {
   "codemirror_mode": {
    "name": "ipython",
    "version": 3
   },
   "file_extension": ".py",
   "mimetype": "text/x-python",
   "name": "python",
   "nbconvert_exporter": "python",
   "pygments_lexer": "ipython3",
   "version": "3.7.6"
  }
 },
 "nbformat": 4,
 "nbformat_minor": 4
}
